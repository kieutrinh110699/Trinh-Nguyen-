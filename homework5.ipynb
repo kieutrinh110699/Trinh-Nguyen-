{
 "cells": [
  {
   "cell_type": "code",
   "execution_count": 2,
   "id": "23f825c4",
   "metadata": {},
   "outputs": [],
   "source": [
    "from sklearn.linear_model import LinearRegression\n",
    "import statsmodels.api as sm\n",
    "import pandas as pd\n",
    "import numpy as np\n",
    "import seaborn as sns\n",
    "from matplotlib import pyplot as plt\n",
    "from statsmodels.stats.outliers_influence import variance_inflation_factor"
   ]
  },
  {
   "cell_type": "code",
   "execution_count": 3,
   "id": "f5489099",
   "metadata": {},
   "outputs": [],
   "source": [
    "df = pd.read_csv('fish.csv')"
   ]
  },
  {
   "cell_type": "code",
   "execution_count": 4,
   "id": "6ab85505",
   "metadata": {},
   "outputs": [
    {
     "data": {
      "text/html": [
       "<div>\n",
       "<style scoped>\n",
       "    .dataframe tbody tr th:only-of-type {\n",
       "        vertical-align: middle;\n",
       "    }\n",
       "\n",
       "    .dataframe tbody tr th {\n",
       "        vertical-align: top;\n",
       "    }\n",
       "\n",
       "    .dataframe thead th {\n",
       "        text-align: right;\n",
       "    }\n",
       "</style>\n",
       "<table border=\"1\" class=\"dataframe\">\n",
       "  <thead>\n",
       "    <tr style=\"text-align: right;\">\n",
       "      <th></th>\n",
       "      <th>Bream</th>\n",
       "      <th>Parkki</th>\n",
       "      <th>Perch</th>\n",
       "      <th>Pike</th>\n",
       "      <th>Roach</th>\n",
       "      <th>Smelt</th>\n",
       "      <th>Whitefish</th>\n",
       "    </tr>\n",
       "  </thead>\n",
       "  <tbody>\n",
       "    <tr>\n",
       "      <th>0</th>\n",
       "      <td>1</td>\n",
       "      <td>0</td>\n",
       "      <td>0</td>\n",
       "      <td>0</td>\n",
       "      <td>0</td>\n",
       "      <td>0</td>\n",
       "      <td>0</td>\n",
       "    </tr>\n",
       "    <tr>\n",
       "      <th>1</th>\n",
       "      <td>1</td>\n",
       "      <td>0</td>\n",
       "      <td>0</td>\n",
       "      <td>0</td>\n",
       "      <td>0</td>\n",
       "      <td>0</td>\n",
       "      <td>0</td>\n",
       "    </tr>\n",
       "    <tr>\n",
       "      <th>2</th>\n",
       "      <td>1</td>\n",
       "      <td>0</td>\n",
       "      <td>0</td>\n",
       "      <td>0</td>\n",
       "      <td>0</td>\n",
       "      <td>0</td>\n",
       "      <td>0</td>\n",
       "    </tr>\n",
       "    <tr>\n",
       "      <th>3</th>\n",
       "      <td>1</td>\n",
       "      <td>0</td>\n",
       "      <td>0</td>\n",
       "      <td>0</td>\n",
       "      <td>0</td>\n",
       "      <td>0</td>\n",
       "      <td>0</td>\n",
       "    </tr>\n",
       "    <tr>\n",
       "      <th>4</th>\n",
       "      <td>1</td>\n",
       "      <td>0</td>\n",
       "      <td>0</td>\n",
       "      <td>0</td>\n",
       "      <td>0</td>\n",
       "      <td>0</td>\n",
       "      <td>0</td>\n",
       "    </tr>\n",
       "    <tr>\n",
       "      <th>...</th>\n",
       "      <td>...</td>\n",
       "      <td>...</td>\n",
       "      <td>...</td>\n",
       "      <td>...</td>\n",
       "      <td>...</td>\n",
       "      <td>...</td>\n",
       "      <td>...</td>\n",
       "    </tr>\n",
       "    <tr>\n",
       "      <th>154</th>\n",
       "      <td>0</td>\n",
       "      <td>0</td>\n",
       "      <td>0</td>\n",
       "      <td>0</td>\n",
       "      <td>0</td>\n",
       "      <td>1</td>\n",
       "      <td>0</td>\n",
       "    </tr>\n",
       "    <tr>\n",
       "      <th>155</th>\n",
       "      <td>0</td>\n",
       "      <td>0</td>\n",
       "      <td>0</td>\n",
       "      <td>0</td>\n",
       "      <td>0</td>\n",
       "      <td>1</td>\n",
       "      <td>0</td>\n",
       "    </tr>\n",
       "    <tr>\n",
       "      <th>156</th>\n",
       "      <td>0</td>\n",
       "      <td>0</td>\n",
       "      <td>0</td>\n",
       "      <td>0</td>\n",
       "      <td>0</td>\n",
       "      <td>1</td>\n",
       "      <td>0</td>\n",
       "    </tr>\n",
       "    <tr>\n",
       "      <th>157</th>\n",
       "      <td>0</td>\n",
       "      <td>0</td>\n",
       "      <td>0</td>\n",
       "      <td>0</td>\n",
       "      <td>0</td>\n",
       "      <td>1</td>\n",
       "      <td>0</td>\n",
       "    </tr>\n",
       "    <tr>\n",
       "      <th>158</th>\n",
       "      <td>0</td>\n",
       "      <td>0</td>\n",
       "      <td>0</td>\n",
       "      <td>0</td>\n",
       "      <td>0</td>\n",
       "      <td>1</td>\n",
       "      <td>0</td>\n",
       "    </tr>\n",
       "  </tbody>\n",
       "</table>\n",
       "<p>159 rows × 7 columns</p>\n",
       "</div>"
      ],
      "text/plain": [
       "     Bream  Parkki  Perch  Pike  Roach  Smelt  Whitefish\n",
       "0        1       0      0     0      0      0          0\n",
       "1        1       0      0     0      0      0          0\n",
       "2        1       0      0     0      0      0          0\n",
       "3        1       0      0     0      0      0          0\n",
       "4        1       0      0     0      0      0          0\n",
       "..     ...     ...    ...   ...    ...    ...        ...\n",
       "154      0       0      0     0      0      1          0\n",
       "155      0       0      0     0      0      1          0\n",
       "156      0       0      0     0      0      1          0\n",
       "157      0       0      0     0      0      1          0\n",
       "158      0       0      0     0      0      1          0\n",
       "\n",
       "[159 rows x 7 columns]"
      ]
     },
     "execution_count": 4,
     "metadata": {},
     "output_type": "execute_result"
    }
   ],
   "source": [
    "#1\n",
    "pd.get_dummies(df.Species)"
   ]
  },
  {
   "cell_type": "code",
   "execution_count": 5,
   "id": "369b76da",
   "metadata": {},
   "outputs": [],
   "source": [
    "df['Perch'] = pd.get_dummies(df.Species)['Perch']"
   ]
  },
  {
   "cell_type": "code",
   "execution_count": 6,
   "id": "8a5f7a12",
   "metadata": {},
   "outputs": [],
   "source": [
    "df['Bream'] = pd.get_dummies(df.Species)['Bream']"
   ]
  },
  {
   "cell_type": "code",
   "execution_count": 7,
   "id": "ab8d226d",
   "metadata": {},
   "outputs": [],
   "source": [
    "df['Smelt'] = pd.get_dummies(df.Species)['Smelt']\n"
   ]
  },
  {
   "cell_type": "code",
   "execution_count": 8,
   "id": "e94a655f",
   "metadata": {},
   "outputs": [],
   "source": [
    "df['Parkki'] = pd.get_dummies(df.Species)['Parkki']"
   ]
  },
  {
   "cell_type": "code",
   "execution_count": 9,
   "id": "ec360d06",
   "metadata": {},
   "outputs": [],
   "source": [
    "df['Pike'] = pd.get_dummies(df.Species)['Pike']"
   ]
  },
  {
   "cell_type": "code",
   "execution_count": 10,
   "id": "375ed940",
   "metadata": {},
   "outputs": [],
   "source": [
    "df['Roach'] = pd.get_dummies(df.Species)['Roach']"
   ]
  },
  {
   "cell_type": "code",
   "execution_count": 11,
   "id": "4c3f5ff7",
   "metadata": {},
   "outputs": [
    {
     "data": {
      "text/html": [
       "<div>\n",
       "<style scoped>\n",
       "    .dataframe tbody tr th:only-of-type {\n",
       "        vertical-align: middle;\n",
       "    }\n",
       "\n",
       "    .dataframe tbody tr th {\n",
       "        vertical-align: top;\n",
       "    }\n",
       "\n",
       "    .dataframe thead th {\n",
       "        text-align: right;\n",
       "    }\n",
       "</style>\n",
       "<table border=\"1\" class=\"dataframe\">\n",
       "  <thead>\n",
       "    <tr style=\"text-align: right;\">\n",
       "      <th></th>\n",
       "      <th>Weight</th>\n",
       "      <th>Length1</th>\n",
       "      <th>Length2</th>\n",
       "      <th>Length3</th>\n",
       "      <th>Height</th>\n",
       "      <th>Width</th>\n",
       "      <th>Perch</th>\n",
       "      <th>Bream</th>\n",
       "      <th>Smelt</th>\n",
       "      <th>Parkki</th>\n",
       "      <th>Pike</th>\n",
       "      <th>Roach</th>\n",
       "    </tr>\n",
       "  </thead>\n",
       "  <tbody>\n",
       "    <tr>\n",
       "      <th>count</th>\n",
       "      <td>159.000000</td>\n",
       "      <td>159.000000</td>\n",
       "      <td>159.000000</td>\n",
       "      <td>159.000000</td>\n",
       "      <td>159.000000</td>\n",
       "      <td>159.000000</td>\n",
       "      <td>159.000000</td>\n",
       "      <td>159.000000</td>\n",
       "      <td>159.000000</td>\n",
       "      <td>159.000000</td>\n",
       "      <td>159.000000</td>\n",
       "      <td>159.000000</td>\n",
       "    </tr>\n",
       "    <tr>\n",
       "      <th>mean</th>\n",
       "      <td>398.326415</td>\n",
       "      <td>26.247170</td>\n",
       "      <td>28.415723</td>\n",
       "      <td>31.227044</td>\n",
       "      <td>8.970994</td>\n",
       "      <td>4.417486</td>\n",
       "      <td>0.352201</td>\n",
       "      <td>0.220126</td>\n",
       "      <td>0.088050</td>\n",
       "      <td>0.069182</td>\n",
       "      <td>0.106918</td>\n",
       "      <td>0.125786</td>\n",
       "    </tr>\n",
       "    <tr>\n",
       "      <th>std</th>\n",
       "      <td>357.978317</td>\n",
       "      <td>9.996441</td>\n",
       "      <td>10.716328</td>\n",
       "      <td>11.610246</td>\n",
       "      <td>4.286208</td>\n",
       "      <td>1.685804</td>\n",
       "      <td>0.479165</td>\n",
       "      <td>0.415640</td>\n",
       "      <td>0.284263</td>\n",
       "      <td>0.254566</td>\n",
       "      <td>0.309986</td>\n",
       "      <td>0.332656</td>\n",
       "    </tr>\n",
       "    <tr>\n",
       "      <th>min</th>\n",
       "      <td>0.000000</td>\n",
       "      <td>7.500000</td>\n",
       "      <td>8.400000</td>\n",
       "      <td>8.800000</td>\n",
       "      <td>1.728400</td>\n",
       "      <td>1.047600</td>\n",
       "      <td>0.000000</td>\n",
       "      <td>0.000000</td>\n",
       "      <td>0.000000</td>\n",
       "      <td>0.000000</td>\n",
       "      <td>0.000000</td>\n",
       "      <td>0.000000</td>\n",
       "    </tr>\n",
       "    <tr>\n",
       "      <th>25%</th>\n",
       "      <td>120.000000</td>\n",
       "      <td>19.050000</td>\n",
       "      <td>21.000000</td>\n",
       "      <td>23.150000</td>\n",
       "      <td>5.944800</td>\n",
       "      <td>3.385650</td>\n",
       "      <td>0.000000</td>\n",
       "      <td>0.000000</td>\n",
       "      <td>0.000000</td>\n",
       "      <td>0.000000</td>\n",
       "      <td>0.000000</td>\n",
       "      <td>0.000000</td>\n",
       "    </tr>\n",
       "    <tr>\n",
       "      <th>50%</th>\n",
       "      <td>273.000000</td>\n",
       "      <td>25.200000</td>\n",
       "      <td>27.300000</td>\n",
       "      <td>29.400000</td>\n",
       "      <td>7.786000</td>\n",
       "      <td>4.248500</td>\n",
       "      <td>0.000000</td>\n",
       "      <td>0.000000</td>\n",
       "      <td>0.000000</td>\n",
       "      <td>0.000000</td>\n",
       "      <td>0.000000</td>\n",
       "      <td>0.000000</td>\n",
       "    </tr>\n",
       "    <tr>\n",
       "      <th>75%</th>\n",
       "      <td>650.000000</td>\n",
       "      <td>32.700000</td>\n",
       "      <td>35.500000</td>\n",
       "      <td>39.650000</td>\n",
       "      <td>12.365900</td>\n",
       "      <td>5.584500</td>\n",
       "      <td>1.000000</td>\n",
       "      <td>0.000000</td>\n",
       "      <td>0.000000</td>\n",
       "      <td>0.000000</td>\n",
       "      <td>0.000000</td>\n",
       "      <td>0.000000</td>\n",
       "    </tr>\n",
       "    <tr>\n",
       "      <th>max</th>\n",
       "      <td>1650.000000</td>\n",
       "      <td>59.000000</td>\n",
       "      <td>63.400000</td>\n",
       "      <td>68.000000</td>\n",
       "      <td>18.957000</td>\n",
       "      <td>8.142000</td>\n",
       "      <td>1.000000</td>\n",
       "      <td>1.000000</td>\n",
       "      <td>1.000000</td>\n",
       "      <td>1.000000</td>\n",
       "      <td>1.000000</td>\n",
       "      <td>1.000000</td>\n",
       "    </tr>\n",
       "  </tbody>\n",
       "</table>\n",
       "</div>"
      ],
      "text/plain": [
       "            Weight     Length1     Length2     Length3      Height  \\\n",
       "count   159.000000  159.000000  159.000000  159.000000  159.000000   \n",
       "mean    398.326415   26.247170   28.415723   31.227044    8.970994   \n",
       "std     357.978317    9.996441   10.716328   11.610246    4.286208   \n",
       "min       0.000000    7.500000    8.400000    8.800000    1.728400   \n",
       "25%     120.000000   19.050000   21.000000   23.150000    5.944800   \n",
       "50%     273.000000   25.200000   27.300000   29.400000    7.786000   \n",
       "75%     650.000000   32.700000   35.500000   39.650000   12.365900   \n",
       "max    1650.000000   59.000000   63.400000   68.000000   18.957000   \n",
       "\n",
       "            Width       Perch       Bream       Smelt      Parkki        Pike  \\\n",
       "count  159.000000  159.000000  159.000000  159.000000  159.000000  159.000000   \n",
       "mean     4.417486    0.352201    0.220126    0.088050    0.069182    0.106918   \n",
       "std      1.685804    0.479165    0.415640    0.284263    0.254566    0.309986   \n",
       "min      1.047600    0.000000    0.000000    0.000000    0.000000    0.000000   \n",
       "25%      3.385650    0.000000    0.000000    0.000000    0.000000    0.000000   \n",
       "50%      4.248500    0.000000    0.000000    0.000000    0.000000    0.000000   \n",
       "75%      5.584500    1.000000    0.000000    0.000000    0.000000    0.000000   \n",
       "max      8.142000    1.000000    1.000000    1.000000    1.000000    1.000000   \n",
       "\n",
       "            Roach  \n",
       "count  159.000000  \n",
       "mean     0.125786  \n",
       "std      0.332656  \n",
       "min      0.000000  \n",
       "25%      0.000000  \n",
       "50%      0.000000  \n",
       "75%      0.000000  \n",
       "max      1.000000  "
      ]
     },
     "execution_count": 11,
     "metadata": {},
     "output_type": "execute_result"
    }
   ],
   "source": [
    "#3\n",
    "df.describe()"
   ]
  },
  {
   "cell_type": "code",
   "execution_count": 12,
   "id": "8a3cc9c2",
   "metadata": {},
   "outputs": [],
   "source": [
    "#2 Increase in the length would increase the weight\n",
    "# Increase in the height would increase the weight\n",
    "# Increase in the width would increase the weight"
   ]
  },
  {
   "cell_type": "code",
   "execution_count": 13,
   "id": "8aef1979",
   "metadata": {},
   "outputs": [
    {
     "data": {
      "image/png": "[encoded data removed]",
      "text/plain": [
       "<Figure size 1080x1080 with 27 Axes>"
      ]
     },
     "metadata": {
      "needs_background": "light"
     },
     "output_type": "display_data"
    }
   ],
   "source": [
    "#4\n",
    "sns.pairplot(df,x_vars=['Weight','Length1','Length2','Length3','Height','Width'],y_vars=['Weight','Length1','Length2','Length3','Height','Width'],corner=True)\n",
    "plt.show()"
   ]
  },
  {
   "cell_type": "code",
   "execution_count": 15,
   "id": "3190acc0",
   "metadata": {},
   "outputs": [],
   "source": [
    "#5\n",
    "X=df[['Length1','Length2','Length3','Height','Width','Perch','Bream','Roach','Parkki','Pike','Smelt']]\n",
    "X = sm.add_constant(X)\n",
    "y=df['Weight']"
   ]
  },
  {
   "cell_type": "code",
   "execution_count": 16,
   "id": "cbab117a",
   "metadata": {},
   "outputs": [
    {
     "name": "stdout",
     "output_type": "stream",
     "text": [
      "    feature          VIF\n",
      "0     const    82.487540\n",
      "1   Length1  2360.425082\n",
      "2   Length2  4307.918109\n",
      "3   Length3  2076.937150\n",
      "4    Height    56.203702\n",
      "5     Width    29.166505\n",
      "6     Perch    11.548155\n",
      "7     Bream    28.967564\n",
      "8     Roach     4.509769\n",
      "9    Parkki     4.385430\n",
      "10     Pike    12.152451\n",
      "11    Smelt     5.729956\n"
     ]
    }
   ],
   "source": [
    "vif_data = pd.DataFrame()\n",
    "vif_data[\"feature\"] = X.columns\n",
    "vif_data[\"VIF\"] = [variance_inflation_factor(X.values, i)\n",
    "                          for i in range(len(X.columns))]\n",
    "print(vif_data)"
   ]
  },
  {
   "cell_type": "code",
   "execution_count": 17,
   "id": "8f7b72d7",
   "metadata": {},
   "outputs": [],
   "source": [
    "X=df[['Length1','Length3','Height','Width','Perch','Bream','Roach','Parkki','Pike','Smelt']]\n",
    "X = sm.add_constant(X)"
   ]
  },
  {
   "cell_type": "code",
   "execution_count": 18,
   "id": "27f8d435",
   "metadata": {},
   "outputs": [
    {
     "name": "stdout",
     "output_type": "stream",
     "text": [
      "    feature          VIF\n",
      "0     const    82.179759\n",
      "1   Length1  1034.701046\n",
      "2   Length3  1186.036510\n",
      "3    Height    56.027171\n",
      "4     Width    28.877523\n",
      "5     Perch    10.257689\n",
      "6     Bream    23.912572\n",
      "7     Roach     4.111114\n",
      "8    Parkki     4.241449\n",
      "9      Pike    12.152377\n",
      "10    Smelt     5.686237\n"
     ]
    }
   ],
   "source": [
    "vif_data = pd.DataFrame()\n",
    "vif_data[\"feature\"] = X.columns\n",
    "vif_data[\"VIF\"] = [variance_inflation_factor(X.values, i)\n",
    "                          for i in range(len(X.columns))]\n",
    "print(vif_data)"
   ]
  },
  {
   "cell_type": "code",
   "execution_count": 19,
   "id": "416ff9dc",
   "metadata": {},
   "outputs": [],
   "source": [
    "X=df[['Length1','Height','Width','Perch','Bream','Roach','Parkki','Pike','Smelt']]\n",
    "X = sm.add_constant(X)"
   ]
  },
  {
   "cell_type": "code",
   "execution_count": 20,
   "id": "f9604f7d",
   "metadata": {},
   "outputs": [
    {
     "name": "stdout",
     "output_type": "stream",
     "text": [
      "   feature        VIF\n",
      "0    const  49.345411\n",
      "1  Length1  27.038193\n",
      "2   Height  54.308628\n",
      "3    Width  28.647082\n",
      "4    Perch   7.484250\n",
      "5    Bream  18.434467\n",
      "6    Roach   4.101663\n",
      "7   Parkki   4.142559\n",
      "8     Pike  12.151320\n",
      "9    Smelt   4.488930\n"
     ]
    }
   ],
   "source": [
    "vif_data = pd.DataFrame()\n",
    "vif_data[\"feature\"] = X.columns\n",
    "vif_data[\"VIF\"] = [variance_inflation_factor(X.values, i)\n",
    "                          for i in range(len(X.columns))]\n",
    "print(vif_data)"
   ]
  },
  {
   "cell_type": "code",
   "execution_count": 21,
   "id": "61a99f7f",
   "metadata": {},
   "outputs": [],
   "source": [
    "X=df[['Length1','Width','Perch','Bream','Roach','Parkki','Pike','Smelt']]\n",
    "X = sm.add_constant(X)"
   ]
  },
  {
   "cell_type": "code",
   "execution_count": 22,
   "id": "935fd644",
   "metadata": {},
   "outputs": [
    {
     "name": "stdout",
     "output_type": "stream",
     "text": [
      "   feature        VIF\n",
      "0    const  47.824543\n",
      "1  Length1  23.492906\n",
      "2    Width  18.014835\n",
      "3    Perch   6.790000\n",
      "4    Bream   5.450751\n",
      "5    Roach   4.050127\n",
      "6   Parkki   2.874761\n",
      "7     Pike   8.912504\n",
      "8    Smelt   4.117806\n"
     ]
    }
   ],
   "source": [
    "vif_data = pd.DataFrame()\n",
    "vif_data[\"feature\"] = X.columns\n",
    "vif_data[\"VIF\"] = [variance_inflation_factor(X.values, i)\n",
    "                          for i in range(len(X.columns))]\n",
    "print(vif_data)"
   ]
  },
  {
   "cell_type": "code",
   "execution_count": 24,
   "id": "cf77d446",
   "metadata": {},
   "outputs": [],
   "source": [
    "X=df[['Width','Perch','Bream','Roach','Parkki','Pike','Smelt']]\n",
    "X = sm.add_constant(X)"
   ]
  },
  {
   "cell_type": "code",
   "execution_count": 25,
   "id": "5ba42240",
   "metadata": {},
   "outputs": [
    {
     "name": "stdout",
     "output_type": "stream",
     "text": [
      "  feature        VIF\n",
      "0   const  46.931422\n",
      "1   Width   1.926255\n",
      "2   Perch   6.776245\n",
      "3   Bream   5.329382\n",
      "4   Roach   4.035398\n",
      "5  Parkki   2.860138\n",
      "6    Pike   3.433218\n",
      "7   Smelt   3.975374\n"
     ]
    }
   ],
   "source": [
    "vif_data = pd.DataFrame()\n",
    "vif_data[\"feature\"] = X.columns\n",
    "vif_data[\"VIF\"] = [variance_inflation_factor(X.values, i)\n",
    "                          for i in range(len(X.columns))]\n",
    "print(vif_data)"
   ]
  },
  {
   "cell_type": "code",
   "execution_count": 26,
   "id": "35765026",
   "metadata": {},
   "outputs": [],
   "source": [
    "X=df[['Width','Bream','Roach','Parkki','Pike','Smelt']]\n",
    "X = sm.add_constant(X)"
   ]
  },
  {
   "cell_type": "code",
   "execution_count": 27,
   "id": "816d3ceb",
   "metadata": {},
   "outputs": [
    {
     "name": "stdout",
     "output_type": "stream",
     "text": [
      "  feature        VIF\n",
      "0   const  18.193255\n",
      "1   Width   1.902853\n",
      "2   Bream   1.263380\n",
      "3   Roach   1.255620\n",
      "4  Parkki   1.206400\n",
      "5    Pike   1.142659\n",
      "6   Smelt   1.771601\n"
     ]
    }
   ],
   "source": [
    "vif_data = pd.DataFrame()\n",
    "vif_data[\"feature\"] = X.columns\n",
    "vif_data[\"VIF\"] = [variance_inflation_factor(X.values, i)\n",
    "                          for i in range(len(X.columns))]\n",
    "print(vif_data)"
   ]
  },
  {
   "cell_type": "code",
   "execution_count": 28,
   "id": "688e1e1f",
   "metadata": {},
   "outputs": [],
   "source": [
    "#6\n",
    "model = sm.OLS(y,X).fit()\n",
    "y_pred = model.predict(X)\n",
    "resid = y - y_pred"
   ]
  },
  {
   "cell_type": "code",
   "execution_count": 29,
   "id": "a6d1137b",
   "metadata": {},
   "outputs": [
    {
     "name": "stdout",
     "output_type": "stream",
     "text": [
      "                            OLS Regression Results                            \n",
      "==============================================================================\n",
      "Dep. Variable:                 Weight   R-squared:                       0.879\n",
      "Model:                            OLS   Adj. R-squared:                  0.874\n",
      "Method:                 Least Squares   F-statistic:                     183.8\n",
      "Date:                Mon, 18 Oct 2021   Prob (F-statistic):           4.87e-67\n",
      "Time:                        09:35:35   Log-Likelihood:                -992.27\n",
      "No. Observations:                 159   AIC:                             1999.\n",
      "Df Residuals:                     152   BIC:                             2020.\n",
      "Df Model:                           6                                         \n",
      "Covariance Type:            nonrobust                                         \n",
      "==============================================================================\n",
      "                 coef    std err          t      P>|t|      [0.025      0.975]\n",
      "------------------------------------------------------------------------------\n",
      "const       -614.4433     42.964    -14.301      0.000    -699.327    -529.560\n",
      "Width        209.9368      8.268     25.391      0.000     193.601     226.272\n",
      "Bream         92.8158     27.326      3.397      0.001      38.829     146.803\n",
      "Roach         -1.4241     34.037     -0.042      0.967     -68.671      65.823\n",
      "Parkki        93.1103     43.598      2.136      0.034       6.974     179.246\n",
      "Pike         265.3302     34.845      7.615      0.000     196.488     334.173\n",
      "Smelt        344.2870     47.313      7.277      0.000     250.811     437.763\n",
      "==============================================================================\n",
      "Omnibus:                       85.983   Durbin-Watson:                   0.691\n",
      "Prob(Omnibus):                  0.000   Jarque-Bera (JB):              511.958\n",
      "Skew:                           1.909   Prob(JB):                    6.76e-112\n",
      "Kurtosis:                      10.919   Cond. No.                         31.5\n",
      "==============================================================================\n",
      "\n",
      "Notes:\n",
      "[1] Standard Errors assume that the covariance matrix of the errors is correctly specified.\n"
     ]
    }
   ],
   "source": [
    "print(model.summary())"
   ]
  },
  {
   "cell_type": "code",
   "execution_count": 30,
   "id": "1576bd13",
   "metadata": {},
   "outputs": [],
   "source": [
    "#7 \n",
    "#R^2 is 88% of the variation and weight can be explaned by the model\n",
    "# If you increase width in 1 cm weight will increase by 209 grams\n",
    "# Increase in bream will increase the weight by 93 grams\n",
    "#Increase in Roach will decrease the weight by 1.42 grams\n",
    "#Increase in Parkki will increase the weight by 93 grams\n",
    "#Increase in Pike will increase the weight by 265 grams\n",
    "#Increase in Smelt will increase the weight by 344 grams\n",
    "# p-values are all less than 0.5 except for Roach\n",
    "# Yes, it makes sense"
   ]
  },
  {
   "cell_type": "code",
   "execution_count": 31,
   "id": "559de3a2",
   "metadata": {},
   "outputs": [
    {
     "data": {
      "image/png": "[encoded data removed]",
      "text/plain": [
       "<Figure size 432x288 with 1 Axes>"
      ]
     },
     "metadata": {
      "needs_background": "light"
     },
     "output_type": "display_data"
    }
   ],
   "source": [
    "#8\n",
    "plt.hist(resid)\n",
    "plt.show()"
   ]
  },
  {
   "cell_type": "code",
   "execution_count": 32,
   "id": "e84facce",
   "metadata": {},
   "outputs": [
    {
     "data": {
      "image/png": "[encoded data removed]",
      "text/plain": [
       "<Figure size 432x288 with 1 Axes>"
      ]
     },
     "metadata": {
      "needs_background": "light"
     },
     "output_type": "display_data"
    }
   ],
   "source": [
    "plt.scatter(y_pred,resid,color='b')\n",
    "plt.axhline(y=0, color='r', linestyle='-')\n",
    "plt.show()"
   ]
  },
  {
   "cell_type": "code",
   "execution_count": null,
   "id": "74995c13",
   "metadata": {},
   "outputs": [],
   "source": [
    "#9\n",
    "#Linearity fails because of the curve in the residual plot\n",
    "#Normality fails because of the skew in the residual histogram\n",
    "#Constant Variance fails because the residual gets wider\n",
    "#No multicolinearity passes because all the VIFs are less than 5\n",
    "#No Autocorrelation passes because it's not time series"
   ]
  }
 ],
 "metadata": {
  "kernelspec": {
   "display_name": "Python 3",
   "language": "python",
   "name": "python3"
  },
  "language_info": {
   "codemirror_mode": {
    "name": "ipython",
    "version": 3
   },
   "file_extension": ".py",
   "mimetype": "text/x-python",
   "name": "python",
   "nbconvert_exporter": "python",
   "pygments_lexer": "ipython3",
   "version": "3.8.8"
  }
 },
 "nbformat": 4,
 "nbformat_minor": 5
}
