{
 "cells": [
  {
   "cell_type": "code",
   "execution_count": null,
   "id": "6f6edd75",
   "metadata": {},
   "outputs": [],
   "source": [
    "## Import our Modules\n",
    "import pandas as pd\n",
    "import numpy as np\n",
    "from matplotlib import pyplot as plt\n",
    "from sklearn.preprocessing import StandardScaler\n",
    "from sklearn.decomposition import PCA\n",
    "import seaborn as sns"
   ]
  },
  {
   "cell_type": "code",
   "execution_count": null,
   "id": "70b5580a",
   "metadata": {},
   "outputs": [],
   "source": [
    "## Load in Our Data\n",
    "df = pd.read_csv(\"AER_mess.csv\")"
   ]
  },
  {
   "cell_type": "code",
   "execution_count": null,
   "id": "553b2c52",
   "metadata": {},
   "outputs": [],
   "source": [
    "## Inspect the Data\n",
    "df.head(5)"
   ]
  },
  {
   "cell_type": "code",
   "execution_count": null,
   "id": "fa6a229b",
   "metadata": {},
   "outputs": [],
   "source": [
    "df.describe()"
   ]
  },
  {
   "cell_type": "code",
   "execution_count": null,
   "id": "320787bb",
   "metadata": {},
   "outputs": [],
   "source": [
    "df.dtypes"
   ]
  },
  {
   "cell_type": "code",
   "execution_count": null,
   "id": "50e1d7af",
   "metadata": {},
   "outputs": [],
   "source": [
    "df['months'] = df['months'].replace('\\.', np.nan, regex=True)"
   ]
  },
  {
   "cell_type": "code",
   "execution_count": null,
   "id": "a5c94541",
   "metadata": {},
   "outputs": [],
   "source": [
    "df.months = pd.to_numeric(df.months)"
   ]
  },
  {
   "cell_type": "code",
   "execution_count": null,
   "id": "d00fef1f",
   "metadata": {},
   "outputs": [],
   "source": [
    "df['months'].describe()"
   ]
  },
  {
   "cell_type": "code",
   "execution_count": null,
   "id": "091ad78b",
   "metadata": {},
   "outputs": [],
   "source": [
    "plt.hist(df.months)\n",
    "plt.show()"
   ]
  },
  {
   "cell_type": "code",
   "execution_count": null,
   "id": "fae5cbe8",
   "metadata": {},
   "outputs": [],
   "source": [
    "## We can use these functions to fill in the missing data. Use the mean if histograms look symmetrical\n",
    "# df.fillna(df.mean())\n",
    "\n",
    "## Use the median if looks skewed\n",
    "df['months']=df['months'].fillna(df['months'].median())"
   ]
  },
  {
   "cell_type": "code",
   "execution_count": null,
   "id": "57e65d6b",
   "metadata": {},
   "outputs": [],
   "source": [
    "df['months'].describe()"
   ]
  },
  {
   "cell_type": "code",
   "execution_count": null,
   "id": "8ce6506c",
   "metadata": {},
   "outputs": [],
   "source": [
    "## One Dimensional Stats\n",
    "df.card.value_counts()"
   ]
  },
  {
   "cell_type": "code",
   "execution_count": null,
   "id": "576e7431",
   "metadata": {},
   "outputs": [],
   "source": [
    "df.owner.value_counts()"
   ]
  },
  {
   "cell_type": "code",
   "execution_count": null,
   "id": "8f17d20f",
   "metadata": {},
   "outputs": [],
   "source": [
    "df.selfemp.value_counts()"
   ]
  },
  {
   "cell_type": "code",
   "execution_count": null,
   "id": "c4dc5c91",
   "metadata": {},
   "outputs": [],
   "source": [
    "## Looks like something weird is going on with this one. Let's replace so it's uniform\n",
    "df['selfemp'] = df['selfemp'].replace('no.+', 'no', regex=True)"
   ]
  },
  {
   "cell_type": "code",
   "execution_count": null,
   "id": "07abf76c",
   "metadata": {},
   "outputs": [],
   "source": [
    "## Looks better\n",
    "df.selfemp.value_counts()"
   ]
  },
  {
   "cell_type": "code",
   "execution_count": null,
   "id": "74cb3f81",
   "metadata": {},
   "outputs": [],
   "source": [
    "## One last look. This looks fine\n",
    "df.describe()"
   ]
  },
  {
   "cell_type": "code",
   "execution_count": null,
   "id": "90948b2c",
   "metadata": {},
   "outputs": [],
   "source": [
    "## Two and Multi-Dimensional Stats\n",
    "## Correlations give a good idea of how data interacts with each other. Good way to notice any patterns\n",
    "df.corr()"
   ]
  },
  {
   "cell_type": "code",
   "execution_count": null,
   "id": "115df6de",
   "metadata": {},
   "outputs": [],
   "source": [
    "sns.pairplot(df,x_vars=['reports','age','income','expenditure','dependents'],y_vars=['reports','age','income','expenditure','dependents'],corner=True)\n",
    "plt.show()"
   ]
  },
  {
   "cell_type": "code",
   "execution_count": null,
   "id": "3bae47ed",
   "metadata": {},
   "outputs": [],
   "source": [
    "## Transforming Data\n",
    "\n",
    "## We may want to create new factors from existing data. Let's make annual CC expenditures as a percent of a person's\n",
    "## total income\n",
    "df['exp_income_ratio'] = (df['expenditure']*12)/(df['income']*10000)*100"
   ]
  },
  {
   "cell_type": "code",
   "execution_count": null,
   "id": "f00e1c07",
   "metadata": {},
   "outputs": [],
   "source": [
    "df['exp_income_ratio'].describe()"
   ]
  },
  {
   "cell_type": "code",
   "execution_count": null,
   "id": "249682ad",
   "metadata": {},
   "outputs": [],
   "source": [
    "## Normalizing Data is useful for changing the scale into standard normal\n",
    "df['norm_income']= (df.income-df.income.mean())/df.income.std(ddof=1)"
   ]
  },
  {
   "cell_type": "code",
   "execution_count": null,
   "id": "679c6dce",
   "metadata": {},
   "outputs": [],
   "source": [
    "## Log Normalizing is another popular method for highly skewed data\n",
    "df['ln_income']=np.log(df.income)"
   ]
  },
  {
   "cell_type": "code",
   "execution_count": null,
   "id": "01555df8",
   "metadata": {},
   "outputs": [],
   "source": [
    "plt.hist(df.income)\n",
    "plt.show()"
   ]
  },
  {
   "cell_type": "code",
   "execution_count": null,
   "id": "815cc379",
   "metadata": {},
   "outputs": [],
   "source": [
    "plt.hist(df.norm_income)\n",
    "plt.show()"
   ]
  },
  {
   "cell_type": "code",
   "execution_count": null,
   "id": "c472da74",
   "metadata": {},
   "outputs": [],
   "source": [
    "plt.hist(df.ln_income)\n",
    "plt.show()"
   ]
  },
  {
   "cell_type": "code",
   "execution_count": null,
   "id": "8dbb89e9",
   "metadata": {},
   "outputs": [],
   "source": [
    "## Some models only take numerical values as inputs. We often need to transform catergorical variables\n",
    "## into 1/0 to be used in these models\n",
    "pd.get_dummies(df.card)"
   ]
  },
  {
   "cell_type": "code",
   "execution_count": null,
   "id": "06921043",
   "metadata": {},
   "outputs": [],
   "source": [
    "df['approved']=pd.get_dummies(df.card)['yes']"
   ]
  },
  {
   "cell_type": "code",
   "execution_count": null,
   "id": "95e698bd",
   "metadata": {},
   "outputs": [],
   "source": [
    "## Sometimes we may want to make categorical variables from numeric\n",
    "## This would turn income into differnt brackets\n",
    "df['bracket'] = pd.cut(df['income'], bins=[0, 5, 13, float('Inf')], labels=['low', 'middle', 'upper'])"
   ]
  },
  {
   "cell_type": "code",
   "execution_count": null,
   "id": "3d389dc6",
   "metadata": {},
   "outputs": [],
   "source": [
    "df.bracket.value_counts()"
   ]
  },
  {
   "cell_type": "code",
   "execution_count": null,
   "id": "9f5ed4c9",
   "metadata": {},
   "outputs": [],
   "source": [
    "## Principle Component Analysis\n",
    "features = ['reports', 'age', 'income', 'expenditure','dependents','months','majorcards','active']\n",
    "# Separating out the features\n",
    "x = df.loc[:, features].values\n",
    "# Standardizing the features\n",
    "x = StandardScaler().fit_transform(x)"
   ]
  },
  {
   "cell_type": "code",
   "execution_count": null,
   "id": "f2524d82",
   "metadata": {},
   "outputs": [],
   "source": [
    "pca = PCA(n_components=2)\n",
    "principalComponents = pca.fit_transform(x)\n",
    "principalDf = pd.DataFrame(data = principalComponents, columns = ['principal component 1', 'principal component 2'])"
   ]
  },
  {
   "cell_type": "code",
   "execution_count": null,
   "id": "593babcc",
   "metadata": {},
   "outputs": [],
   "source": [
    "principalDf"
   ]
  },
  {
   "cell_type": "code",
   "execution_count": null,
   "id": "eb1064b6",
   "metadata": {},
   "outputs": [],
   "source": []
  }
 ],
 "metadata": {
  "kernelspec": {
   "display_name": "Python 3",
   "language": "python",
   "name": "python3"
  },
  "language_info": {
   "codemirror_mode": {
    "name": "ipython",
    "version": 3
   },
   "file_extension": ".py",
   "mimetype": "text/x-python",
   "name": "python",
   "nbconvert_exporter": "python",
   "pygments_lexer": "ipython3",
   "version": "3.8.8"
  }
 },
 "nbformat": 4,
 "nbformat_minor": 5
}
