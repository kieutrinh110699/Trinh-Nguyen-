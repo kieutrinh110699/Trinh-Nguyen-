{
 "cells": [
  {
   "cell_type": "code",
   "execution_count": 6,
   "id": "936a9f1e",
   "metadata": {},
   "outputs": [],
   "source": [
    "import tweepy\n",
    "import keys\n",
    "from textblob import TextBlob\n",
    "from operator import itemgetter\n",
    "from wordcloud import WordCloud\n",
    "import preprocessor as p\n",
    "import sys\n",
    "from tweepy import Stream\n",
    "from tweepy import OAuthHandler\n",
    "from tweetlistener import TweetListener\n",
    "from sentimentlistener import SentimentListener\n",
    "from locationlistener import LocationListener\n",
    "from tweetutilities import get_geocodes\n",
    "import pandas as pd\n",
    "import folium"
   ]
  },
  {
   "cell_type": "markdown",
   "id": "8d04ab63",
   "metadata": {},
   "source": [
    "pip install tweepy\n",
    "\n",
    "conda install -c conda-forge geopy\n",
    "\n",
    "pip install tweet-preprocessor\n",
    "\n",
    "pip install folium\n",
    "\n",
    "https://developer.mapquest.com/"
   ]
  },
  {
   "cell_type": "markdown",
   "id": "ca940db1",
   "metadata": {},
   "source": [
    "## Authentication Step"
   ]
  },
  {
   "cell_type": "code",
   "execution_count": 7,
   "id": "b993c874",
   "metadata": {},
   "outputs": [],
   "source": [
    "auth = tweepy.OAuthHandler(keys.TWITTER_CONSUMER_KEY, keys.TWITTER_CONSUMER_SECRET)\n",
    "auth.set_access_token(keys.ACCESS_TOKEN, keys.ACCESS_TOKEN_SECRET)\n",
    "api = tweepy.API(auth, wait_on_rate_limit=True)"
   ]
  },
  {
   "cell_type": "markdown",
   "id": "8d2853ce",
   "metadata": {},
   "source": [
    "## Retrieving User Information"
   ]
  },
  {
   "cell_type": "code",
   "execution_count": 8,
   "id": "8c170cb4",
   "metadata": {},
   "outputs": [],
   "source": [
    "nasa = api.get_user(screen_name='nasa')"
   ]
  },
  {
   "cell_type": "code",
   "execution_count": 9,
   "id": "8d6bee48",
   "metadata": {},
   "outputs": [
    {
     "data": {
      "text/plain": [
       "User(_api=<tweepy.api.API object at 0x7ffc9a267370>, _json={'id': 11348282, 'id_str': '11348282', 'name': 'NASA', 'screen_name': 'NASA', 'location': 'Pale Blue Dot', 'profile_location': None, 'description': \"There's space for everybody. ✨\", 'url': 'https://t.co/9NkQJKAnuU', 'entities': {'url': {'urls': [{'url': 'https://t.co/9NkQJKAnuU', 'expanded_url': 'http://www.nasa.gov/', 'display_url': 'nasa.gov', 'indices': [0, 23]}]}, 'description': {'urls': []}}, 'protected': False, 'followers_count': 49582549, 'friends_count': 178, 'listed_count': 96952, 'created_at': 'Wed Dec 19 20:20:32 +0000 2007', 'favourites_count': 13368, 'utc_offset': None, 'time_zone': None, 'geo_enabled': False, 'verified': True, 'statuses_count': 67113, 'lang': None, 'status': {'created_at': 'Fri Nov 12 15:27:40 +0000 2021', 'id': 1459181106016698373, 'id_str': '1459181106016698373', 'text': '#AstronautSnoopy is no stranger to space. The Peanuts character skimmed the lunar surface as the name of the Apollo… https://t.co/Ias1rWAy9R', 'truncated': True, 'entities': {'hashtags': [{'text': 'AstronautSnoopy', 'indices': [0, 16]}], 'symbols': [], 'user_mentions': [], 'urls': [{'url': 'https://t.co/Ias1rWAy9R', 'expanded_url': 'https://twitter.com/i/web/status/1459181106016698373', 'display_url': 'twitter.com/i/web/status/1…', 'indices': [117, 140]}]}, 'source': '<a href=\"https://www.sprinklr.com\" rel=\"nofollow\">Sprinklr</a>', 'in_reply_to_status_id': None, 'in_reply_to_status_id_str': None, 'in_reply_to_user_id': None, 'in_reply_to_user_id_str': None, 'in_reply_to_screen_name': None, 'geo': None, 'coordinates': None, 'place': None, 'contributors': None, 'is_quote_status': False, 'retweet_count': 176, 'favorite_count': 765, 'favorited': False, 'retweeted': False, 'possibly_sensitive': False, 'lang': 'en'}, 'contributors_enabled': False, 'is_translator': False, 'is_translation_enabled': False, 'profile_background_color': '000000', 'profile_background_image_url': 'http://abs.twimg.com/images/themes/theme1/bg.png', 'profile_background_image_url_https': 'https://abs.twimg.com/images/themes/theme1/bg.png', 'profile_background_tile': False, 'profile_image_url': 'http://pbs.twimg.com/profile_images/1321163587679784960/0ZxKlEKB_normal.jpg', 'profile_image_url_https': 'https://pbs.twimg.com/profile_images/1321163587679784960/0ZxKlEKB_normal.jpg', 'profile_banner_url': 'https://pbs.twimg.com/profile_banners/11348282/1636210339', 'profile_link_color': '205BA7', 'profile_sidebar_border_color': '000000', 'profile_sidebar_fill_color': 'F3F2F2', 'profile_text_color': '000000', 'profile_use_background_image': True, 'has_extended_profile': True, 'default_profile': False, 'default_profile_image': False, 'following': False, 'follow_request_sent': False, 'notifications': False, 'translator_type': 'regular', 'withheld_in_countries': []}, id=11348282, id_str='11348282', name='NASA', screen_name='NASA', location='Pale Blue Dot', profile_location=None, description=\"There's space for everybody. ✨\", url='https://t.co/9NkQJKAnuU', entities={'url': {'urls': [{'url': 'https://t.co/9NkQJKAnuU', 'expanded_url': 'http://www.nasa.gov/', 'display_url': 'nasa.gov', 'indices': [0, 23]}]}, 'description': {'urls': []}}, protected=False, followers_count=49582549, friends_count=178, listed_count=96952, created_at=datetime.datetime(2007, 12, 19, 20, 20, 32, tzinfo=datetime.timezone.utc), favourites_count=13368, utc_offset=None, time_zone=None, geo_enabled=False, verified=True, statuses_count=67113, lang=None, status=Status(_api=<tweepy.api.API object at 0x7ffc9a267370>, _json={'created_at': 'Fri Nov 12 15:27:40 +0000 2021', 'id': 1459181106016698373, 'id_str': '1459181106016698373', 'text': '#AstronautSnoopy is no stranger to space. The Peanuts character skimmed the lunar surface as the name of the Apollo… https://t.co/Ias1rWAy9R', 'truncated': True, 'entities': {'hashtags': [{'text': 'AstronautSnoopy', 'indices': [0, 16]}], 'symbols': [], 'user_mentions': [], 'urls': [{'url': 'https://t.co/Ias1rWAy9R', 'expanded_url': 'https://twitter.com/i/web/status/1459181106016698373', 'display_url': 'twitter.com/i/web/status/1…', 'indices': [117, 140]}]}, 'source': '<a href=\"https://www.sprinklr.com\" rel=\"nofollow\">Sprinklr</a>', 'in_reply_to_status_id': None, 'in_reply_to_status_id_str': None, 'in_reply_to_user_id': None, 'in_reply_to_user_id_str': None, 'in_reply_to_screen_name': None, 'geo': None, 'coordinates': None, 'place': None, 'contributors': None, 'is_quote_status': False, 'retweet_count': 176, 'favorite_count': 765, 'favorited': False, 'retweeted': False, 'possibly_sensitive': False, 'lang': 'en'}, created_at=datetime.datetime(2021, 11, 12, 15, 27, 40, tzinfo=datetime.timezone.utc), id=1459181106016698373, id_str='1459181106016698373', text='#AstronautSnoopy is no stranger to space. The Peanuts character skimmed the lunar surface as the name of the Apollo… https://t.co/Ias1rWAy9R', truncated=True, entities={'hashtags': [{'text': 'AstronautSnoopy', 'indices': [0, 16]}], 'symbols': [], 'user_mentions': [], 'urls': [{'url': 'https://t.co/Ias1rWAy9R', 'expanded_url': 'https://twitter.com/i/web/status/1459181106016698373', 'display_url': 'twitter.com/i/web/status/1…', 'indices': [117, 140]}]}, source='Sprinklr', source_url='https://www.sprinklr.com', in_reply_to_status_id=None, in_reply_to_status_id_str=None, in_reply_to_user_id=None, in_reply_to_user_id_str=None, in_reply_to_screen_name=None, geo=None, coordinates=None, place=None, contributors=None, is_quote_status=False, retweet_count=176, favorite_count=765, favorited=False, retweeted=False, possibly_sensitive=False, lang='en'), contributors_enabled=False, is_translator=False, is_translation_enabled=False, profile_background_color='000000', profile_background_image_url='http://abs.twimg.com/images/themes/theme1/bg.png', profile_background_image_url_https='https://abs.twimg.com/images/themes/theme1/bg.png', profile_background_tile=False, profile_image_url='http://pbs.twimg.com/profile_images/1321163587679784960/0ZxKlEKB_normal.jpg', profile_image_url_https='https://pbs.twimg.com/profile_images/1321163587679784960/0ZxKlEKB_normal.jpg', profile_banner_url='https://pbs.twimg.com/profile_banners/11348282/1636210339', profile_link_color='205BA7', profile_sidebar_border_color='000000', profile_sidebar_fill_color='F3F2F2', profile_text_color='000000', profile_use_background_image=True, has_extended_profile=True, default_profile=False, default_profile_image=False, following=False, follow_request_sent=False, notifications=False, translator_type='regular', withheld_in_countries=[])"
      ]
     },
     "execution_count": 9,
     "metadata": {},
     "output_type": "execute_result"
    }
   ],
   "source": [
    "nasa"
   ]
  },
  {
   "cell_type": "code",
   "execution_count": 10,
   "id": "baac9aa8",
   "metadata": {},
   "outputs": [
    {
     "data": {
      "text/plain": [
       "11348282"
      ]
     },
     "execution_count": 10,
     "metadata": {},
     "output_type": "execute_result"
    }
   ],
   "source": [
    "nasa.id"
   ]
  },
  {
   "cell_type": "code",
   "execution_count": 11,
   "id": "9a24acfe",
   "metadata": {},
   "outputs": [
    {
     "data": {
      "text/plain": [
       "'NASA'"
      ]
     },
     "execution_count": 11,
     "metadata": {},
     "output_type": "execute_result"
    }
   ],
   "source": [
    "nasa.name"
   ]
  },
  {
   "cell_type": "code",
   "execution_count": 12,
   "id": "da8c68f5",
   "metadata": {},
   "outputs": [
    {
     "data": {
      "text/plain": [
       "\"There's space for everybody. ✨\""
      ]
     },
     "execution_count": 12,
     "metadata": {},
     "output_type": "execute_result"
    }
   ],
   "source": [
    "nasa.description"
   ]
  },
  {
   "cell_type": "code",
   "execution_count": 13,
   "id": "60a3e9aa",
   "metadata": {},
   "outputs": [
    {
     "data": {
      "text/plain": [
       "'#AstronautSnoopy is no stranger to space. The Peanuts character skimmed the lunar surface as the name of the Apollo… https://t.co/Ias1rWAy9R'"
      ]
     },
     "execution_count": 13,
     "metadata": {},
     "output_type": "execute_result"
    }
   ],
   "source": [
    "nasa.status.text"
   ]
  },
  {
   "cell_type": "code",
   "execution_count": 14,
   "id": "2d179908",
   "metadata": {},
   "outputs": [
    {
     "data": {
      "text/plain": [
       "49582549"
      ]
     },
     "execution_count": 14,
     "metadata": {},
     "output_type": "execute_result"
    }
   ],
   "source": [
    "nasa.followers_count"
   ]
  },
  {
   "cell_type": "code",
   "execution_count": 15,
   "id": "bfe0736a",
   "metadata": {},
   "outputs": [
    {
     "data": {
      "text/plain": [
       "178"
      ]
     },
     "execution_count": 15,
     "metadata": {},
     "output_type": "execute_result"
    }
   ],
   "source": [
    "nasa.friends_count"
   ]
  },
  {
   "cell_type": "code",
   "execution_count": 16,
   "id": "b4196ac9",
   "metadata": {},
   "outputs": [
    {
     "data": {
      "text/plain": [
       "'Pale Blue Dot'"
      ]
     },
     "execution_count": 16,
     "metadata": {},
     "output_type": "execute_result"
    }
   ],
   "source": [
    "nasa.location"
   ]
  },
  {
   "cell_type": "markdown",
   "id": "fe58cb73",
   "metadata": {},
   "source": [
    "Getting List of Friends and Followers for the user"
   ]
  },
  {
   "cell_type": "code",
   "execution_count": null,
   "id": "f489755c",
   "metadata": {},
   "outputs": [],
   "source": [
    "followers = []"
   ]
  },
  {
   "cell_type": "code",
   "execution_count": null,
   "id": "79381aee",
   "metadata": {},
   "outputs": [],
   "source": [
    "cursor = tweepy.Cursor(api.get_followers,screen_name='nasa')"
   ]
  },
  {
   "cell_type": "code",
   "execution_count": null,
   "id": "cc7ae94d",
   "metadata": {},
   "outputs": [],
   "source": [
    "for account in cursor.items(10):\n",
    "    followers.append(account.screen_name)"
   ]
  },
  {
   "cell_type": "code",
   "execution_count": null,
   "id": "8a79cc89",
   "metadata": {},
   "outputs": [],
   "source": [
    "print('Followers:',' '.join(sorted(followers, key=lambda s: s.lower())))"
   ]
  },
  {
   "cell_type": "code",
   "execution_count": null,
   "id": "ed626aab",
   "metadata": {},
   "outputs": [],
   "source": [
    "cursor = tweepy.Cursor(api.get_followers,screen_name='nasa',count=200)"
   ]
  },
  {
   "cell_type": "code",
   "execution_count": null,
   "id": "bba9b684",
   "metadata": {},
   "outputs": [],
   "source": [
    "for account in cursor.items(200):\n",
    "    followers.append(account.screen_name)"
   ]
  },
  {
   "cell_type": "code",
   "execution_count": null,
   "id": "96be5da5",
   "metadata": {},
   "outputs": [],
   "source": [
    "print('Followers:',' '.join(sorted(followers, key=lambda s: s.lower())))"
   ]
  },
  {
   "cell_type": "code",
   "execution_count": null,
   "id": "16f898d3",
   "metadata": {},
   "outputs": [],
   "source": [
    "friends = []\n",
    "cursor = tweepy.Cursor(api.get_friends,screen_name='nasa')\n",
    "for friend in cursor.items(200):\n",
    "    friends.append(friend.screen_name)\n",
    "print('Friends:',' '.join(sorted(friends, key=lambda s: s.lower())))"
   ]
  },
  {
   "cell_type": "markdown",
   "id": "a96baf0e",
   "metadata": {},
   "source": [
    "Getting Recent Tweets for the User"
   ]
  },
  {
   "cell_type": "code",
   "execution_count": null,
   "id": "7f8e0a26",
   "metadata": {},
   "outputs": [],
   "source": [
    "nasa_tweets = api.user_timeline(screen_name='nasa', count=3)"
   ]
  },
  {
   "cell_type": "code",
   "execution_count": null,
   "id": "c013445d",
   "metadata": {
    "scrolled": true
   },
   "outputs": [],
   "source": [
    "for tweet in nasa_tweets:\n",
    "    print(f'{tweet.user.screen_name}: {tweet.text}\\n')"
   ]
  },
  {
   "cell_type": "markdown",
   "id": "16f89321",
   "metadata": {},
   "source": [
    "Tapping in to your own Twitter"
   ]
  },
  {
   "cell_type": "code",
   "execution_count": null,
   "id": "eb7c297f",
   "metadata": {},
   "outputs": [],
   "source": [
    "home = api.home_timeline()"
   ]
  },
  {
   "cell_type": "code",
   "execution_count": null,
   "id": "96105f4b",
   "metadata": {
    "scrolled": true
   },
   "outputs": [],
   "source": [
    "for tweet in home:\n",
    "    print(f'{tweet.user.screen_name}: {tweet.text}\\n')"
   ]
  },
  {
   "cell_type": "markdown",
   "id": "7ccb8a44",
   "metadata": {},
   "source": [
    "Searching Through Tweets and Printing them Out"
   ]
  },
  {
   "cell_type": "code",
   "execution_count": null,
   "id": "3bdfa686",
   "metadata": {},
   "outputs": [],
   "source": [
    "tweets = api.search_tweets(q='Mars Opportunity Rover',count =3)\n",
    "for tweet in tweets:\n",
    "    print(f'{tweet.user.screen_name}: {tweet.text}\\n')"
   ]
  },
  {
   "cell_type": "code",
   "execution_count": null,
   "id": "3e543419",
   "metadata": {},
   "outputs": [],
   "source": [
    "tweets = api.search_tweets(q='#cop26',count =10)\n",
    "for tweet in tweets:\n",
    "    print(f'{tweet.user.screen_name}: {tweet.text}\\n')"
   ]
  },
  {
   "cell_type": "markdown",
   "id": "2702bfab",
   "metadata": {},
   "source": [
    "## Trends"
   ]
  },
  {
   "cell_type": "code",
   "execution_count": 17,
   "id": "579c6e74",
   "metadata": {},
   "outputs": [],
   "source": [
    "trends_available = api.available_trends()"
   ]
  },
  {
   "cell_type": "code",
   "execution_count": 18,
   "id": "4bb5106b",
   "metadata": {},
   "outputs": [
    {
     "data": {
      "text/plain": [
       "467"
      ]
     },
     "execution_count": 18,
     "metadata": {},
     "output_type": "execute_result"
    }
   ],
   "source": [
    "len(trends_available)"
   ]
  },
  {
   "cell_type": "code",
   "execution_count": 19,
   "id": "c5831d09",
   "metadata": {},
   "outputs": [
    {
     "data": {
      "text/plain": [
       "{'name': 'Nagoya',\n",
       " 'placeType': {'code': 7, 'name': 'Town'},\n",
       " 'url': 'http://where.yahooapis.com/v1/place/1117817',\n",
       " 'parentid': 23424856,\n",
       " 'country': 'Japan',\n",
       " 'woeid': 1117817,\n",
       " 'countryCode': 'JP'}"
      ]
     },
     "execution_count": 19,
     "metadata": {},
     "output_type": "execute_result"
    }
   ],
   "source": [
    "trends_available[200]"
   ]
  },
  {
   "cell_type": "markdown",
   "id": "4468eb95",
   "metadata": {},
   "source": [
    "https://www.findmecity.com/"
   ]
  },
  {
   "cell_type": "markdown",
   "id": "069b8eba",
   "metadata": {},
   "source": [
    "This is how we can find trends for the whole world"
   ]
  },
  {
   "cell_type": "code",
   "execution_count": null,
   "id": "70093091",
   "metadata": {},
   "outputs": [],
   "source": [
    "world_trends = api.get_place_trends(id=1)\n",
    "trends_list = world_trends[0]['trends']\n",
    "trends_list = [t for t in trends_list if t['tweet_volume']]\n",
    "trends_list.sort(key=itemgetter('tweet_volume'), reverse=True)\n",
    "for trend in trends_list:\n",
    "    print(trend['name'])"
   ]
  },
  {
   "cell_type": "code",
   "execution_count": 21,
   "id": "af12c169",
   "metadata": {},
   "outputs": [
    {
     "name": "stdout",
     "output_type": "stream",
     "text": [
      "Taylor\n",
      "Johnson\n",
      "NCT 2021\n",
      "Albedo\n",
      "Jake Gyllenhaal\n",
      "Itto\n",
      "#DisneyPlusDay\n",
      "Silk Sonic\n",
      "Eula\n",
      "FOREVER WITH SWEET TAEHYUNG\n",
      "Good Friday\n",
      "ON SALE NOW\n",
      "Pence\n",
      "#FreeBritney\n",
      "Kenobi\n",
      "T Swift\n",
      "MySpace\n",
      "#fridaymorning\n",
      "Happy Red\n",
      "Predator\n",
      "#RacistJoe\n",
      "bennett\n",
      "Dani Alves\n",
      "After Last Night\n",
      "Damon\n",
      "Pinocchio\n",
      "Baymax\n"
     ]
    }
   ],
   "source": [
    "us_trends = api.get_place_trends(id=23424977)\n",
    "trends_list = us_trends[0]['trends']\n",
    "trends_list = [t for t in trends_list if t['tweet_volume']]\n",
    "trends_list.sort(key=itemgetter('tweet_volume'), reverse=True)\n",
    "for trend in trends_list:\n",
    "    print(trend['name'])"
   ]
  },
  {
   "cell_type": "code",
   "execution_count": 23,
   "id": "0b867292",
   "metadata": {},
   "outputs": [
    {
     "name": "stdout",
     "output_type": "stream",
     "text": [
      "Taylor\n",
      "Johnson\n",
      "NCT 2021\n",
      "Albedo\n",
      "Jake Gyllenhaal\n",
      "Red TV\n",
      "Itto\n",
      "#DisneyPlusDay\n",
      "Silk Sonic\n",
      "Beyoncé\n",
      "Eula\n",
      "FOREVER WITH SWEET TAEHYUNG\n",
      "phoebe\n",
      "Good Friday\n",
      "ON SALE NOW\n",
      "Pence\n",
      "#FreeBritney\n",
      "Kenobi\n",
      "T Swift\n",
      "MySpace\n",
      "#fridaymorning\n",
      "Happy Red\n",
      "Predator\n",
      "#RacistJoe\n",
      "bennett\n",
      "Dani Alves\n",
      "After Last Night\n",
      "Damon\n",
      "Baymax\n"
     ]
    }
   ],
   "source": [
    "mpls_trends = api.get_place_trends(id=2459115)\n",
    "mpls_list = mpls_trends[0]['trends']\n",
    "mpls_list = [t for t in mpls_list if t['tweet_volume']]\n",
    "mpls_list.sort(key=itemgetter('tweet_volume'), reverse=True)\n",
    "for trend in mpls_list:\n",
    "    print(trend['name'])"
   ]
  },
  {
   "cell_type": "code",
   "execution_count": 24,
   "id": "be3ca7e4",
   "metadata": {},
   "outputs": [],
   "source": [
    "topics = {}\n",
    "for trend in mpls_list:\n",
    "     topics[trend['name']] = trend['tweet_volume']\n",
    "wordcloud = WordCloud(width=1600, height=900,\n",
    "    prefer_horizontal=0.5, min_font_size=10, colormap='prism',\n",
    "    background_color='white')\n",
    "wordcloud = wordcloud.fit_words(topics)\n",
    "wordcloud = wordcloud.to_file('MPLSTrending.png')"
   ]
  },
  {
   "cell_type": "markdown",
   "id": "f1e614e7",
   "metadata": {},
   "source": [
    "## Cleaning Tweets"
   ]
  },
  {
   "cell_type": "code",
   "execution_count": null,
   "id": "62e7cfe4",
   "metadata": {},
   "outputs": [],
   "source": [
    "p.set_options(p.OPT.URL,p.OPT.RESERVED, p.OPT.HASHTAG, p.OPT.SMILEY, p.OPT.NUMBER)\n",
    "## OPT.MENTION\n",
    "## OPT.EMOJI\n",
    "## OPT.HASHTAG\n",
    "## OPT.NUMBER\n",
    "## OPT.RESERVED (RT or FAV)\n",
    "## OPT.SMILEY\n",
    "## OPT.URL"
   ]
  },
  {
   "cell_type": "code",
   "execution_count": null,
   "id": "3c5094cf",
   "metadata": {},
   "outputs": [],
   "source": [
    "sample = 'RT #blessed @raymondjleach This 4 will 6 be 8 left https://google.com :('"
   ]
  },
  {
   "cell_type": "code",
   "execution_count": null,
   "id": "011521de",
   "metadata": {},
   "outputs": [],
   "source": [
    "p.clean(sample)"
   ]
  },
  {
   "cell_type": "markdown",
   "id": "90207be0",
   "metadata": {},
   "source": [
    "## Streaming Tweets"
   ]
  },
  {
   "cell_type": "code",
   "execution_count": null,
   "id": "cc02bcbe",
   "metadata": {},
   "outputs": [],
   "source": [
    "tweet_listener = TweetListener(\n",
    "    consumer_key = keys.TWITTER_CONSUMER_KEY, \n",
    "    consumer_secret = keys.TWITTER_CONSUMER_SECRET,\n",
    "    access_token = keys.ACCESS_TOKEN, \n",
    "    access_token_secret = keys.ACCESS_TOKEN_SECRET,limit=20)"
   ]
  },
  {
   "cell_type": "code",
   "execution_count": 27,
   "id": "d82291ba",
   "metadata": {},
   "outputs": [
    {
     "name": "stdout",
     "output_type": "stream",
     "text": [
      "Connection successful\n",
      "\n",
      "0\n",
      "Screen name: ebukkka:\n",
      "   Language: en\n",
      "     Status: RT @emPawaAfrica: You can now watch the official music video of \"Baby Riddim\" by @faveszn on @TRACENaija \n",
      "\n",
      "https://t.co/J8zU5eUjia\n",
      "\n",
      "#favesz…\n",
      "\n",
      "1\n",
      "Screen name: ms_susonnnnnnnn:\n",
      "   Language: en\n",
      "     Status: RT @AmirEsmay: Ang the music video of #Bazinga_SB19 is a chef kiss! Those transition🔥\n",
      "\n",
      "@SB19Official\n",
      "\n",
      "2\n",
      "Screen name: nblingg_:\n",
      "   Language: es\n",
      "     Status: RT @pinkle_mo: Día 10 \n",
      "Moos sigamos votando en sitio web. Tenemos que llegar al puesto 20!!!!\n",
      "[DAILY VOTE | 11/13 | #MAMAVOTE #mamamoo] Vot…\n",
      "\n",
      "3\n",
      "Screen name: joontriviia:\n",
      "   Language: en\n",
      "     Status: RT @BTSVotingTalk: MAMA Voting has reset. Cast your votes again now for BTS on \"Worldwide Fan's Choice Top 10\" \n",
      "\n",
      "Pre-vote Website: https://…\n",
      "\n",
      "4\n",
      "Screen name: lililalalee:\n",
      "   Language: th\n",
      "     Status: RT @isabrinaxoxo: ดีเจที่สัมน้องลิซ่าทางช่อง Audacy music🎧ชื่อ Bru โอ้ยยยเทสมากว่าละทำไมคุ้นๆชั้นเอาหลุมไอจีไปตามเค้านานมากแล้ว5555555555 h…\n",
      "\n",
      "5\n",
      "Screen name: PaponDear:\n",
      "   Language: bg\n",
      "     Status: @kasiljs2 @kasiljs @dimash_official @dimash_official \n",
      "#DimashQudaibergеn\n",
      "Unique voice.\n",
      "Чували ли сте едни от послед… https://t.co/CprIU0HwG3\n",
      "\n",
      "6\n",
      "Screen name: dltas1989:\n",
      "   Language: en\n",
      "     Status: RT @chartstswift: .@taylorswift13’s “All Too Well (Ten Minute Version)” has reached a new peak of #22 (+11) on Apple Music US.\n",
      "\n",
      "7\n",
      "Screen name: nightcore__kun:\n",
      "   Language: ja\n",
      "     Status: [11/13 00:48] Nightcore -　名前のない怪物\n",
      "#Nightcore #YouTube #music\n",
      "https://t.co/kexslKqYEH\n",
      "\n",
      "8\n",
      "Screen name: iOchwoo:\n",
      "   Language: en\n",
      "     Status: RT @Ahn_Hyejie: [DAILY VOTE | 11/13 | #MAMAVOTE #mamamoo] Vote for Mamamoo on the MAMA website and listen to \"AYA\" on the Apple Music playl…\n",
      "\n",
      "9\n",
      "Screen name: JJgemms:\n",
      "   Language: th\n",
      "     Status: RT @honeyoneho: ไป มิวคลอ จริงๆ กรี๊ด https://t.co/YMRQIOIuUo\n",
      "\n",
      "10\n",
      "Screen name: SolartheCEO:\n",
      "   Language: und\n",
      "     Status: @Ma2moo1123 https://t.co/3xInUmcyyc\n",
      "\n",
      "11\n",
      "Screen name: kkkkkkoooooh:\n",
      "   Language: ja\n",
      "     Status: 今日は地上波でトゥバ堪能。\n",
      "Dynamiteカバーしてるテヒョン見ると、ほんとグクに憧れてるんだなってよくわかる！\n",
      "\n",
      "トゥバ、みんなかわいい💕\n",
      " #TOMORROWXTOGETHER\n",
      "\n",
      "TXT(투모로우바이투게더) 'Dynami… https://t.co/2UqCBQin4w\n",
      "\n",
      "12\n",
      "Screen name: jyothikatota:\n",
      "   Language: no\n",
      "     Status: more tiktok music\n",
      "https://t.co/z7OdZyMAfw\n",
      "\n",
      "13\n",
      "Screen name: Hapilos:\n",
      "   Language: en\n",
      "     Status: New Release! Another hit from @AIDONIA4THGENNA \n",
      "\n",
      "“HOUSE CORNER” out now!\n",
      "\n",
      "#Retweet Listen and stream on your favour… https://t.co/uzjrGqcRwt\n",
      "\n",
      "14\n",
      "Screen name: ihateqciga:\n",
      "   Language: en\n",
      "     Status: RT @btsvotingunite: VOTING RESET! Cast your votes again on MAMA Website! \n",
      "\n",
      "Stream BUTTER on Apple Music using MAMA playlist.\n",
      "\n",
      "🗳️: https://t…\n",
      "\n",
      "15\n",
      "Screen name: godnadine:\n",
      "   Language: en\n",
      "     Status: RT @newfangurl: @ninarome0 @vivingski @CARELESS_PH Realistically, what can she do about it, publicly? The label owns her music, they're the…\n",
      "\n",
      "16\n",
      "Screen name: ndeaah_17:\n",
      "   Language: en\n",
      "     Status: RT @NME: New Arctic Monkeys’ album is “pretty much” finished and hopefully coming in 2022 – along with a summer tour, says drummer Matt Hel…\n",
      "\n"
     ]
    },
    {
     "name": "stderr",
     "output_type": "stream",
     "text": [
      "Stream connection closed by Twitter\n"
     ]
    },
    {
     "name": "stdout",
     "output_type": "stream",
     "text": [
      "17\n",
      "Screen name: optimusearnx:\n",
      "   Language: th\n",
      "     Status: RT @NurzeYoung: ก็คือหลังจบโชว์มี10 นายทุนเจย์ปาร์คจะประกาศ Ourealgoat เป็นเมมเบอร์ใหม่ H1GHR MUSIC ป่ะ 🤩#SMTM10\n",
      "\n",
      "18\n",
      "Screen name: fg0F8Bk6n7nB5t8:\n",
      "   Language: ja\n",
      "     Status: RT @natalie_mu: SixTONES松村北斗が明日の「土スタ」に生出演、朝ドラ撮影秘話を明かす\n",
      "https://t.co/IUUO3JFslu\n",
      "\n",
      "#松村北斗 #SixTONES #土スタ #カムカムエヴリバディ\n",
      "\n",
      "19\n",
      "Screen name: jan_currin:\n",
      "   Language: und\n",
      "     Status: RT @MUTETHEMNOTHIM: https://t.co/w5xJGkuPSk #FreeRKelly\n",
      "\n"
     ]
    }
   ],
   "source": [
    "## Whatever you want to follow goes into the quotes in track\n",
    "tweet_listener.filter(track=['music'])"
   ]
  },
  {
   "cell_type": "code",
   "execution_count": 28,
   "id": "fc4dc2b8",
   "metadata": {
    "scrolled": false
   },
   "outputs": [
    {
     "name": "stdout",
     "output_type": "stream",
     "text": [
      "Connection successful\n",
      "\n"
     ]
    },
    {
     "name": "stderr",
     "output_type": "stream",
     "text": [
      "Stream connection closed by Twitter\n"
     ]
    },
    {
     "name": "stdout",
     "output_type": "stream",
     "text": [
      "20\n",
      "Screen name: Zakuro_san_bot:\n",
      "   Language: ja\n",
      "     Status: 『ちゃんとしない奴は腰抜け』とかなんとか、ミヤモト・マサシのアレよ。\n",
      "\n"
     ]
    }
   ],
   "source": [
    "## This gives you a sample of the incoming tweets. This can get you any and everything. Beware.\n",
    "tweet_listener.sample()"
   ]
  },
  {
   "cell_type": "markdown",
   "id": "d01fb91f",
   "metadata": {},
   "source": [
    "## Sentiment Listening"
   ]
  },
  {
   "cell_type": "code",
   "execution_count": 29,
   "id": "39aaaf89",
   "metadata": {},
   "outputs": [],
   "source": [
    "tweet_listener = SentimentListener(\n",
    "    consumer_key = keys.TWITTER_CONSUMER_KEY, \n",
    "    consumer_secret = keys.TWITTER_CONSUMER_SECRET,\n",
    "    access_token = keys.ACCESS_TOKEN, \n",
    "    access_token_secret = keys.ACCESS_TOKEN_SECRET, limit=20)"
   ]
  },
  {
   "cell_type": "code",
   "execution_count": 30,
   "id": "339a64d0",
   "metadata": {},
   "outputs": [
    {
     "name": "stdout",
     "output_type": "stream",
     "text": [
      "+ ojngseong: @PrompTeens @hmrai @Sanapaomu ️️ ️️ ️️ ️️ Proof that Einstein's brain is very charming and curious is shown in TWIC…\n",
      "\n",
      "  thala_sanjay_: @JpegGems @LotusGangNFT @SolRings #LOUDLINGS countdown has begin🚀 World's 1st #NFT Marketplace for music🎶 10,000 un…\n",
      "\n",
      "  JayKay_Earpiece: U don't like my taste in music? My jokes are lame? 😔💔 Okay I guess I'll shut up\n",
      "\n",
      "+ 3greggs: apparently it’s trap metal not noise music 😩😁\n",
      "\n",
      "- sjodomy: amelie lens last night was raw. banging hard techno is tight. i need to stop seeing guitar music.\n",
      "\n",
      "+ ramcrypto307: @RealmissNFT #LOUDLINGS countdown has begin🚀 World's 1st #NFT Marketplace for music🎶 10,000 unique loudlings🔥🔥 Rare…\n",
      "\n",
      "+ 934WMIX: NowPlaying Dat New Street Talk - @kulturefree Hosted by DJs @DJGreenguy @djkingassassin #RadioImpact Mo Music 15:48\n",
      "\n",
      "+ JeffriHernndez1: This trending music game is super addictive 😍 fun, exciting and challenging! 💥 Check it Out! 👉Tiles Hop👈…\n",
      "\n",
      "+ Cutepri40947043: @CryptoBoss1984 #LOUDLINGS countdown has begin World's 1st #NFT Marketplace for music 10,000 unique loudlings Rare…\n",
      "\n",
      "  Jo_aniinha: Mark Tuan - Last Breath (Official Music Video) via @YouTube\n",
      "\n",
      "  hugmetaylor: Istg we’re gonna get the getaway car music video I just know that\n",
      "\n",
      "  yykk7729: 🙌 💚@marktuan #MarkTuan #段宜恩 #LastBreath #LastBreath_MarkTuan #LastBreathOutToday @GOT7Official #GOT7 Mark Tuan -…\n",
      "\n",
      "  g_plbrc1204: Vote for Byul's bday ad, watch Solarsido &amp; order Hwasa's 2nd album 🥰 [DAILY VOTE | 11/12 | #MAMAVOTE #mamamoo ] Vo…\n",
      "\n",
      "+ WGOSocial: The latest WGO2GO: Sounds &amp; Scenes! Thanks to @MobilePunch @DanceConcept @Slant_Magazine #music #art\n",
      "\n",
      "- katehalty: red listening party at work. &amp; by listening party i mean i’m playing it on my phone over my coworker playing christ…\n",
      "\n",
      "  dougkoppel: @theofficialtxg @Sub70 Is that righty Matty’s theme music I hear??!!\n",
      "\n",
      "  queens_HM: So is their Comeback schedule out? Like are there any music shows they are attending at all? #TARA Or there are n…\n",
      "\n",
      "+ Win2Win19: @rynewm #LOUDLINGS countdown has begin World's 1st #NFT Marketplace for music 10,000 unique loudlings Rare edition…\n",
      "\n",
      "+ LiveMcrNews: NEW MUSIC: Blue Violet release new track Asylum ahead of #Manchester gig at @nightanddaycafe supporting…\n",
      "\n"
     ]
    },
    {
     "name": "stderr",
     "output_type": "stream",
     "text": [
      "Stream connection closed by Twitter\n"
     ]
    },
    {
     "name": "stdout",
     "output_type": "stream",
     "text": [
      "+ MattyP97_: Where are the music hackers? I need Bey’s cover of “Moon River” right now!\n",
      "\n"
     ]
    }
   ],
   "source": [
    "tweet_listener.filter(track=['music'], languages=['en'])"
   ]
  },
  {
   "cell_type": "code",
   "execution_count": 31,
   "id": "ed891532",
   "metadata": {},
   "outputs": [
    {
     "data": {
      "text/plain": [
       "{'positive': 10, 'neutral': 8, 'negative': 2}"
      ]
     },
     "execution_count": 31,
     "metadata": {},
     "output_type": "execute_result"
    }
   ],
   "source": [
    "tweet_listener.sentiment_dict"
   ]
  },
  {
   "cell_type": "markdown",
   "id": "356cbb6b",
   "metadata": {},
   "source": [
    "## Location Listening"
   ]
  },
  {
   "cell_type": "code",
   "execution_count": 32,
   "id": "3bdd2ac5",
   "metadata": {},
   "outputs": [],
   "source": [
    "tweet_listener = LocationListener(\n",
    "    consumer_key = keys.TWITTER_CONSUMER_KEY, \n",
    "    consumer_secret = keys.TWITTER_CONSUMER_SECRET,\n",
    "    access_token = keys.ACCESS_TOKEN, \n",
    "    access_token_secret = keys.ACCESS_TOKEN_SECRET, limit=10)"
   ]
  },
  {
   "cell_type": "code",
   "execution_count": 33,
   "id": "e7635487",
   "metadata": {
    "scrolled": true
   },
   "outputs": [
    {
     "name": "stdout",
     "output_type": "stream",
     "text": [
      "meghann4932: RT @jin_united: [Reminder] Keep voting for Jin as \"Most Handsome man of the 21st Century\"\n",
      "-using his obove circle if you voting with mobile…\n",
      "\n",
      "iotcybersec24: RT @Ronald_vanLoon: A Sustainable Telecom Sector: How #AI &amp; #Data Can Help\n",
      "by @Ronald_vanLoon &amp; @raquel_mtk |\n",
      "\n",
      "Learn more: https://t.co/STR…\n",
      "\n",
      "G6UCY: @gm8arv @DTL The school is responsible for the safe use and storage of the data help by them. Its as simple and str… https://t.co/WPl7I8Qwa4\n",
      "\n",
      "JakeDiamondbac1: @Walter23511244 @RubinReport If you spent 5 minutes looking at the data, you'd feel like an idiot posting this ridi… https://t.co/KdxbG5Gn0c\n",
      "\n",
      "jivioki: RT @ElectionWiz: REPORT: According to Bureau of Labor Statistics data, 4.4 million Americans quit their jobs in September as the labor shor…\n",
      "\n",
      "AlNahyanPrince1: RT @AirdropDet: 🔍 New #Airdrop: SportsIcon\n",
      "\n",
      "💲 Airdrop Pool: 5750 BUSD\n",
      "\n",
      "🔴 Start the airdrop bot: https://t.co/8DmJHdD3U3\n",
      "\n",
      "🔘 Do the tasks on…\n",
      "\n",
      "innonurse: RT @nau_93680: Healthcare's move from data collection to data analysis will have a notable impact on doctors, nurses, and patients alike. G…\n",
      "\n",
      "quantsapp: Tools you Pay for somewhere else are FREE &amp; most of them are updating in Real-time.\n",
      "\n",
      "#Quantsapp Offers 28 Free Opti… https://t.co/KUDbPIMTuz\n",
      "\n",
      "BarbaraMofokeng: Place of much water\n",
      "\n"
     ]
    },
    {
     "name": "stderr",
     "output_type": "stream",
     "text": [
      "Stream connection closed by Twitter\n"
     ]
    },
    {
     "name": "stdout",
     "output_type": "stream",
     "text": [
      "burgsey2: RT @MartinDaubney: Just SIX healthy children died with COVID in a year, says NHS data\n",
      "\n",
      "The chances are 1 in 2 million - meaning they’re mor…\n",
      "\n"
     ]
    }
   ],
   "source": [
    "tweet_listener.filter(track=['data'], languages=['en'])"
   ]
  },
  {
   "cell_type": "code",
   "execution_count": 34,
   "id": "19210183",
   "metadata": {},
   "outputs": [
    {
     "data": {
      "text/plain": [
       "{'total_tweets': 16, 'locations': 10}"
      ]
     },
     "execution_count": 34,
     "metadata": {},
     "output_type": "execute_result"
    }
   ],
   "source": [
    "## How many of the tweets have location attached\n",
    "tweet_listener.counts_dict"
   ]
  },
  {
   "cell_type": "code",
   "execution_count": null,
   "id": "151c2957",
   "metadata": {},
   "outputs": [
    {
     "name": "stdout",
     "output_type": "stream",
     "text": [
      "Getting coordinates for tweet locations...\n",
      "OpenMapQuest service timed out. Waiting.\n",
      "OpenMapQuest service timed out. Waiting.\n",
      "OpenMapQuest service timed out. Waiting.\n",
      "OpenMapQuest service timed out. Waiting.\n",
      "OpenMapQuest service timed out. Waiting.\n",
      "OpenMapQuest service timed out. Waiting.\n",
      "OpenMapQuest service timed out. Waiting.\n",
      "OpenMapQuest service timed out. Waiting.\n",
      "OpenMapQuest service timed out. Waiting.\n",
      "OpenMapQuest service timed out. Waiting.\n",
      "OpenMapQuest service timed out. Waiting.\n",
      "OpenMapQuest service timed out. Waiting.\n",
      "OpenMapQuest service timed out. Waiting.\n",
      "OpenMapQuest service timed out. Waiting.\n",
      "OpenMapQuest service timed out. Waiting.\n",
      "OpenMapQuest service timed out. Waiting.\n",
      "OpenMapQuest service timed out. Waiting.\n",
      "OpenMapQuest service timed out. Waiting.\n",
      "OpenMapQuest service timed out. Waiting.\n",
      "OpenMapQuest service timed out. Waiting.\n",
      "OpenMapQuest service timed out. Waiting.\n",
      "OpenMapQuest service timed out. Waiting.\n",
      "OpenMapQuest service timed out. Waiting.\n",
      "OpenMapQuest service timed out. Waiting.\n",
      "OpenMapQuest service timed out. Waiting.\n",
      "OpenMapQuest service timed out. Waiting.\n",
      "OpenMapQuest service timed out. Waiting.\n",
      "OpenMapQuest service timed out. Waiting.\n",
      "OpenMapQuest service timed out. Waiting.\n",
      "OpenMapQuest service timed out. Waiting.\n",
      "OpenMapQuest service timed out. Waiting.\n",
      "OpenMapQuest service timed out. Waiting.\n",
      "OpenMapQuest service timed out. Waiting.\n",
      "OpenMapQuest service timed out. Waiting.\n",
      "OpenMapQuest service timed out. Waiting.\n",
      "OpenMapQuest service timed out. Waiting.\n",
      "OpenMapQuest service timed out. Waiting.\n",
      "OpenMapQuest service timed out. Waiting.\n",
      "OpenMapQuest service timed out. Waiting.\n",
      "OpenMapQuest service timed out. Waiting.\n",
      "OpenMapQuest service timed out. Waiting.\n",
      "OpenMapQuest service timed out. Waiting.\n",
      "OpenMapQuest service timed out. Waiting.\n",
      "OpenMapQuest service timed out. Waiting.\n",
      "OpenMapQuest service timed out. Waiting.\n",
      "OpenMapQuest service timed out. Waiting.\n",
      "OpenMapQuest service timed out. Waiting.\n",
      "OpenMapQuest service timed out. Waiting.\n",
      "OpenMapQuest service timed out. Waiting.\n",
      "OpenMapQuest service timed out. Waiting.\n",
      "OpenMapQuest service timed out. Waiting.\n",
      "OpenMapQuest service timed out. Waiting.\n",
      "OpenMapQuest service timed out. Waiting.\n",
      "OpenMapQuest service timed out. Waiting.\n",
      "OpenMapQuest service timed out. Waiting.\n",
      "OpenMapQuest service timed out. Waiting.\n",
      "OpenMapQuest service timed out. Waiting.\n",
      "OpenMapQuest service timed out. Waiting.\n",
      "OpenMapQuest service timed out. Waiting.\n",
      "OpenMapQuest service timed out. Waiting.\n",
      "OpenMapQuest service timed out. Waiting.\n",
      "OpenMapQuest service timed out. Waiting.\n",
      "OpenMapQuest service timed out. Waiting.\n",
      "OpenMapQuest service timed out. Waiting.\n",
      "OpenMapQuest service timed out. Waiting.\n",
      "OpenMapQuest service timed out. Waiting.\n",
      "OpenMapQuest service timed out. Waiting.\n",
      "OpenMapQuest service timed out. Waiting.\n",
      "OpenMapQuest service timed out. Waiting.\n",
      "OpenMapQuest service timed out. Waiting.\n",
      "OpenMapQuest service timed out. Waiting.\n",
      "OpenMapQuest service timed out. Waiting.\n",
      "OpenMapQuest service timed out. Waiting.\n",
      "OpenMapQuest service timed out. Waiting.\n",
      "OpenMapQuest service timed out. Waiting.\n",
      "OpenMapQuest service timed out. Waiting.\n",
      "OpenMapQuest service timed out. Waiting.\n",
      "OpenMapQuest service timed out. Waiting.\n",
      "OpenMapQuest service timed out. Waiting.\n",
      "OpenMapQuest service timed out. Waiting.\n",
      "OpenMapQuest service timed out. Waiting.\n",
      "OpenMapQuest service timed out. Waiting.\n",
      "OpenMapQuest service timed out. Waiting.\n",
      "OpenMapQuest service timed out. Waiting.\n",
      "OpenMapQuest service timed out. Waiting.\n",
      "OpenMapQuest service timed out. Waiting.\n",
      "OpenMapQuest service timed out. Waiting.\n",
      "OpenMapQuest service timed out. Waiting.\n",
      "OpenMapQuest service timed out. Waiting.\n",
      "OpenMapQuest service timed out. Waiting.\n",
      "OpenMapQuest service timed out. Waiting.\n",
      "OpenMapQuest service timed out. Waiting.\n",
      "OpenMapQuest service timed out. Waiting.\n",
      "OpenMapQuest service timed out. Waiting.\n",
      "OpenMapQuest service timed out. Waiting.\n",
      "OpenMapQuest service timed out. Waiting.\n",
      "OpenMapQuest service timed out. Waiting.\n",
      "OpenMapQuest service timed out. Waiting.\n",
      "OpenMapQuest service timed out. Waiting.\n",
      "OpenMapQuest service timed out. Waiting.\n",
      "OpenMapQuest service timed out. Waiting.\n",
      "OpenMapQuest service timed out. Waiting.\n",
      "OpenMapQuest service timed out. Waiting.\n",
      "OpenMapQuest service timed out. Waiting.\n",
      "OpenMapQuest service timed out. Waiting.\n",
      "OpenMapQuest service timed out. Waiting.\n",
      "OpenMapQuest service timed out. Waiting.\n",
      "OpenMapQuest service timed out. Waiting.\n",
      "OpenMapQuest service timed out. Waiting.\n",
      "OpenMapQuest service timed out. Waiting.\n",
      "OpenMapQuest service timed out. Waiting.\n",
      "OpenMapQuest service timed out. Waiting.\n",
      "OpenMapQuest service timed out. Waiting.\n",
      "OpenMapQuest service timed out. Waiting.\n",
      "OpenMapQuest service timed out. Waiting.\n",
      "OpenMapQuest service timed out. Waiting.\n",
      "OpenMapQuest service timed out. Waiting.\n",
      "OpenMapQuest service timed out. Waiting.\n",
      "OpenMapQuest service timed out. Waiting.\n",
      "OpenMapQuest service timed out. Waiting.\n",
      "OpenMapQuest service timed out. Waiting.\n",
      "OpenMapQuest service timed out. Waiting.\n",
      "OpenMapQuest service timed out. Waiting.\n",
      "OpenMapQuest service timed out. Waiting.\n",
      "OpenMapQuest service timed out. Waiting.\n",
      "OpenMapQuest service timed out. Waiting.\n",
      "OpenMapQuest service timed out. Waiting.\n",
      "OpenMapQuest service timed out. Waiting.\n",
      "OpenMapQuest service timed out. Waiting.\n",
      "OpenMapQuest service timed out. Waiting.\n",
      "OpenMapQuest service timed out. Waiting.\n",
      "OpenMapQuest service timed out. Waiting.\n",
      "OpenMapQuest service timed out. Waiting.\n",
      "OpenMapQuest service timed out. Waiting.\n",
      "OpenMapQuest service timed out. Waiting.\n",
      "OpenMapQuest service timed out. Waiting.\n",
      "OpenMapQuest service timed out. Waiting.\n",
      "OpenMapQuest service timed out. Waiting.\n",
      "OpenMapQuest service timed out. Waiting.\n",
      "OpenMapQuest service timed out. Waiting.\n",
      "OpenMapQuest service timed out. Waiting.\n",
      "OpenMapQuest service timed out. Waiting.\n",
      "OpenMapQuest service timed out. Waiting.\n",
      "OpenMapQuest service timed out. Waiting.\n",
      "OpenMapQuest service timed out. Waiting.\n",
      "OpenMapQuest service timed out. Waiting.\n",
      "OpenMapQuest service timed out. Waiting.\n",
      "OpenMapQuest service timed out. Waiting.\n",
      "OpenMapQuest service timed out. Waiting.\n",
      "OpenMapQuest service timed out. Waiting.\n",
      "OpenMapQuest service timed out. Waiting.\n",
      "OpenMapQuest service timed out. Waiting.\n",
      "OpenMapQuest service timed out. Waiting.\n",
      "OpenMapQuest service timed out. Waiting.\n",
      "OpenMapQuest service timed out. Waiting.\n",
      "OpenMapQuest service timed out. Waiting.\n",
      "OpenMapQuest service timed out. Waiting.\n",
      "OpenMapQuest service timed out. Waiting.\n",
      "OpenMapQuest service timed out. Waiting.\n",
      "OpenMapQuest service timed out. Waiting.\n",
      "OpenMapQuest service timed out. Waiting.\n",
      "OpenMapQuest service timed out. Waiting.\n",
      "OpenMapQuest service timed out. Waiting.\n",
      "OpenMapQuest service timed out. Waiting.\n",
      "OpenMapQuest service timed out. Waiting.\n",
      "OpenMapQuest service timed out. Waiting.\n",
      "OpenMapQuest service timed out. Waiting.\n",
      "OpenMapQuest service timed out. Waiting.\n"
     ]
    }
   ],
   "source": [
    "bad_locations = get_geocodes(tweet_listener.tweets_list)"
   ]
  },
  {
   "cell_type": "code",
   "execution_count": 54,
   "id": "29877c5c",
   "metadata": {},
   "outputs": [
    {
     "data": {
      "text/plain": [
       "1"
      ]
     },
     "execution_count": 54,
     "metadata": {},
     "output_type": "execute_result"
    }
   ],
   "source": [
    "\n",
    "bad_locations"
   ]
  },
  {
   "cell_type": "code",
   "execution_count": 37,
   "id": "f64fa4bd",
   "metadata": {},
   "outputs": [],
   "source": [
    "df = pd.DataFrame(tweet_listener.tweets_list)\n",
    "df = df.dropna()"
   ]
  },
  {
   "cell_type": "code",
   "execution_count": 38,
   "id": "88090c1a",
   "metadata": {},
   "outputs": [],
   "source": [
    "usmap = folium.Map(location=[39.8283, -98.5795], tiles='Stamen Terrain',zoom_start=5, detect_retina=True)"
   ]
  },
  {
   "cell_type": "code",
   "execution_count": 39,
   "id": "66fa7146",
   "metadata": {},
   "outputs": [
    {
     "ename": "AttributeError",
     "evalue": "'Pandas' object has no attribute 'latitude'",
     "output_type": "error",
     "traceback": [
      "\u001b[0;31m---------------------------------------------------------------------------\u001b[0m",
      "\u001b[0;31mAttributeError\u001b[0m                            Traceback (most recent call last)",
      "\u001b[0;32m<ipython-input-39-2f9eecc14943>\u001b[0m in \u001b[0;36m<module>\u001b[0;34m\u001b[0m\n\u001b[1;32m      2\u001b[0m     \u001b[0mtext\u001b[0m \u001b[0;34m=\u001b[0m \u001b[0;34m': '\u001b[0m\u001b[0;34m.\u001b[0m\u001b[0mjoin\u001b[0m\u001b[0;34m(\u001b[0m\u001b[0;34m[\u001b[0m\u001b[0mt\u001b[0m\u001b[0;34m.\u001b[0m\u001b[0mscreen_name\u001b[0m\u001b[0;34m,\u001b[0m \u001b[0mt\u001b[0m\u001b[0;34m.\u001b[0m\u001b[0mtext\u001b[0m\u001b[0;34m]\u001b[0m\u001b[0;34m)\u001b[0m\u001b[0;34m\u001b[0m\u001b[0;34m\u001b[0m\u001b[0m\n\u001b[1;32m      3\u001b[0m     \u001b[0mpopup\u001b[0m \u001b[0;34m=\u001b[0m \u001b[0mfolium\u001b[0m\u001b[0;34m.\u001b[0m\u001b[0mPopup\u001b[0m\u001b[0;34m(\u001b[0m\u001b[0mtext\u001b[0m\u001b[0;34m,\u001b[0m \u001b[0mparse_html\u001b[0m\u001b[0;34m=\u001b[0m\u001b[0;32mTrue\u001b[0m\u001b[0;34m)\u001b[0m\u001b[0;34m\u001b[0m\u001b[0;34m\u001b[0m\u001b[0m\n\u001b[0;32m----> 4\u001b[0;31m     \u001b[0mmarker\u001b[0m \u001b[0;34m=\u001b[0m \u001b[0mfolium\u001b[0m\u001b[0;34m.\u001b[0m\u001b[0mMarker\u001b[0m\u001b[0;34m(\u001b[0m\u001b[0;34m(\u001b[0m\u001b[0mt\u001b[0m\u001b[0;34m.\u001b[0m\u001b[0mlatitude\u001b[0m\u001b[0;34m,\u001b[0m \u001b[0mt\u001b[0m\u001b[0;34m.\u001b[0m\u001b[0mlongitude\u001b[0m\u001b[0;34m)\u001b[0m\u001b[0;34m,\u001b[0m\u001b[0mpopup\u001b[0m\u001b[0;34m=\u001b[0m\u001b[0mpopup\u001b[0m\u001b[0;34m)\u001b[0m\u001b[0;34m\u001b[0m\u001b[0;34m\u001b[0m\u001b[0m\n\u001b[0m\u001b[1;32m      5\u001b[0m     \u001b[0mmarker\u001b[0m\u001b[0;34m.\u001b[0m\u001b[0madd_to\u001b[0m\u001b[0;34m(\u001b[0m\u001b[0musmap\u001b[0m\u001b[0;34m)\u001b[0m\u001b[0;34m\u001b[0m\u001b[0;34m\u001b[0m\u001b[0m\n",
      "\u001b[0;31mAttributeError\u001b[0m: 'Pandas' object has no attribute 'latitude'"
     ]
    }
   ],
   "source": [
    "for t in df.itertuples():\n",
    "    text = ': '.join([t.screen_name, t.text])\n",
    "    popup = folium.Popup(text, parse_html=True)\n",
    "    marker = folium.Marker((t.latitude, t.longitude),popup=popup)\n",
    "    marker.add_to(usmap)"
   ]
  },
  {
   "cell_type": "code",
   "execution_count": 58,
   "id": "424cafc6",
   "metadata": {},
   "outputs": [],
   "source": [
    "usmap.save('tweet_map.html')"
   ]
  },
  {
   "cell_type": "code",
   "execution_count": null,
   "id": "6b222887",
   "metadata": {},
   "outputs": [],
   "source": []
  }
 ],
 "metadata": {
  "kernelspec": {
   "display_name": "Python 3",
   "language": "python",
   "name": "python3"
  },
  "language_info": {
   "codemirror_mode": {
    "name": "ipython",
    "version": 3
   },
   "file_extension": ".py",
   "mimetype": "text/x-python",
   "name": "python",
   "nbconvert_exporter": "python",
   "pygments_lexer": "ipython3",
   "version": "3.8.8"
  }
 },
 "nbformat": 4,
 "nbformat_minor": 5
}
