{
 "cells": [
  {
   "cell_type": "code",
   "execution_count": 13,
   "id": "678c5220",
   "metadata": {},
   "outputs": [],
   "source": [
    "## Load our Modules. statsmodels is a new one we need to make sure is downloaded\n",
    "\n",
    "from sklearn.linear_model import LinearRegression\n",
    "import statsmodels.api as sm\n",
    "import pandas as pd\n",
    "import numpy as np\n",
    "import seaborn as sns\n",
    "from matplotlib import pyplot as plt\n",
    "from statsmodels.stats.outliers_influence import variance_inflation_factor"
   ]
  },
  {
   "cell_type": "code",
   "execution_count": 14,
   "id": "3b7a0ccf",
   "metadata": {},
   "outputs": [],
   "source": [
    "## Read in our Data\n",
    "\n",
    "df = pd.read_csv('insurance.csv')"
   ]
  },
  {
   "cell_type": "code",
   "execution_count": 15,
   "id": "21c0860e",
   "metadata": {},
   "outputs": [
    {
     "data": {
      "text/html": [
       "<div>\n",
       "<style scoped>\n",
       "    .dataframe tbody tr th:only-of-type {\n",
       "        vertical-align: middle;\n",
       "    }\n",
       "\n",
       "    .dataframe tbody tr th {\n",
       "        vertical-align: top;\n",
       "    }\n",
       "\n",
       "    .dataframe thead th {\n",
       "        text-align: right;\n",
       "    }\n",
       "</style>\n",
       "<table border=\"1\" class=\"dataframe\">\n",
       "  <thead>\n",
       "    <tr style=\"text-align: right;\">\n",
       "      <th></th>\n",
       "      <th>age</th>\n",
       "      <th>sex</th>\n",
       "      <th>bmi</th>\n",
       "      <th>children</th>\n",
       "      <th>smoker</th>\n",
       "      <th>region</th>\n",
       "      <th>charges</th>\n",
       "    </tr>\n",
       "  </thead>\n",
       "  <tbody>\n",
       "    <tr>\n",
       "      <th>0</th>\n",
       "      <td>19</td>\n",
       "      <td>female</td>\n",
       "      <td>27.900</td>\n",
       "      <td>0</td>\n",
       "      <td>yes</td>\n",
       "      <td>southwest</td>\n",
       "      <td>16884.92400</td>\n",
       "    </tr>\n",
       "    <tr>\n",
       "      <th>1</th>\n",
       "      <td>18</td>\n",
       "      <td>male</td>\n",
       "      <td>33.770</td>\n",
       "      <td>1</td>\n",
       "      <td>no</td>\n",
       "      <td>southeast</td>\n",
       "      <td>1725.55230</td>\n",
       "    </tr>\n",
       "    <tr>\n",
       "      <th>2</th>\n",
       "      <td>28</td>\n",
       "      <td>male</td>\n",
       "      <td>33.000</td>\n",
       "      <td>3</td>\n",
       "      <td>no</td>\n",
       "      <td>southeast</td>\n",
       "      <td>4449.46200</td>\n",
       "    </tr>\n",
       "    <tr>\n",
       "      <th>3</th>\n",
       "      <td>33</td>\n",
       "      <td>male</td>\n",
       "      <td>22.705</td>\n",
       "      <td>0</td>\n",
       "      <td>no</td>\n",
       "      <td>northwest</td>\n",
       "      <td>21984.47061</td>\n",
       "    </tr>\n",
       "    <tr>\n",
       "      <th>4</th>\n",
       "      <td>32</td>\n",
       "      <td>male</td>\n",
       "      <td>28.880</td>\n",
       "      <td>0</td>\n",
       "      <td>no</td>\n",
       "      <td>northwest</td>\n",
       "      <td>3866.85520</td>\n",
       "    </tr>\n",
       "  </tbody>\n",
       "</table>\n",
       "</div>"
      ],
      "text/plain": [
       "   age     sex     bmi  children smoker     region      charges\n",
       "0   19  female  27.900         0    yes  southwest  16884.92400\n",
       "1   18    male  33.770         1     no  southeast   1725.55230\n",
       "2   28    male  33.000         3     no  southeast   4449.46200\n",
       "3   33    male  22.705         0     no  northwest  21984.47061\n",
       "4   32    male  28.880         0     no  northwest   3866.85520"
      ]
     },
     "execution_count": 15,
     "metadata": {},
     "output_type": "execute_result"
    }
   ],
   "source": [
    "## Check the top five rows to see what we are working with\n",
    "\n",
    "df.head(5)"
   ]
  },
  {
   "cell_type": "code",
   "execution_count": 16,
   "id": "504d415c",
   "metadata": {},
   "outputs": [
    {
     "data": {
      "text/html": [
       "<div>\n",
       "<style scoped>\n",
       "    .dataframe tbody tr th:only-of-type {\n",
       "        vertical-align: middle;\n",
       "    }\n",
       "\n",
       "    .dataframe tbody tr th {\n",
       "        vertical-align: top;\n",
       "    }\n",
       "\n",
       "    .dataframe thead th {\n",
       "        text-align: right;\n",
       "    }\n",
       "</style>\n",
       "<table border=\"1\" class=\"dataframe\">\n",
       "  <thead>\n",
       "    <tr style=\"text-align: right;\">\n",
       "      <th></th>\n",
       "      <th>age</th>\n",
       "      <th>bmi</th>\n",
       "      <th>children</th>\n",
       "      <th>charges</th>\n",
       "    </tr>\n",
       "  </thead>\n",
       "  <tbody>\n",
       "    <tr>\n",
       "      <th>count</th>\n",
       "      <td>1338.000000</td>\n",
       "      <td>1338.000000</td>\n",
       "      <td>1338.000000</td>\n",
       "      <td>1338.000000</td>\n",
       "    </tr>\n",
       "    <tr>\n",
       "      <th>mean</th>\n",
       "      <td>39.207025</td>\n",
       "      <td>30.663397</td>\n",
       "      <td>1.094918</td>\n",
       "      <td>13270.422265</td>\n",
       "    </tr>\n",
       "    <tr>\n",
       "      <th>std</th>\n",
       "      <td>14.049960</td>\n",
       "      <td>6.098187</td>\n",
       "      <td>1.205493</td>\n",
       "      <td>12110.011237</td>\n",
       "    </tr>\n",
       "    <tr>\n",
       "      <th>min</th>\n",
       "      <td>18.000000</td>\n",
       "      <td>15.960000</td>\n",
       "      <td>0.000000</td>\n",
       "      <td>1121.873900</td>\n",
       "    </tr>\n",
       "    <tr>\n",
       "      <th>25%</th>\n",
       "      <td>27.000000</td>\n",
       "      <td>26.296250</td>\n",
       "      <td>0.000000</td>\n",
       "      <td>4740.287150</td>\n",
       "    </tr>\n",
       "    <tr>\n",
       "      <th>50%</th>\n",
       "      <td>39.000000</td>\n",
       "      <td>30.400000</td>\n",
       "      <td>1.000000</td>\n",
       "      <td>9382.033000</td>\n",
       "    </tr>\n",
       "    <tr>\n",
       "      <th>75%</th>\n",
       "      <td>51.000000</td>\n",
       "      <td>34.693750</td>\n",
       "      <td>2.000000</td>\n",
       "      <td>16639.912515</td>\n",
       "    </tr>\n",
       "    <tr>\n",
       "      <th>max</th>\n",
       "      <td>64.000000</td>\n",
       "      <td>53.130000</td>\n",
       "      <td>5.000000</td>\n",
       "      <td>63770.428010</td>\n",
       "    </tr>\n",
       "  </tbody>\n",
       "</table>\n",
       "</div>"
      ],
      "text/plain": [
       "               age          bmi     children       charges\n",
       "count  1338.000000  1338.000000  1338.000000   1338.000000\n",
       "mean     39.207025    30.663397     1.094918  13270.422265\n",
       "std      14.049960     6.098187     1.205493  12110.011237\n",
       "min      18.000000    15.960000     0.000000   1121.873900\n",
       "25%      27.000000    26.296250     0.000000   4740.287150\n",
       "50%      39.000000    30.400000     1.000000   9382.033000\n",
       "75%      51.000000    34.693750     2.000000  16639.912515\n",
       "max      64.000000    53.130000     5.000000  63770.428010"
      ]
     },
     "execution_count": 16,
     "metadata": {},
     "output_type": "execute_result"
    }
   ],
   "source": [
    "## Check out the summary statistics for missing values or outliers\n",
    "\n",
    "df.describe()"
   ]
  },
  {
   "cell_type": "code",
   "execution_count": 17,
   "id": "e74669fd",
   "metadata": {},
   "outputs": [
    {
     "data": {
      "text/html": [
       "<div>\n",
       "<style scoped>\n",
       "    .dataframe tbody tr th:only-of-type {\n",
       "        vertical-align: middle;\n",
       "    }\n",
       "\n",
       "    .dataframe tbody tr th {\n",
       "        vertical-align: top;\n",
       "    }\n",
       "\n",
       "    .dataframe thead th {\n",
       "        text-align: right;\n",
       "    }\n",
       "</style>\n",
       "<table border=\"1\" class=\"dataframe\">\n",
       "  <thead>\n",
       "    <tr style=\"text-align: right;\">\n",
       "      <th></th>\n",
       "      <th>female</th>\n",
       "      <th>male</th>\n",
       "    </tr>\n",
       "  </thead>\n",
       "  <tbody>\n",
       "    <tr>\n",
       "      <th>0</th>\n",
       "      <td>1</td>\n",
       "      <td>0</td>\n",
       "    </tr>\n",
       "    <tr>\n",
       "      <th>1</th>\n",
       "      <td>0</td>\n",
       "      <td>1</td>\n",
       "    </tr>\n",
       "    <tr>\n",
       "      <th>2</th>\n",
       "      <td>0</td>\n",
       "      <td>1</td>\n",
       "    </tr>\n",
       "    <tr>\n",
       "      <th>3</th>\n",
       "      <td>0</td>\n",
       "      <td>1</td>\n",
       "    </tr>\n",
       "    <tr>\n",
       "      <th>4</th>\n",
       "      <td>0</td>\n",
       "      <td>1</td>\n",
       "    </tr>\n",
       "    <tr>\n",
       "      <th>...</th>\n",
       "      <td>...</td>\n",
       "      <td>...</td>\n",
       "    </tr>\n",
       "    <tr>\n",
       "      <th>1333</th>\n",
       "      <td>0</td>\n",
       "      <td>1</td>\n",
       "    </tr>\n",
       "    <tr>\n",
       "      <th>1334</th>\n",
       "      <td>1</td>\n",
       "      <td>0</td>\n",
       "    </tr>\n",
       "    <tr>\n",
       "      <th>1335</th>\n",
       "      <td>1</td>\n",
       "      <td>0</td>\n",
       "    </tr>\n",
       "    <tr>\n",
       "      <th>1336</th>\n",
       "      <td>1</td>\n",
       "      <td>0</td>\n",
       "    </tr>\n",
       "    <tr>\n",
       "      <th>1337</th>\n",
       "      <td>1</td>\n",
       "      <td>0</td>\n",
       "    </tr>\n",
       "  </tbody>\n",
       "</table>\n",
       "<p>1338 rows × 2 columns</p>\n",
       "</div>"
      ],
      "text/plain": [
       "      female  male\n",
       "0          1     0\n",
       "1          0     1\n",
       "2          0     1\n",
       "3          0     1\n",
       "4          0     1\n",
       "...      ...   ...\n",
       "1333       0     1\n",
       "1334       1     0\n",
       "1335       1     0\n",
       "1336       1     0\n",
       "1337       1     0\n",
       "\n",
       "[1338 rows x 2 columns]"
      ]
     },
     "execution_count": 17,
     "metadata": {},
     "output_type": "execute_result"
    }
   ],
   "source": [
    "## This function will take our categorical variables and turn them into ones and zeros\n",
    "\n",
    "pd.get_dummies(df.sex)"
   ]
  },
  {
   "cell_type": "code",
   "execution_count": 19,
   "id": "8c36d1c8",
   "metadata": {},
   "outputs": [
    {
     "data": {
      "text/html": [
       "<div>\n",
       "<style scoped>\n",
       "    .dataframe tbody tr th:only-of-type {\n",
       "        vertical-align: middle;\n",
       "    }\n",
       "\n",
       "    .dataframe tbody tr th {\n",
       "        vertical-align: top;\n",
       "    }\n",
       "\n",
       "    .dataframe thead th {\n",
       "        text-align: right;\n",
       "    }\n",
       "</style>\n",
       "<table border=\"1\" class=\"dataframe\">\n",
       "  <thead>\n",
       "    <tr style=\"text-align: right;\">\n",
       "      <th></th>\n",
       "      <th>northeast</th>\n",
       "      <th>northwest</th>\n",
       "      <th>southeast</th>\n",
       "      <th>southwest</th>\n",
       "    </tr>\n",
       "  </thead>\n",
       "  <tbody>\n",
       "    <tr>\n",
       "      <th>0</th>\n",
       "      <td>0</td>\n",
       "      <td>0</td>\n",
       "      <td>0</td>\n",
       "      <td>1</td>\n",
       "    </tr>\n",
       "    <tr>\n",
       "      <th>1</th>\n",
       "      <td>0</td>\n",
       "      <td>0</td>\n",
       "      <td>1</td>\n",
       "      <td>0</td>\n",
       "    </tr>\n",
       "    <tr>\n",
       "      <th>2</th>\n",
       "      <td>0</td>\n",
       "      <td>0</td>\n",
       "      <td>1</td>\n",
       "      <td>0</td>\n",
       "    </tr>\n",
       "    <tr>\n",
       "      <th>3</th>\n",
       "      <td>0</td>\n",
       "      <td>1</td>\n",
       "      <td>0</td>\n",
       "      <td>0</td>\n",
       "    </tr>\n",
       "    <tr>\n",
       "      <th>4</th>\n",
       "      <td>0</td>\n",
       "      <td>1</td>\n",
       "      <td>0</td>\n",
       "      <td>0</td>\n",
       "    </tr>\n",
       "    <tr>\n",
       "      <th>...</th>\n",
       "      <td>...</td>\n",
       "      <td>...</td>\n",
       "      <td>...</td>\n",
       "      <td>...</td>\n",
       "    </tr>\n",
       "    <tr>\n",
       "      <th>1333</th>\n",
       "      <td>0</td>\n",
       "      <td>1</td>\n",
       "      <td>0</td>\n",
       "      <td>0</td>\n",
       "    </tr>\n",
       "    <tr>\n",
       "      <th>1334</th>\n",
       "      <td>1</td>\n",
       "      <td>0</td>\n",
       "      <td>0</td>\n",
       "      <td>0</td>\n",
       "    </tr>\n",
       "    <tr>\n",
       "      <th>1335</th>\n",
       "      <td>0</td>\n",
       "      <td>0</td>\n",
       "      <td>1</td>\n",
       "      <td>0</td>\n",
       "    </tr>\n",
       "    <tr>\n",
       "      <th>1336</th>\n",
       "      <td>0</td>\n",
       "      <td>0</td>\n",
       "      <td>0</td>\n",
       "      <td>1</td>\n",
       "    </tr>\n",
       "    <tr>\n",
       "      <th>1337</th>\n",
       "      <td>0</td>\n",
       "      <td>1</td>\n",
       "      <td>0</td>\n",
       "      <td>0</td>\n",
       "    </tr>\n",
       "  </tbody>\n",
       "</table>\n",
       "<p>1338 rows × 4 columns</p>\n",
       "</div>"
      ],
      "text/plain": [
       "      northeast  northwest  southeast  southwest\n",
       "0             0          0          0          1\n",
       "1             0          0          1          0\n",
       "2             0          0          1          0\n",
       "3             0          1          0          0\n",
       "4             0          1          0          0\n",
       "...         ...        ...        ...        ...\n",
       "1333          0          1          0          0\n",
       "1334          1          0          0          0\n",
       "1335          0          0          1          0\n",
       "1336          0          0          0          1\n",
       "1337          0          1          0          0\n",
       "\n",
       "[1338 rows x 4 columns]"
      ]
     },
     "execution_count": 19,
     "metadata": {},
     "output_type": "execute_result"
    }
   ],
   "source": [
    "pd.get_dummies(df.region)"
   ]
  },
  {
   "cell_type": "code",
   "execution_count": 11,
   "id": "19f7001d",
   "metadata": {},
   "outputs": [],
   "source": [
    "## This is how we save our results from the dummy transformation into our dataset. We only need to do it for female\n",
    "## as not being female implies male for this problem\n",
    "\n",
    "df['female'] = pd.get_dummies(df.sex)['female']"
   ]
  },
  {
   "cell_type": "code",
   "execution_count": null,
   "id": "3b74549d",
   "metadata": {},
   "outputs": [],
   "source": [
    "## peek to make sure it worked\n",
    "\n",
    "df.head(5)"
   ]
  },
  {
   "cell_type": "code",
   "execution_count": null,
   "id": "2e18def6",
   "metadata": {},
   "outputs": [],
   "source": [
    "## Do the same for smokers vs not smokers\n",
    "\n",
    "df['isSmoker'] = pd.get_dummies(df.smoker)['yes']"
   ]
  },
  {
   "cell_type": "code",
   "execution_count": null,
   "id": "87b41d12",
   "metadata": {},
   "outputs": [],
   "source": [
    "## Create a dummy for each region except for one. Including all regions would create multicollineraity.\n",
    "##  We make one for SW, NE, and SE. So that when all of these are 0, it implies the person is from NW.\n",
    "\n",
    "df['southwest'] = pd.get_dummies(df.region)['southwest']"
   ]
  },
  {
   "cell_type": "code",
   "execution_count": null,
   "id": "1ffb3842",
   "metadata": {},
   "outputs": [],
   "source": [
    "df['northeast'] = pd.get_dummies(df.region)['northeast']"
   ]
  },
  {
   "cell_type": "code",
   "execution_count": null,
   "id": "056c1623",
   "metadata": {},
   "outputs": [],
   "source": [
    "df['southeast'] = pd.get_dummies(df.region)['southeast']"
   ]
  },
  {
   "cell_type": "code",
   "execution_count": null,
   "id": "0ea752ca",
   "metadata": {
    "scrolled": true
   },
   "outputs": [],
   "source": [
    "## Check again to make sure it looks good\n",
    "\n",
    "df.head(5)"
   ]
  },
  {
   "cell_type": "code",
   "execution_count": null,
   "id": "a0f1865d",
   "metadata": {},
   "outputs": [],
   "source": [
    "## There are a few ways to get regression results in Python. This first way is with scikit-learn. This method is used\n",
    "## mainly for machine learning purposes as we do not get a full print out of regression results and need to \n",
    "## ask for each component\n",
    "\n",
    "## Let's start with a simple linear regression where we use as the Independent variable and Charges as the dependent variable\n",
    "\n",
    "X = df[['bmi']]\n",
    "y = df['charges']\n",
    "model = LinearRegression().fit(X,y)"
   ]
  },
  {
   "cell_type": "code",
   "execution_count": null,
   "id": "d5d07d17",
   "metadata": {},
   "outputs": [],
   "source": [
    "## This is how to extract the residuals and the predicted values\n",
    "y_pred = model.predict(X)\n",
    "resid = y - y_pred"
   ]
  },
  {
   "cell_type": "code",
   "execution_count": null,
   "id": "8636ced3",
   "metadata": {},
   "outputs": [],
   "source": [
    "## This is the slope of the linear model\n",
    "model.coef_[0]"
   ]
  },
  {
   "cell_type": "code",
   "execution_count": null,
   "id": "9be7871c",
   "metadata": {},
   "outputs": [],
   "source": [
    "## This is the intercept of the linear model\n",
    "model.intercept_"
   ]
  },
  {
   "cell_type": "code",
   "execution_count": null,
   "id": "3d76e519",
   "metadata": {},
   "outputs": [],
   "source": [
    "## This is how we get our R-Squared value. This tells us the overall fit of the model\n",
    "model.score(X,y)"
   ]
  },
  {
   "cell_type": "code",
   "execution_count": null,
   "id": "8b13ac66",
   "metadata": {},
   "outputs": [],
   "source": [
    "## This is how we get a prediction for annual charges with a BMI of 30\n",
    "model.predict([[30]])"
   ]
  },
  {
   "cell_type": "code",
   "execution_count": null,
   "id": "fc1e4c6f",
   "metadata": {},
   "outputs": [],
   "source": [
    "## Here is our scatterplot with the linear regression line\n",
    "plt.scatter(X,y)\n",
    "plt.plot(X,model.coef_[0]*X + model.intercept_,color='red')\n",
    "plt.show()"
   ]
  },
  {
   "cell_type": "code",
   "execution_count": null,
   "id": "7e7f5563",
   "metadata": {},
   "outputs": [],
   "source": [
    "## Let's try a multiple regression problem adding in Age as an independent variable.\n",
    "X = df[['bmi','age']]\n",
    "y = df['charges']\n",
    "model = LinearRegression().fit(X,y)"
   ]
  },
  {
   "cell_type": "code",
   "execution_count": null,
   "id": "19d79882",
   "metadata": {},
   "outputs": [],
   "source": [
    "## This gives us two coefficients, one for each of our independent variables\n",
    "model.coef_"
   ]
  },
  {
   "cell_type": "code",
   "execution_count": null,
   "id": "1c6de311",
   "metadata": {},
   "outputs": [],
   "source": [
    "## This is the intercept of the linear model\n",
    "model.intercept_"
   ]
  },
  {
   "cell_type": "code",
   "execution_count": null,
   "id": "85372e5f",
   "metadata": {},
   "outputs": [],
   "source": [
    "## The R^2 increased a bit. This model is looking better already.\n",
    "model.score(X,y)"
   ]
  },
  {
   "cell_type": "code",
   "execution_count": null,
   "id": "d299db2b",
   "metadata": {},
   "outputs": [],
   "source": [
    "## This is how we get a prediction for annual charges with a BMI of 30 and age of 50\n",
    "model.predict([[30,50]])"
   ]
  },
  {
   "cell_type": "code",
   "execution_count": null,
   "id": "7435c1ad",
   "metadata": {},
   "outputs": [],
   "source": [
    "# Let's dive into some multiple regression using the second method. This method uses the statsmodels module. "
   ]
  },
  {
   "cell_type": "code",
   "execution_count": null,
   "id": "27537ec7",
   "metadata": {},
   "outputs": [],
   "source": [
    "## This is our pairplot to look for multicollinearity between the independent variables and\n",
    "## linearity between the dependent and independent variables\n",
    "\n",
    "sns.pairplot(df,x_vars=['charges','age','bmi','children'],y_vars=['charges','age','bmi','children'],corner=True)\n",
    "plt.show()"
   ]
  },
  {
   "cell_type": "code",
   "execution_count": null,
   "id": "7c08cda6",
   "metadata": {},
   "outputs": [],
   "source": [
    "## This is how we fit the multiple regression model. It is a little different format than what we had before\n",
    "## but the results it gives us will be cleaner. The first line you can add or subtract variables from your model.\n",
    "## The second line adds a column of ones to the from of your variables, a nessecary step for this model\n",
    "## The third row is our dependent variables\n",
    "## You may get a warning here that has to do with the second line\n",
    "\n",
    "X=df[['age','bmi','children','female','isSmoker','southeast','northeast','southwest']]\n",
    "X = sm.add_constant(X)\n",
    "y=df['charges']"
   ]
  },
  {
   "cell_type": "code",
   "execution_count": null,
   "id": "e328e30a",
   "metadata": {},
   "outputs": [],
   "source": [
    "## This is how we check the VIFs for multicollinearity. The cutoff value we use is 5. If any of the variables\n",
    "## have a VIF greater than 5, you should leave it out of your model\n",
    "## This passes the multicollinearity assumptions\n",
    "vif_data = pd.DataFrame()\n",
    "vif_data[\"feature\"] = X.columns\n",
    "vif_data[\"VIF\"] = [variance_inflation_factor(X.values, i)\n",
    "                          for i in range(len(X.columns))]\n",
    "print(vif_data)"
   ]
  },
  {
   "cell_type": "code",
   "execution_count": null,
   "id": "8c3a6ee2",
   "metadata": {},
   "outputs": [],
   "source": [
    "## This fits our model, get the predicted values, and the residuals\n",
    "model = sm.OLS(y,X).fit()\n",
    "y_pred = model.predict(X)\n",
    "resid = y - y_pred"
   ]
  },
  {
   "cell_type": "code",
   "execution_count": null,
   "id": "a862a979",
   "metadata": {},
   "outputs": [],
   "source": [
    "## This gives us a nice model summary. No more need to grab each coefficient or R^2\n",
    "print(model.summary())"
   ]
  },
  {
   "cell_type": "code",
   "execution_count": null,
   "id": "679278a6",
   "metadata": {},
   "outputs": [],
   "source": [
    "## This looks for constant variance and linearity. Both look pretty bad and fail the assumptions\n",
    "plt.scatter(y_pred,resid,color='b')\n",
    "plt.axhline(y=0, color='r', linestyle='-')\n",
    "plt.show()"
   ]
  },
  {
   "cell_type": "code",
   "execution_count": null,
   "id": "793116a5",
   "metadata": {},
   "outputs": [],
   "source": [
    "## This looks for normality. Pretty positively skewed. Not Good!\n",
    "plt.hist(resid)\n",
    "plt.show()"
   ]
  },
  {
   "cell_type": "code",
   "execution_count": null,
   "id": "49a0d707",
   "metadata": {},
   "outputs": [],
   "source": [
    "## Transform charges into Log(charges)\n",
    "df[\"lcharges\"] = np.log(df[\"charges\"])"
   ]
  },
  {
   "cell_type": "code",
   "execution_count": null,
   "id": "49d7d389",
   "metadata": {},
   "outputs": [],
   "source": [
    "sns.pairplot(df,x_vars=['lcharges','age','bmi','children'],y_vars=['lcharges','age','bmi','children'],corner=True)\n",
    "plt.show()"
   ]
  },
  {
   "cell_type": "code",
   "execution_count": null,
   "id": "467f7515",
   "metadata": {},
   "outputs": [],
   "source": [
    "## Redefine our model\n",
    "X=df[['age','bmi','children','female','isSmoker','southeast','northeast','southwest']]\n",
    "X = sm.add_constant(X)\n",
    "y=df['lcharges']"
   ]
  },
  {
   "cell_type": "code",
   "execution_count": null,
   "id": "faaa41e9",
   "metadata": {},
   "outputs": [],
   "source": [
    "## Refit the model\n",
    "model = sm.OLS(y,X).fit()\n",
    "y_pred = model.predict(X)\n",
    "resid = y - y_pred"
   ]
  },
  {
   "cell_type": "code",
   "execution_count": null,
   "id": "6f13acf5",
   "metadata": {},
   "outputs": [],
   "source": [
    "## Get the summary\n",
    "print(model.summary())"
   ]
  },
  {
   "cell_type": "code",
   "execution_count": null,
   "id": "0195937c",
   "metadata": {},
   "outputs": [],
   "source": [
    "## Some weird stuff going on here. Fails both linearity and constant variance assumptions\n",
    "plt.scatter(y_pred,resid,color='b')\n",
    "plt.axhline(y=0, color='r', linestyle='-')\n",
    "plt.show()"
   ]
  },
  {
   "cell_type": "code",
   "execution_count": null,
   "id": "f690361a",
   "metadata": {},
   "outputs": [],
   "source": [
    "## Pretty skewed. Fails normality\n",
    "plt.hist(resid)\n",
    "plt.show()"
   ]
  },
  {
   "cell_type": "code",
   "execution_count": null,
   "id": "7929087a",
   "metadata": {},
   "outputs": [],
   "source": [
    "## Let's drop Age because it has those weird patterns with charges. Will still use log(charges) as dependent\n",
    "X= df[['bmi','children','female','isSmoker','southeast','northeast','southwest']]\n",
    "X = sm.add_constant(X)\n",
    "y= df['lcharges']"
   ]
  },
  {
   "cell_type": "code",
   "execution_count": null,
   "id": "570f38f1",
   "metadata": {},
   "outputs": [],
   "source": [
    "model = sm.OLS(y,X).fit()\n",
    "y_pred = model.predict(X)\n",
    "resid = y - y_pred\n",
    "print(model.summary())"
   ]
  },
  {
   "cell_type": "code",
   "execution_count": null,
   "id": "eb3332ca",
   "metadata": {},
   "outputs": [],
   "source": [
    "## This looks better but we can see two distinct groups that have different variances\n",
    "plt.scatter(y_pred,resid,color='b')\n",
    "plt.axhline(y=0, color='r', linestyle='-')\n",
    "plt.show()"
   ]
  },
  {
   "cell_type": "code",
   "execution_count": null,
   "id": "660530f4",
   "metadata": {},
   "outputs": [],
   "source": [
    "## This looks better for normality but not perfect\n",
    "plt.hist(resid)\n",
    "plt.show()"
   ]
  },
  {
   "cell_type": "code",
   "execution_count": null,
   "id": "cbbce055",
   "metadata": {},
   "outputs": [],
   "source": []
  },
  {
   "cell_type": "code",
   "execution_count": null,
   "id": "8a8483af",
   "metadata": {},
   "outputs": [],
   "source": []
  },
  {
   "cell_type": "code",
   "execution_count": null,
   "id": "e193135f",
   "metadata": {},
   "outputs": [],
   "source": []
  },
  {
   "cell_type": "code",
   "execution_count": null,
   "id": "3b2de569",
   "metadata": {},
   "outputs": [],
   "source": []
  },
  {
   "cell_type": "code",
   "execution_count": null,
   "id": "178a1a39",
   "metadata": {},
   "outputs": [],
   "source": []
  },
  {
   "cell_type": "code",
   "execution_count": null,
   "id": "70684cec",
   "metadata": {},
   "outputs": [],
   "source": []
  },
  {
   "cell_type": "code",
   "execution_count": null,
   "id": "6ef323c0",
   "metadata": {},
   "outputs": [],
   "source": []
  },
  {
   "cell_type": "code",
   "execution_count": null,
   "id": "05832023",
   "metadata": {},
   "outputs": [],
   "source": []
  }
 ],
 "metadata": {
  "kernelspec": {
   "display_name": "Python 3",
   "language": "python",
   "name": "python3"
  },
  "language_info": {
   "codemirror_mode": {
    "name": "ipython",
    "version": 3
   },
   "file_extension": ".py",
   "mimetype": "text/x-python",
   "name": "python",
   "nbconvert_exporter": "python",
   "pygments_lexer": "ipython3",
   "version": "3.8.8"
  }
 },
 "nbformat": 4,
 "nbformat_minor": 5
}
