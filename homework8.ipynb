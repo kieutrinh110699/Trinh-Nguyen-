{
 "cells": [
  {
   "cell_type": "code",
   "execution_count": 1,
   "id": "95a44bd4",
   "metadata": {},
   "outputs": [],
   "source": [
    "import tweepy\n",
    "import keys\n",
    "from textblob import TextBlob\n",
    "from operator import itemgetter\n",
    "from wordcloud import WordCloud\n",
    "import preprocessor as p\n",
    "import sys\n",
    "from tweepy import Stream\n",
    "from tweepy import OAuthHandler\n",
    "from tweetlistener import TweetListener\n",
    "from sentimentlistener import SentimentListener\n",
    "from locationlistener import LocationListener\n",
    "from tweetutilities import get_geocodes\n",
    "import pandas as pd\n",
    "import folium"
   ]
  },
  {
   "cell_type": "code",
   "execution_count": 3,
   "id": "f27c0172",
   "metadata": {},
   "outputs": [],
   "source": [
    "auth = tweepy.OAuthHandler(keys.TWITTER_CONSUMER_KEY, keys.TWITTER_CONSUMER_SECRET)\n",
    "auth.set_access_token(keys.ACCESS_TOKEN, keys.ACCESS_TOKEN_SECRET)\n",
    "api = tweepy.API(auth, wait_on_rate_limit=True)"
   ]
  },
  {
   "cell_type": "code",
   "execution_count": 4,
   "id": "23696fa1",
   "metadata": {},
   "outputs": [
    {
     "name": "stdout",
     "output_type": "stream",
     "text": [
      "Taylor Swift\n",
      "NCT 2021\n",
      "Johnson\n",
      "Albedo\n",
      "Jake Gyllenhaal\n",
      "Red TV\n",
      "#DisneyPlusDay\n",
      "Itto\n",
      "Silk Sonic\n",
      "Beyoncé\n",
      "Eula\n",
      "FOREVER WITH SWEET TAEHYUNG\n",
      "Good Friday\n",
      "Mark Meadows\n",
      "Pence\n",
      "#FreeBritney\n",
      "Kenobi\n",
      "T Swift\n",
      "MySpace\n",
      "Bruno Mars\n",
      "#fridaymorning\n",
      "Happy Red\n",
      "#RacistJoe\n",
      "Predator\n",
      "bennett\n",
      "Dani Alves\n",
      "After Last Night\n",
      "Damon\n",
      "Pinocchio\n",
      "Baymax\n",
      "Kant\n"
     ]
    }
   ],
   "source": [
    "#1\n",
    "mpls_trends = api.get_place_trends(id=2459115)\n",
    "mpls_list = mpls_trends[0]['trends']\n",
    "mpls_list = [t for t in mpls_list if t['tweet_volume']]\n",
    "mpls_list.sort(key=itemgetter('tweet_volume'), reverse=True)\n",
    "for trend in mpls_list:\n",
    "    print(trend['name'])"
   ]
  },
  {
   "cell_type": "code",
   "execution_count": 23,
   "id": "bd388419",
   "metadata": {},
   "outputs": [],
   "source": [
    "#2\n",
    "topics = {}\n",
    "for trend in mpls_list:\n",
    "     topics[trend['name']] = trend['tweet_volume']\n",
    "wordcloud = WordCloud(width=1600, height=900,\n",
    "    prefer_horizontal=0.5, min_font_size=10, colormap='prism',\n",
    "    background_color='white')\n",
    "wordcloud = wordcloud.fit_words(topics)\n",
    "wordcloud = wordcloud.to_file('NewYorkTrending.png')"
   ]
  },
  {
   "cell_type": "code",
   "execution_count": 24,
   "id": "3880baed",
   "metadata": {},
   "outputs": [],
   "source": [
    "#3\n",
    "tweet_listener = SentimentListener(\n",
    "    consumer_key = keys.TWITTER_CONSUMER_KEY, \n",
    "    consumer_secret = keys.TWITTER_CONSUMER_SECRET,\n",
    "    access_token = keys.ACCESS_TOKEN, \n",
    "    access_token_secret = keys.ACCESS_TOKEN_SECRET, limit=100)"
   ]
  },
  {
   "cell_type": "code",
   "execution_count": null,
   "id": "63a12106",
   "metadata": {},
   "outputs": [
    {
     "name": "stdout",
     "output_type": "stream",
     "text": [
      "- bellefollevie: That new MySpace gone get a lot of you sneaky ass niggas caught up. Cause y’all are dumb😂and don’t know how to hide shit.\n",
      "\n",
      "- heather_lenard: Dead 🤣 We all had this hair on MySpace\n",
      "\n",
      "+ _DCCCVII: What tf is spacehey??? The new MySpace?\n",
      "\n",
      "  tylah_thegirl: We do NOT need a reboot of myspace....\n",
      "\n",
      "+ eighty8babyyy: I want my old MySpace back 😩\n",
      "\n",
      "+ gabyrecabar: I’m real tempted\n",
      "\n",
      "- YAFYNTHEGOAT: pc4pc bitches “owning” yo pics or getting mad if they wasn’t in yo top friends man that was a era\n",
      "\n"
     ]
    }
   ],
   "source": [
    "tweet_listener.filter(track=['MySpace'], languages=['en'])"
   ]
  },
  {
   "cell_type": "code",
   "execution_count": null,
   "id": "6daa67cc",
   "metadata": {},
   "outputs": [],
   "source": [
    "tweet_listener.sentiment_dict"
   ]
  },
  {
   "cell_type": "code",
   "execution_count": 11,
   "id": "32581e9d",
   "metadata": {},
   "outputs": [],
   "source": [
    "#4\n",
    "tweet_listener = LocationListener(\n",
    "    consumer_key = keys.TWITTER_CONSUMER_KEY, \n",
    "    consumer_secret = keys.TWITTER_CONSUMER_SECRET,\n",
    "    access_token = keys.ACCESS_TOKEN, \n",
    "    access_token_secret = keys.ACCESS_TOKEN_SECRET, limit=100)"
   ]
  },
  {
   "cell_type": "code",
   "execution_count": 12,
   "id": "7250ec75",
   "metadata": {},
   "outputs": [
    {
     "name": "stdout",
     "output_type": "stream",
     "text": [
      "IndyCredible: What is this Space Hey business I am seeing ? MySpace pt 2?\n",
      "\n",
      "IndyCredible: What is this Space Hey business I am seeing ? MySpace pt 2?\n",
      "\n",
      "IndyCredible: What is this Space Hey business I am seeing ? MySpace pt 2?\n",
      "\n",
      "JONPFOREVER: RT @SirKedzLaFlare: Myspace could rebrand as a mobile app and take over the game\n",
      "\n",
      "PimpmikeC: WE BACK!!??? WE BACK?!!\n",
      "\n",
      "JONPFOREVER: RT @SirKedzLaFlare: Myspace could rebrand as a mobile app and take over the game\n",
      "\n",
      "JONPFOREVER: RT @SirKedzLaFlare: Myspace could rebrand as a mobile app and take over the game\n",
      "\n",
      "PimpmikeC: WE BACK!!??? WE BACK?!!\n",
      "\n",
      "MySideRule: Just to be right back on Twitter 😂\n",
      "\n",
      "mercyonmarcy: MYSPACE IS BACK!?!?\n",
      "\n",
      "marialysse: @anikilling @misseverywhereg @_faithskingdom Was born in 99 and never had a myspace\n",
      "\n",
      "Yung_aku8: RT @SirKedzLaFlare: Myspace could rebrand as a mobile app and take over the game\n",
      "\n",
      "marialysse: @anikilling @misseverywhereg @_faithskingdom Was born in 99 and never had a myspace\n",
      "\n",
      "JoelVenomIL: RT @LetsGoHayes_: Was talking to Jim last night, whole time I kept thinking. \n",
      "\n",
      "Damn I really used to have emotionless on my MySpace page fo…\n",
      "\n",
      "crumbofxp: RT @AYYEJOYCE: MySpace being back means I got my job back as a html coder https://t.co/9s1SwZxmzI\n",
      "\n",
      "LordOhi: MySpace Back?!\n",
      "\n",
      "__therealshanti: RT @_faithskingdom: for my 90s babies☺️ MySpace is back and it’s called SpaceHey 😭💞💕 go add me as a friend at Faithhhhh (faith with 5 h) ht…\n",
      "\n",
      "NoelleVegas: So what’s making a space hey? I’m trying to MySpace famous 😮‍💨\n",
      "\n",
      "CourtneeHendrix: I didn’t really enjoy MySpace like that, but until Twitter I wasn’t a fan of internet strangers either. MySpace was… https://t.co/Ki02AcqIJW\n",
      "\n",
      "Spacedandy2000: RT @english_shamar: MySpace returning to 90s babies lives as SpaceHey\n",
      " https://t.co/TOFPULbDjA\n",
      "\n",
      "amber_a_bi: i don't care about new myspace make me a neopets that actually works\n",
      "\n",
      "yyydni: same 🤣i kinda want to make one dou\n",
      "\n",
      "BrandonMena13: RT @AllThatandMoore: Me sitting there while my friend designs my MySpace https://t.co/7B1AWh9vYF\n",
      "\n",
      "_aDoseOfSins: RT @SirKedzLaFlare: Myspace could rebrand as a mobile app and take over the game\n",
      "\n",
      "LoneDynasty: RT @SirKedzLaFlare: Myspace could rebrand as a mobile app and take over the game\n",
      "\n",
      "KelChristieanna: RT @SirKedzLaFlare: Myspace could rebrand as a mobile app and take over the game\n",
      "\n",
      "ComputaLuv: I’d fuck everyone up with my page 😂\n",
      "\n",
      "Africansplashh: RT @__naimaaa: I’m not making no myspace that’s anything 🤣\n",
      "\n",
      "thvch: Ain’t nobody signing up for a MySpace remake. I feel like I’m way too old for new social media apps now. Tik Tok is where I draw the line 💀\n",
      "\n",
      "JalilBing: RT @SirKedzLaFlare: Myspace could rebrand as a mobile app and take over the game\n",
      "\n",
      "ambitionzAmust: Lol myspace being rebranded as @spacehey, this silk sonic album and me really tryin to start over watching One Piec… https://t.co/nmXwUSrNYA\n",
      "\n",
      "TrustWahid: yo y’all niggas really back on myspace lol that’s funny ash my big bro just sent me his shit\n",
      "\n",
      "ZARMACOLOGY: RT @Chuckisdope: Lets get this shit. https://t.co/X5VXyCy42C\n",
      "\n",
      "Polyick: Wait so is we doing SpaceHey or nah\n",
      "\n",
      "_JustMonni: RT @SirKedzLaFlare: Myspace could rebrand as a mobile app and take over the game\n",
      "\n",
      "TrustWahid: talking about make one if i do imma have the best myspace poppin\n",
      "\n",
      "scumjay: RT @RevivalofMan: MySpace was better than any social media today. https://t.co/83P36ATw6W\n",
      "\n",
      "LohanHarvey_: @Prettydior_11 At all couldn’t wait to upload them to MySpace  &amp; Facebook. Or to print them out 😂😂\n",
      "\n",
      "tsidpod: @davevsgoliath1 It is pretty beautiful that \"MySpace\" returns as an option just when Zuck announces conformitopia. hail meta.\n",
      "\n",
      "FineassAuthor: RT @SirKedzLaFlare: Myspace could rebrand as a mobile app and take over the game\n",
      "\n",
      "champaignhabibi: RT @_faithskingdom: for my 90s babies☺️ MySpace is back and it’s called SpaceHey 😭💞💕 go add me as a friend at Faithhhhh (faith with 5 h) ht…\n",
      "\n",
      "Alisha12287: https://t.co/9ILqyo8Rok be my friend on #myspace I mean #spacehey https://t.co/Paswkga6yh\n",
      "\n",
      "_planethannah: RT @SirKedzLaFlare: Myspace could rebrand as a mobile app and take over the game\n",
      "\n",
      "iam_rochelle29: RT @SirKedzLaFlare: Myspace could rebrand as a mobile app and take over the game\n",
      "\n",
      "GlitchKi_: @Wendys Wendy’s seeing MySpace is back: Are we retreating to 90’s flip phones and volumes of the Encyclopedia Britannica?\n",
      "\n",
      "Dundulis_Johnny: @markkayeshow I'm not sure if I want it back #Throwback myspace\n",
      "\n",
      "BailaMarieee: RT @urbnlgndz: One thing I’m starting to realize is y’all have a hard time detaching from the past lol\n",
      "\n",
      "annk3nny: New Avril Lavigne dropped as MySpace days are coming back! We are back in 2004\n",
      "\n",
      "Authenic_Lies: RT @SirKedzLaFlare: Myspace could rebrand as a mobile app and take over the game\n",
      "\n",
      "shanyblaze: RT @_faithskingdom: for my 90s babies☺️ MySpace is back and it’s called SpaceHey 😭💞💕 go add me as a friend at Faithhhhh (faith with 5 h) ht…\n",
      "\n",
      "saucemesomemo: RT @prince_vash: It ain’t MySpace till I see the Crip SpongeBob Glitter wallpaper\n",
      "\n",
      "aislinnxraee: RT @kcjj_04: How everyone about to be on the new MySpace:\n",
      "\n",
      "#SpaceHey https://t.co/gx1JdDXcFx\n",
      "\n",
      "Mr_exquisite89: I'm cool on the bootleg MySpace, yall enjoy tho\n",
      "\n",
      "astoldbyashley9: RT @UberFacts: MySpace founder Tom Anderson was subject to one of the largest FBI raids in California history after hacking into a Chase Ba…\n",
      "\n",
      "Timmy4245: @Wendys What MySpace is back???????\n",
      "\n",
      "OscarFlys: RT @SirKedzLaFlare: Myspace could rebrand as a mobile app and take over the game\n",
      "\n",
      "Naee_Noelle: RT @SirKedzLaFlare: Myspace could rebrand as a mobile app and take over the game\n",
      "\n",
      "fromconcreteart: RT @htxqueen: did i just make one? yes😌 https://t.co/aSayafW55G\n",
      "\n",
      "rashad1of1: RT @AllThatandMoore: Me sitting there while my friend designs my MySpace https://t.co/7B1AWh9vYF\n",
      "\n",
      "Naee_Noelle: Easily\n",
      "\n",
      "Habtemaster: RT @SirKedzLaFlare: Myspace could rebrand as a mobile app and take over the game\n",
      "\n",
      "lexxiii32: not me seeing someone made a new online site that looks EXACTLY like myspace. yes i fucking made one!!\n",
      "\n",
      "Frankiexii: No I’m not adding you on MySpace\n",
      "\n",
      "kiandradonata: RT @SirKedzLaFlare: Myspace could rebrand as a mobile app and take over the game\n",
      "\n",
      "CptAmerica2021: They are saying SpaceHey is like MySpace. I’m going to have to check it out. Anyone else have it?\n",
      "\n",
      "chiefkolt: Im finna sign up for MySpace, since I can't make no more instagram pages.\n",
      "\n",
      "FEARISGRIM: RT @Dexerto: Remember MySpace? It's back (kind of, but not really) https://t.co/GBqtoIjIRN\n",
      "\n",
      "hlfhll: logging into xanga and myspace, having access to the internet in general, the smell, and free movies\n",
      "\n",
      "suziedagger1: How my MySpace pics finna look. 😎 https://t.co/9eKIwyaw6h\n",
      "\n",
      "iCantStandMert: @sloreking Like a new version of MySpace 🤷🏻‍♀️\n",
      "\n",
      "jugheadprod: i’m judging all y’all that signed up for that new fake ass myspace\n",
      "\n",
      "Its_Claudiia: RT @SirKedzLaFlare: Myspace could rebrand as a mobile app and take over the game\n",
      "\n",
      "AyeYoKJ: WAIT MYSPACE BACK!?!?\n",
      "\n",
      "mattmcGhee: so i will not be back on myspace lol\n",
      "\n",
      "lauracain32: Guys!!! Add me on spacehey!! Just like MySpace! https://t.co/qm6cCNBaLr\n",
      "\n",
      "JustSay_Shorts: RT @SirKedzLaFlare: Myspace could rebrand as a mobile app and take over the game\n",
      "\n",
      "Peachhtreee: RT @SirKedzLaFlare: Myspace could rebrand as a mobile app and take over the game\n",
      "\n",
      "vibelikeKim: RT @SirKedzLaFlare: Myspace could rebrand as a mobile app and take over the game\n",
      "\n",
      "49ersSFGiants1: @dessadoesnails I@ still friends with like 14 women I’ve met through MySpace. It’s like we grew up in our 20’s and 30’s together 😂\n",
      "\n",
      "myseeanna: RT @english_shamar: MySpace returning to 90s babies lives as SpaceHey\n",
      " https://t.co/TOFPULbDjA\n",
      "\n",
      "Lycan_blues: RT @KeraRolsen: Liquor store clerk: I’m gonna need to see some age verification\n",
      "\n",
      "Me: I unironically owned a Motorola Razr \n",
      "\n",
      "Liquor store cl…\n",
      "\n",
      "NapsandNugs: Just woke up to the news that MySpace is back????\n",
      "\n",
      "ayligerwolf: RT @TribalSpaceman: MySpace Tom ❎\n",
      "MySpace Tom Hardy ✅ https://t.co/Ym0A1WKSem\n",
      "\n",
      "Christophuck: hey yall add me on this lmfaoooo\n",
      "\n",
      "https://t.co/igwyuEuvAY\n",
      "\n",
      "TavonX_: So MySpace back\n",
      "\n",
      "mrmcwaffle911: RT @SirKedzLaFlare: Myspace could rebrand as a mobile app and take over the game\n",
      "\n",
      "Whereismael: 30 years later @myspacetom still my Tom friend on myspace hehe\n",
      "\n",
      "Dexerto: Remember MySpace? It's back (kind of, but not really) https://t.co/GBqtoIjIRN\n",
      "\n",
      "flygalshy: RT @SirKedzLaFlare: Myspace could rebrand as a mobile app and take over the game\n",
      "\n"
     ]
    },
    {
     "name": "stdout",
     "output_type": "stream",
     "text": [
      "iJuanaSmoke: RT @stawpfeenin: me setting up my bootleg myspace account on spacehey before it blows up https://t.co/B07l28tt1N\n",
      "\n",
      "sirparzival24: RT @sumpeoplelikeit: Nobody ever planned a coup or got convinced to eat horse paste on MySpace.\n",
      "\n",
      "codebymdb: Come be friends with me on the new MySpace: https://t.co/e6ftneSe3W\n",
      "\n",
      "WallyKhalifah: RT @SirKedzLaFlare: Myspace could rebrand as a mobile app and take over the game\n",
      "\n",
      "tgadz_: RT @SirKedzLaFlare: Myspace could rebrand as a mobile app and take over the game\n",
      "\n",
      "almightybankz: RT @SirKedzLaFlare: Myspace could rebrand as a mobile app and take over the game\n",
      "\n",
      "marathon_luck: RT @RevivalofMan: MySpace was better than any social media today. https://t.co/83P36ATw6W\n",
      "\n",
      "mujonaderi: RT @_faithskingdom: for my 90s babies☺️ MySpace is back and it’s called SpaceHey 😭💞💕 go add me as a friend at Faithhhhh (faith with 5 h) ht…\n",
      "\n",
      "yrnrjay: RT @SirKedzLaFlare: Myspace could rebrand as a mobile app and take over the game\n",
      "\n",
      "scytheslayr: WAIT IS MYSPACE BACK!!!!!\n",
      "\n"
     ]
    },
    {
     "name": "stderr",
     "output_type": "stream",
     "text": [
      "Stream connection closed by Twitter\n"
     ]
    },
    {
     "name": "stdout",
     "output_type": "stream",
     "text": [
      "djtrizzytrip: Niggas making a space hey instead of just going back to MySpace is wild lmao\n",
      "\n"
     ]
    }
   ],
   "source": [
    "tweet_listener.filter(track=['MySpace'], languages=['en'])"
   ]
  },
  {
   "cell_type": "code",
   "execution_count": null,
   "id": "2ba63a46",
   "metadata": {},
   "outputs": [],
   "source": [
    "tweet_listener.counts_dict"
   ]
  },
  {
   "cell_type": "code",
   "execution_count": 14,
   "id": "2cc500c0",
   "metadata": {},
   "outputs": [
    {
     "name": "stdout",
     "output_type": "stream",
     "text": [
      "Getting coordinates for tweet locations...\n",
      "OpenMapQuest service timed out. Waiting.\n",
      "OpenMapQuest service timed out. Waiting.\n",
      "OpenMapQuest service timed out. Waiting.\n",
      "OpenMapQuest service timed out. Waiting.\n",
      "OpenMapQuest service timed out. Waiting.\n",
      "Done geocoding\n"
     ]
    }
   ],
   "source": [
    "bad_locations = get_geocodes(tweet_listener.tweets_list)"
   ]
  },
  {
   "cell_type": "code",
   "execution_count": 21,
   "id": "0d4d0c1b",
   "metadata": {},
   "outputs": [
    {
     "data": {
      "text/plain": [
       "21"
      ]
     },
     "execution_count": 21,
     "metadata": {},
     "output_type": "execute_result"
    }
   ],
   "source": [
    "bad_locations"
   ]
  },
  {
   "cell_type": "code",
   "execution_count": 16,
   "id": "5fe6ee81",
   "metadata": {},
   "outputs": [],
   "source": [
    "df = pd.DataFrame(tweet_listener.tweets_list)\n",
    "df = df.dropna()"
   ]
  },
  {
   "cell_type": "code",
   "execution_count": 17,
   "id": "3bf092b5",
   "metadata": {},
   "outputs": [],
   "source": [
    "usmap = folium.Map(location=[39.8283, -98.5795], tiles='Stamen Terrain',zoom_start=5, detect_retina=True)"
   ]
  },
  {
   "cell_type": "code",
   "execution_count": 18,
   "id": "9da5f7b1",
   "metadata": {},
   "outputs": [],
   "source": [
    "for t in df.itertuples():\n",
    "    text = ': '.join([t.screen_name, t.text])\n",
    "    popup = folium.Popup(text, parse_html=True)\n",
    "    marker = folium.Marker((t.latitude, t.longitude),popup=popup)\n",
    "    marker.add_to(usmap)"
   ]
  },
  {
   "cell_type": "code",
   "execution_count": 19,
   "id": "2ff0b5bb",
   "metadata": {},
   "outputs": [],
   "source": [
    "usmap.save('tweet_map1.html')"
   ]
  },
  {
   "cell_type": "code",
   "execution_count": null,
   "id": "c9ed1c2e",
   "metadata": {},
   "outputs": [],
   "source": []
  }
 ],
 "metadata": {
  "kernelspec": {
   "display_name": "Python 3",
   "language": "python",
   "name": "python3"
  },
  "language_info": {
   "codemirror_mode": {
    "name": "ipython",
    "version": 3
   },
   "file_extension": ".py",
   "mimetype": "text/x-python",
   "name": "python",
   "nbconvert_exporter": "python",
   "pygments_lexer": "ipython3",
   "version": "3.8.8"
  }
 },
 "nbformat": 4,
 "nbformat_minor": 5
}
