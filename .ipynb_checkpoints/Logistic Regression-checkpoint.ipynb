{
 "cells": [
  {
   "cell_type": "code",
   "execution_count": null,
   "id": "8c350269",
   "metadata": {},
   "outputs": [],
   "source": [
    "from sklearn.linear_model import LogisticRegression\n",
    "import statsmodels.api as sm\n",
    "import pandas as pd\n",
    "import numpy as np\n",
    "import seaborn as sns\n",
    "from matplotlib import pyplot as plt\n",
    "from statsmodels.stats.outliers_influence import variance_inflation_factor"
   ]
  },
  {
   "cell_type": "code",
   "execution_count": null,
   "id": "9252a148",
   "metadata": {},
   "outputs": [],
   "source": [
    "df = pd.read_csv('loan.csv')"
   ]
  },
  {
   "cell_type": "code",
   "execution_count": null,
   "id": "d85b026c",
   "metadata": {},
   "outputs": [],
   "source": [
    "df.head(5)"
   ]
  },
  {
   "cell_type": "code",
   "execution_count": null,
   "id": "9ef1be44",
   "metadata": {},
   "outputs": [],
   "source": [
    "## Are the assumptions met?\n",
    "## Sample size? 1000\n",
    "## Outliers? Yes\n",
    "df.describe()"
   ]
  },
  {
   "cell_type": "markdown",
   "id": "34bab954",
   "metadata": {},
   "source": [
    "# This is the Sklearn Method"
   ]
  },
  {
   "cell_type": "code",
   "execution_count": null,
   "id": "243d5595",
   "metadata": {},
   "outputs": [],
   "source": [
    "X = df[['Credit_score']]\n",
    "y = df['Default']\n",
    "model = LogisticRegression().fit(X,y)"
   ]
  },
  {
   "cell_type": "code",
   "execution_count": null,
   "id": "707424fa",
   "metadata": {},
   "outputs": [],
   "source": [
    "model.coef_"
   ]
  },
  {
   "cell_type": "code",
   "execution_count": null,
   "id": "e9792ca0",
   "metadata": {},
   "outputs": [],
   "source": [
    "model.intercept_"
   ]
  },
  {
   "cell_type": "code",
   "execution_count": null,
   "id": "0051f73c",
   "metadata": {},
   "outputs": [],
   "source": [
    "model.predict([[500]])[0]"
   ]
  },
  {
   "cell_type": "code",
   "execution_count": null,
   "id": "030893e7",
   "metadata": {},
   "outputs": [],
   "source": [
    "model.predict_proba([[500]])"
   ]
  },
  {
   "cell_type": "markdown",
   "id": "32c0d9f3",
   "metadata": {},
   "source": [
    "# This is the Stats Models Method"
   ]
  },
  {
   "cell_type": "code",
   "execution_count": null,
   "id": "13277133",
   "metadata": {},
   "outputs": [],
   "source": [
    "## Let's start with a simple logistic model with Credit Score as our X and Default as the Y\n",
    "X = df[['Credit_score']]\n",
    "X = sm.add_constant(X)\n",
    "y = df[['Default']]"
   ]
  },
  {
   "cell_type": "code",
   "execution_count": null,
   "id": "3f441d29",
   "metadata": {},
   "outputs": [],
   "source": [
    "model = sm.Logit(y, X).fit()\n",
    "y_pred = model.predict(X)\n",
    "resid = y - y_pred\n",
    "print(model.summary())"
   ]
  },
  {
   "cell_type": "code",
   "execution_count": null,
   "id": "dc7b464a",
   "metadata": {},
   "outputs": [],
   "source": [
    "plt.scatter(df['Credit_score'],y_pred)\n",
    "plt.axhline(y=0, color='r', linestyle='-')\n",
    "plt.axhline(y=1, color='r', linestyle='-')\n",
    "plt.show()"
   ]
  },
  {
   "cell_type": "code",
   "execution_count": null,
   "id": "3f5bf08a",
   "metadata": {},
   "outputs": [],
   "source": [
    "model.predict([[1,500]])"
   ]
  },
  {
   "cell_type": "markdown",
   "id": "73b4bab2",
   "metadata": {},
   "source": [
    "# Let's Create a Full Logistic Regression Model"
   ]
  },
  {
   "cell_type": "markdown",
   "id": "ffdb8cd5",
   "metadata": {},
   "source": [
    "First we want to transform our categorical variables into dummy variables"
   ]
  },
  {
   "cell_type": "code",
   "execution_count": null,
   "id": "adf3b97a",
   "metadata": {},
   "outputs": [],
   "source": [
    "df['female']=pd.get_dummies(df['Gender'])['Female']\n",
    "df['married']=pd.get_dummies(df['Marital_status '])['Married']\n",
    "df['employed']=pd.get_dummies(df['Emp_status'])['employed']"
   ]
  },
  {
   "cell_type": "code",
   "execution_count": null,
   "id": "664dbbc0",
   "metadata": {},
   "outputs": [],
   "source": [
    "df.head(5)"
   ]
  },
  {
   "cell_type": "code",
   "execution_count": null,
   "id": "e4768b1e",
   "metadata": {},
   "outputs": [],
   "source": [
    "X = df[['Checking_amount','Term','Credit_score','Car_loan','Personal_loan','Home_loan',\n",
    "        'Education_loan','Amount','Saving_amount','Emp_duration ','Age','No_of_credit_acc','female','married',\n",
    "       'employed']]\n",
    "X = sm.add_constant(X)\n",
    "y = df[['Default']]"
   ]
  },
  {
   "cell_type": "code",
   "execution_count": null,
   "id": "48cfc24f",
   "metadata": {},
   "outputs": [],
   "source": [
    "vif_data = pd.DataFrame()\n",
    "vif_data[\"feature\"] = X.columns\n",
    "vif_data[\"VIF\"] = [variance_inflation_factor(X.values, i)\n",
    "                          for i in range(len(X.columns))]\n",
    "print(vif_data)"
   ]
  },
  {
   "cell_type": "markdown",
   "id": "b8287840",
   "metadata": {},
   "source": [
    "Looks like Personal_loan has some high collinearity with the other variables. Let's drop it and check again"
   ]
  },
  {
   "cell_type": "code",
   "execution_count": null,
   "id": "a9a02cee",
   "metadata": {},
   "outputs": [],
   "source": [
    "X = df[['Checking_amount','Term','Credit_score','Car_loan','Home_loan',\n",
    "        'Education_loan','Amount','Saving_amount','Emp_duration ','Age','No_of_credit_acc','female','married',\n",
    "       'employed']]\n",
    "X = sm.add_constant(X)\n",
    "y = df[['Default']]"
   ]
  },
  {
   "cell_type": "code",
   "execution_count": null,
   "id": "7c71f6d9",
   "metadata": {},
   "outputs": [],
   "source": [
    "vif_data = pd.DataFrame()\n",
    "vif_data[\"feature\"] = X.columns\n",
    "vif_data[\"VIF\"] = [variance_inflation_factor(X.values, i)\n",
    "                          for i in range(len(X.columns))]\n",
    "print(vif_data)"
   ]
  },
  {
   "cell_type": "markdown",
   "id": "476ec354",
   "metadata": {},
   "source": [
    "Looks good now! We always will ignore the constant term when looking at the VIFs"
   ]
  },
  {
   "cell_type": "code",
   "execution_count": null,
   "id": "e9c4573c",
   "metadata": {
    "scrolled": false
   },
   "outputs": [],
   "source": [
    "model = sm.Logit(y, X).fit()\n",
    "print(model.summary())"
   ]
  },
  {
   "cell_type": "markdown",
   "id": "1ab19d45",
   "metadata": {},
   "source": [
    "It appears that female is not statistically significant. Let's drop it"
   ]
  },
  {
   "cell_type": "code",
   "execution_count": null,
   "id": "9f1dc6c8",
   "metadata": {},
   "outputs": [],
   "source": [
    "X = df[['Checking_amount','Term','Credit_score','Car_loan','Home_loan',\n",
    "        'Education_loan','Amount','Saving_amount','Emp_duration ','Age','No_of_credit_acc','married',\n",
    "       'employed']]\n",
    "X = sm.add_constant(X)\n",
    "y = df[['Default']]\n",
    "model = sm.Logit(y, X).fit()\n",
    "print(model.summary())"
   ]
  },
  {
   "cell_type": "markdown",
   "id": "31f3805b",
   "metadata": {},
   "source": [
    "Married is insignificant. We will drop that one and refit"
   ]
  },
  {
   "cell_type": "code",
   "execution_count": null,
   "id": "23b365f7",
   "metadata": {},
   "outputs": [],
   "source": [
    "X = df[['Checking_amount','Term','Credit_score','Car_loan','Home_loan',\n",
    "        'Education_loan','Amount','Saving_amount','Emp_duration ','Age','No_of_credit_acc',\n",
    "       'employed']]\n",
    "X = sm.add_constant(X)\n",
    "y = df[['Default']]\n",
    "model = sm.Logit(y, X).fit()\n",
    "print(model.summary())"
   ]
  },
  {
   "cell_type": "markdown",
   "id": "e15adf7b",
   "metadata": {},
   "source": [
    "Employment Duration is insignificant. Drop and refit"
   ]
  },
  {
   "cell_type": "code",
   "execution_count": null,
   "id": "87c1910c",
   "metadata": {},
   "outputs": [],
   "source": [
    "X = df[['Checking_amount','Term','Credit_score','Car_loan','Home_loan',\n",
    "        'Education_loan','Amount','Saving_amount','Age','No_of_credit_acc',\n",
    "       'employed']]\n",
    "X = sm.add_constant(X)\n",
    "y = df[['Default']]\n",
    "model = sm.Logit(y, X).fit()\n",
    "print(model.summary())"
   ]
  },
  {
   "cell_type": "code",
   "execution_count": null,
   "id": "5e513f2c",
   "metadata": {},
   "outputs": [],
   "source": [
    "X = df[['Checking_amount','Term','Credit_score','Car_loan','Home_loan',\n",
    "        'Education_loan','Amount','Saving_amount','Age','employed']]\n",
    "X = sm.add_constant(X)\n",
    "y = df[['Default']]\n",
    "model = sm.Logit(y, X).fit()\n",
    "print(model.summary())"
   ]
  },
  {
   "cell_type": "code",
   "execution_count": null,
   "id": "b7d24be6",
   "metadata": {},
   "outputs": [],
   "source": [
    "X = df[['Checking_amount','Term','Credit_score','Car_loan','Home_loan',\n",
    "        'Education_loan','Saving_amount','Age','employed']]\n",
    "X = sm.add_constant(X)\n",
    "y = df[['Default']]\n",
    "model = sm.Logit(y, X).fit()\n",
    "print(model.summary())"
   ]
  },
  {
   "cell_type": "markdown",
   "id": "7f04c788",
   "metadata": {},
   "source": [
    "Let's see if Jerry would get approved for a loan. He has 700 in checking, 25 month term, 600 credit score, a car loan, no home loan, an education loan, 2000 in savings, is 40, and unemployed."
   ]
  },
  {
   "cell_type": "code",
   "execution_count": null,
   "id": "e459aaa0",
   "metadata": {},
   "outputs": [],
   "source": [
    "jerry = [1,700,25,600,1,0,1,2000,40,0]\n",
    "model.predict(jerry)"
   ]
  },
  {
   "cell_type": "markdown",
   "id": "fe7f044a",
   "metadata": {},
   "source": [
    "Jane has 1000 in checking, 18 month term on loan, 800 credit score, has a car loan, home loan, and student loan,\n",
    "3500 in savings, is 39, and is employed"
   ]
  },
  {
   "cell_type": "code",
   "execution_count": null,
   "id": "243d90d7",
   "metadata": {},
   "outputs": [],
   "source": [
    "jane = [1,1000,18,800,1,1,1,3500,39,1] \n",
    "model.predict(jane)"
   ]
  },
  {
   "cell_type": "code",
   "execution_count": null,
   "id": "adc142c8",
   "metadata": {},
   "outputs": [],
   "source": []
  }
 ],
 "metadata": {
  "kernelspec": {
   "display_name": "Python 3 (ipykernel)",
   "language": "python",
   "name": "python3"
  },
  "language_info": {
   "codemirror_mode": {
    "name": "ipython",
    "version": 3
   },
   "file_extension": ".py",
   "mimetype": "text/x-python",
   "name": "python",
   "nbconvert_exporter": "python",
   "pygments_lexer": "ipython3",
   "version": "3.9.7"
  }
 },
 "nbformat": 4,
 "nbformat_minor": 5
}
