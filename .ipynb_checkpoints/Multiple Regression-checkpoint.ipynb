{
 "cells": [
  {
   "cell_type": "code",
   "execution_count": null,
   "id": "678c5220",
   "metadata": {},
   "outputs": [],
   "source": [
    "## Load our Modules. statsmodels is a new one we need to make sure is downloaded\n",
    "\n",
    "from sklearn.linear_model import LinearRegression\n",
    "import statsmodels.api as sm\n",
    "import pandas as pd\n",
    "import numpy as np\n",
    "import seaborn as sns\n",
    "from matplotlib import pyplot as plt\n",
    "from statsmodels.stats.outliers_influence import variance_inflation_factor"
   ]
  },
  {
   "cell_type": "code",
   "execution_count": null,
   "id": "3b7a0ccf",
   "metadata": {},
   "outputs": [],
   "source": [
    "## Read in our Data\n",
    "\n",
    "df = pd.read_csv('insurance.csv')"
   ]
  },
  {
   "cell_type": "code",
   "execution_count": null,
   "id": "21c0860e",
   "metadata": {},
   "outputs": [],
   "source": [
    "## Check the top five rows to see what we are working with\n",
    "\n",
    "df.head(5)"
   ]
  },
  {
   "cell_type": "code",
   "execution_count": null,
   "id": "504d415c",
   "metadata": {},
   "outputs": [],
   "source": [
    "## Check out the summary statistics for missing values or outliers\n",
    "\n",
    "df.describe()"
   ]
  },
  {
   "cell_type": "code",
   "execution_count": null,
   "id": "e74669fd",
   "metadata": {},
   "outputs": [],
   "source": [
    "## This function will take our categorical variables and turn them into ones and zeros\n",
    "\n",
    "pd.get_dummies(df.sex)"
   ]
  },
  {
   "cell_type": "code",
   "execution_count": null,
   "id": "19f7001d",
   "metadata": {},
   "outputs": [],
   "source": [
    "## This is how we save our results from the dummy transformation into our dataset. We only need to do it for female\n",
    "## as not being female implies male for this problem\n",
    "\n",
    "df['female'] = pd.get_dummies(df.sex)['female']"
   ]
  },
  {
   "cell_type": "code",
   "execution_count": null,
   "id": "3b74549d",
   "metadata": {},
   "outputs": [],
   "source": [
    "## peek to make sure it worked\n",
    "\n",
    "df.head(5)"
   ]
  },
  {
   "cell_type": "code",
   "execution_count": null,
   "id": "2e18def6",
   "metadata": {},
   "outputs": [],
   "source": [
    "## Do the same for smokers vs not smokers\n",
    "\n",
    "df['isSmoker'] = pd.get_dummies(df.smoker)['yes']"
   ]
  },
  {
   "cell_type": "code",
   "execution_count": null,
   "id": "87b41d12",
   "metadata": {},
   "outputs": [],
   "source": [
    "## Create a dummy for each region except for one. Including all regions would create multicollineraity.\n",
    "##  We make one for SW, NE, and SE. So that when all of these are 0, it implies the person is from NW.\n",
    "\n",
    "df['southwest'] = pd.get_dummies(df.region)['southwest']"
   ]
  },
  {
   "cell_type": "code",
   "execution_count": null,
   "id": "1ffb3842",
   "metadata": {},
   "outputs": [],
   "source": [
    "df['northeast'] = pd.get_dummies(df.region)['northeast']"
   ]
  },
  {
   "cell_type": "code",
   "execution_count": null,
   "id": "056c1623",
   "metadata": {},
   "outputs": [],
   "source": [
    "df['southeast'] = pd.get_dummies(df.region)['southeast']"
   ]
  },
  {
   "cell_type": "code",
   "execution_count": null,
   "id": "0ea752ca",
   "metadata": {
    "scrolled": true
   },
   "outputs": [],
   "source": [
    "## Check again to make sure it looks good\n",
    "\n",
    "df.head(5)"
   ]
  },
  {
   "cell_type": "code",
   "execution_count": null,
   "id": "a0f1865d",
   "metadata": {},
   "outputs": [],
   "source": [
    "## There are a few ways to get regression results in Python. This first way is with scikit-learn. This method is used\n",
    "## mainly for machine learning purposes as we do not get a full print out of regression results and need to \n",
    "## ask for each component\n",
    "\n",
    "## Let's start with a simple linear regression where we use as the Independent variable and Charges as the dependent variable\n",
    "\n",
    "X = df[['bmi']]\n",
    "y = df['charges']\n",
    "model = LinearRegression().fit(X,y)"
   ]
  },
  {
   "cell_type": "code",
   "execution_count": null,
   "id": "d5d07d17",
   "metadata": {},
   "outputs": [],
   "source": [
    "## This is how to extract the residuals and the predicted values\n",
    "y_pred = model.predict(X)\n",
    "resid = y - y_pred"
   ]
  },
  {
   "cell_type": "code",
   "execution_count": null,
   "id": "8636ced3",
   "metadata": {},
   "outputs": [],
   "source": [
    "## This is the slope of the linear model\n",
    "model.coef_[0]"
   ]
  },
  {
   "cell_type": "code",
   "execution_count": null,
   "id": "9be7871c",
   "metadata": {},
   "outputs": [],
   "source": [
    "## This is the intercept of the linear model\n",
    "model.intercept_"
   ]
  },
  {
   "cell_type": "code",
   "execution_count": null,
   "id": "3d76e519",
   "metadata": {},
   "outputs": [],
   "source": [
    "## This is how we get our R-Squared value. This tells us the overall fit of the model\n",
    "model.score(X,y)"
   ]
  },
  {
   "cell_type": "code",
   "execution_count": null,
   "id": "8b13ac66",
   "metadata": {},
   "outputs": [],
   "source": [
    "## This is how we get a prediction for annual charges with a BMI of 30\n",
    "model.predict([[30]])"
   ]
  },
  {
   "cell_type": "code",
   "execution_count": null,
   "id": "fc1e4c6f",
   "metadata": {},
   "outputs": [],
   "source": [
    "## Here is our scatterplot with the linear regression line\n",
    "plt.scatter(X,y)\n",
    "plt.plot(X,model.coef_[0]*X + model.intercept_,color='red')\n",
    "plt.show()"
   ]
  },
  {
   "cell_type": "code",
   "execution_count": null,
   "id": "7e7f5563",
   "metadata": {},
   "outputs": [],
   "source": [
    "## Let's try a multiple regression problem adding in Age as an independent variable.\n",
    "X = df[['bmi','age']]\n",
    "y = df['charges']\n",
    "model = LinearRegression().fit(X,y)"
   ]
  },
  {
   "cell_type": "code",
   "execution_count": null,
   "id": "19d79882",
   "metadata": {},
   "outputs": [],
   "source": [
    "## This gives us two coefficients, one for each of our independent variables\n",
    "model.coef_"
   ]
  },
  {
   "cell_type": "code",
   "execution_count": null,
   "id": "1c6de311",
   "metadata": {},
   "outputs": [],
   "source": [
    "## This is the intercept of the linear model\n",
    "model.intercept_"
   ]
  },
  {
   "cell_type": "code",
   "execution_count": null,
   "id": "85372e5f",
   "metadata": {},
   "outputs": [],
   "source": [
    "## The R^2 increased a bit. This model is looking better already.\n",
    "model.score(X,y)"
   ]
  },
  {
   "cell_type": "code",
   "execution_count": null,
   "id": "d299db2b",
   "metadata": {},
   "outputs": [],
   "source": [
    "## This is how we get a prediction for annual charges with a BMI of 30 and age of 50\n",
    "model.predict([[30,50]])"
   ]
  },
  {
   "cell_type": "code",
   "execution_count": null,
   "id": "7435c1ad",
   "metadata": {},
   "outputs": [],
   "source": [
    "# Let's dive into some multiple regression using the second method. This method uses the statsmodels module. "
   ]
  },
  {
   "cell_type": "code",
   "execution_count": null,
   "id": "27537ec7",
   "metadata": {},
   "outputs": [],
   "source": [
    "## This is our pairplot to look for multicollinearity between the independent variables and\n",
    "## linearity between the dependent and independent variables\n",
    "\n",
    "sns.pairplot(df,x_vars=['charges','age','bmi','children'],y_vars=['charges','age','bmi','children'],corner=True)\n",
    "plt.show()"
   ]
  },
  {
   "cell_type": "code",
   "execution_count": null,
   "id": "7c08cda6",
   "metadata": {},
   "outputs": [],
   "source": [
    "## This is how we fit the multiple regression model. It is a little different format than what we had before\n",
    "## but the results it gives us will be cleaner. The first line you can add or subtract variables from your model.\n",
    "## The second line adds a column of ones to the from of your variables, a nessecary step for this model\n",
    "## The third row is our dependent variables\n",
    "## You may get a warning here that has to do with the second line\n",
    "\n",
    "X=df[['age','bmi','children','female','isSmoker','southeast','northeast','southwest']]\n",
    "X = sm.add_constant(X)\n",
    "y=df['charges']"
   ]
  },
  {
   "cell_type": "code",
   "execution_count": null,
   "id": "e328e30a",
   "metadata": {},
   "outputs": [],
   "source": [
    "## This is how we check the VIFs for multicollinearity. The cutoff value we use is 5. If any of the variables\n",
    "## have a VIF greater than 5, you should leave it out of your model\n",
    "## This passes the multicollinearity assumptions\n",
    "vif_data = pd.DataFrame()\n",
    "vif_data[\"feature\"] = X.columns\n",
    "vif_data[\"VIF\"] = [variance_inflation_factor(X.values, i)\n",
    "                          for i in range(len(X.columns))]\n",
    "print(vif_data)"
   ]
  },
  {
   "cell_type": "code",
   "execution_count": null,
   "id": "8c3a6ee2",
   "metadata": {},
   "outputs": [],
   "source": [
    "## This fits our model, get the predicted values, and the residuals\n",
    "model = sm.OLS(y,X).fit()\n",
    "y_pred = model.predict(X)\n",
    "resid = y - y_pred"
   ]
  },
  {
   "cell_type": "code",
   "execution_count": null,
   "id": "a862a979",
   "metadata": {},
   "outputs": [],
   "source": [
    "## This gives us a nice model summary. No more need to grab each coefficient or R^2\n",
    "print(model.summary())"
   ]
  },
  {
   "cell_type": "code",
   "execution_count": null,
   "id": "679278a6",
   "metadata": {},
   "outputs": [],
   "source": [
    "## This looks for constant variance and linearity. Both look pretty bad and fail the assumptions\n",
    "plt.scatter(y_pred,resid,color='b')\n",
    "plt.axhline(y=0, color='r', linestyle='-')\n",
    "plt.show()"
   ]
  },
  {
   "cell_type": "code",
   "execution_count": null,
   "id": "793116a5",
   "metadata": {},
   "outputs": [],
   "source": [
    "## This looks for normality. Pretty positively skewed. Not Good!\n",
    "plt.hist(resid)\n",
    "plt.show()"
   ]
  },
  {
   "cell_type": "code",
   "execution_count": null,
   "id": "49a0d707",
   "metadata": {},
   "outputs": [],
   "source": [
    "## Transform charges into Log(charges)\n",
    "df[\"lcharges\"] = np.log(df[\"charges\"])"
   ]
  },
  {
   "cell_type": "code",
   "execution_count": null,
   "id": "49d7d389",
   "metadata": {},
   "outputs": [],
   "source": [
    "sns.pairplot(df,x_vars=['lcharges','age','bmi','children'],y_vars=['lcharges','age','bmi','children'],corner=True)\n",
    "plt.show()"
   ]
  },
  {
   "cell_type": "code",
   "execution_count": null,
   "id": "467f7515",
   "metadata": {},
   "outputs": [],
   "source": [
    "## Redefine our model\n",
    "X=df[['age','bmi','children','female','isSmoker','southeast','northeast','southwest']]\n",
    "X = sm.add_constant(X)\n",
    "y=df['lcharges']"
   ]
  },
  {
   "cell_type": "code",
   "execution_count": null,
   "id": "faaa41e9",
   "metadata": {},
   "outputs": [],
   "source": [
    "## Refit the model\n",
    "model = sm.OLS(y,X).fit()\n",
    "y_pred = model.predict(X)\n",
    "resid = y - y_pred"
   ]
  },
  {
   "cell_type": "code",
   "execution_count": null,
   "id": "6f13acf5",
   "metadata": {},
   "outputs": [],
   "source": [
    "## Get the summary\n",
    "print(model.summary())"
   ]
  },
  {
   "cell_type": "code",
   "execution_count": null,
   "id": "0195937c",
   "metadata": {},
   "outputs": [],
   "source": [
    "## Some weird stuff going on here. Fails both linearity and constant variance assumptions\n",
    "plt.scatter(y_pred,resid,color='b')\n",
    "plt.axhline(y=0, color='r', linestyle='-')\n",
    "plt.show()"
   ]
  },
  {
   "cell_type": "code",
   "execution_count": null,
   "id": "f690361a",
   "metadata": {},
   "outputs": [],
   "source": [
    "## Pretty skewed. Fails normality\n",
    "plt.hist(resid)\n",
    "plt.show()"
   ]
  },
  {
   "cell_type": "code",
   "execution_count": null,
   "id": "7929087a",
   "metadata": {},
   "outputs": [],
   "source": [
    "## Let's drop Age because it has those weird patterns with charges. Will still use log(charges) as dependent\n",
    "X= df[['bmi','children','female','isSmoker','southeast','northeast','southwest']]\n",
    "X = sm.add_constant(X)\n",
    "y= df['lcharges']"
   ]
  },
  {
   "cell_type": "code",
   "execution_count": null,
   "id": "570f38f1",
   "metadata": {},
   "outputs": [],
   "source": [
    "model = sm.OLS(y,X).fit()\n",
    "y_pred = model.predict(X)\n",
    "resid = y - y_pred\n",
    "print(model.summary())"
   ]
  },
  {
   "cell_type": "code",
   "execution_count": null,
   "id": "eb3332ca",
   "metadata": {},
   "outputs": [],
   "source": [
    "## This looks better but we can see two distinct groups that have different variances\n",
    "plt.scatter(y_pred,resid,color='b')\n",
    "plt.axhline(y=0, color='r', linestyle='-')\n",
    "plt.show()"
   ]
  },
  {
   "cell_type": "code",
   "execution_count": null,
   "id": "660530f4",
   "metadata": {},
   "outputs": [],
   "source": [
    "## This looks better for normality but not perfect\n",
    "plt.hist(resid)\n",
    "plt.show()"
   ]
  },
  {
   "cell_type": "code",
   "execution_count": null,
   "id": "cbbce055",
   "metadata": {},
   "outputs": [],
   "source": []
  },
  {
   "cell_type": "code",
   "execution_count": null,
   "id": "8a8483af",
   "metadata": {},
   "outputs": [],
   "source": []
  },
  {
   "cell_type": "code",
   "execution_count": null,
   "id": "e193135f",
   "metadata": {},
   "outputs": [],
   "source": []
  },
  {
   "cell_type": "code",
   "execution_count": null,
   "id": "3b2de569",
   "metadata": {},
   "outputs": [],
   "source": []
  },
  {
   "cell_type": "code",
   "execution_count": null,
   "id": "178a1a39",
   "metadata": {},
   "outputs": [],
   "source": []
  },
  {
   "cell_type": "code",
   "execution_count": null,
   "id": "70684cec",
   "metadata": {},
   "outputs": [],
   "source": []
  },
  {
   "cell_type": "code",
   "execution_count": null,
   "id": "6ef323c0",
   "metadata": {},
   "outputs": [],
   "source": []
  },
  {
   "cell_type": "code",
   "execution_count": null,
   "id": "05832023",
   "metadata": {},
   "outputs": [],
   "source": []
  }
 ],
 "metadata": {
  "kernelspec": {
   "display_name": "Python 3 (ipykernel)",
   "language": "python",
   "name": "python3"
  },
  "language_info": {
   "codemirror_mode": {
    "name": "ipython",
    "version": 3
   },
   "file_extension": ".py",
   "mimetype": "text/x-python",
   "name": "python",
   "nbconvert_exporter": "python",
   "pygments_lexer": "ipython3",
   "version": "3.9.7"
  }
 },
 "nbformat": 4,
 "nbformat_minor": 5
}
