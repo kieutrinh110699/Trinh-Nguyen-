{
 "cells": [
  {
   "cell_type": "code",
   "execution_count": null,
   "id": "2146e6d3",
   "metadata": {},
   "outputs": [],
   "source": [
    "from pathlib import Path\n",
    "from textatistic import Textatistic\n",
    "import googletrans\n",
    "from googletrans import Translator\n",
    "import spacy\n",
    "import re\n",
    "import numpy as np"
   ]
  },
  {
   "cell_type": "markdown",
   "id": "87f38183",
   "metadata": {},
   "source": [
    "pip install textatistic\n",
    "\n",
    "pip install googletrans\n",
    "\n",
    "conda install -c conda-forge \n",
    "\n",
    "python -m spacy download en\n",
    "\n",
    "pip install tweepy\n",
    "\n",
    "conda install -c conda-forge geopy"
   ]
  },
  {
   "cell_type": "markdown",
   "id": "7fccf194",
   "metadata": {},
   "source": [
    "## Translation using Google Translate"
   ]
  },
  {
   "cell_type": "code",
   "execution_count": null,
   "id": "43855709",
   "metadata": {},
   "outputs": [],
   "source": [
    "text1 = 'A spectre is haunting Europe'\n",
    "text2 = 'Qui court deux lievres a la fois, n’en prend aucun'\n",
    "translator = Translator()"
   ]
  },
  {
   "cell_type": "code",
   "execution_count": null,
   "id": "f1de8909",
   "metadata": {},
   "outputs": [],
   "source": [
    "dec_lan = translator.detect(text1)\n",
    "print(dec_lan)"
   ]
  },
  {
   "cell_type": "code",
   "execution_count": null,
   "id": "86246921",
   "metadata": {},
   "outputs": [],
   "source": [
    "translation = translator.translate(text1,src = 'en' ,dest='es')\n",
    "print(translation.text)\n",
    "print(translation.dest)"
   ]
  },
  {
   "cell_type": "code",
   "execution_count": null,
   "id": "25f40d82",
   "metadata": {},
   "outputs": [],
   "source": [
    "dec_lan = translator.detect(text2)\n",
    "print(dec_lan)"
   ]
  },
  {
   "cell_type": "code",
   "execution_count": null,
   "id": "fda9536b",
   "metadata": {},
   "outputs": [],
   "source": [
    "translation = translator.translate(text2,src = 'fr' ,dest='en')\n",
    "print(translation.text)\n",
    "print(translation.dest)"
   ]
  },
  {
   "cell_type": "markdown",
   "id": "f7a47831",
   "metadata": {},
   "source": [
    "## Reability Scores for a Document"
   ]
  },
  {
   "cell_type": "code",
   "execution_count": null,
   "id": "5bda454a",
   "metadata": {},
   "outputs": [],
   "source": [
    "text = Path('The Communist Manifesto.txt').read_text()\n",
    "readability = Textatistic(text)\n",
    "readability.dict()"
   ]
  },
  {
   "cell_type": "markdown",
   "id": "33b6294a",
   "metadata": {},
   "source": [
    "Not Dale-Chall: Higher count means more complex words thus harder to read\n",
    "\n",
    "Polysyllable Words: 3 or more syllables\n",
    "\n",
    "Flesch Reading Ease Score: Over 90 are readable by 5th graders. Under 30 require a college degree\n",
    "\n",
    "Flesch Kincaid: Corresponds to specific grade level\n",
    "\n",
    "Gunning Fog Index: Corresponds to a specific grade level\n",
    "\n",
    "Simple Measure of Gobbledygool (SMOG) Score: Years of education required to understand text. Highly effective for healthcare\n",
    "\n",
    "Dale-Chall Score: Corresponds to grade level. 4 and below is elemenrary. Above 16 is college graduate. Most reliable for a broad range of text types\n",
    "\n"
   ]
  },
  {
   "cell_type": "markdown",
   "id": "34d8d7bb",
   "metadata": {},
   "source": [
    "## spaCy for NLP"
   ]
  },
  {
   "cell_type": "code",
   "execution_count": null,
   "id": "be9cb6bc",
   "metadata": {},
   "outputs": [],
   "source": [
    "nlp = spacy.load(\"en_core_web_sm\")"
   ]
  },
  {
   "cell_type": "code",
   "execution_count": null,
   "id": "c8e4632d",
   "metadata": {},
   "outputs": [],
   "source": [
    "doc1 = nlp(Path('The Communist Manifesto.txt').read_text())"
   ]
  },
  {
   "cell_type": "code",
   "execution_count": null,
   "id": "7125ce35",
   "metadata": {},
   "outputs": [],
   "source": [
    "for entity in doc1.ents:\n",
    "    print(f'{entity.text}:{entity.label_}')"
   ]
  },
  {
   "cell_type": "code",
   "execution_count": null,
   "id": "c3a2a36b",
   "metadata": {},
   "outputs": [],
   "source": [
    "doc2 =nlp(Path('veblen.txt').read_text())"
   ]
  },
  {
   "cell_type": "code",
   "execution_count": null,
   "id": "a85b20c6",
   "metadata": {},
   "outputs": [],
   "source": [
    "doc1.similarity(doc2)"
   ]
  }
 ],
 "metadata": {
  "kernelspec": {
   "display_name": "Python 3 (ipykernel)",
   "language": "python",
   "name": "python3"
  },
  "language_info": {
   "codemirror_mode": {
    "name": "ipython",
    "version": 3
   },
   "file_extension": ".py",
   "mimetype": "text/x-python",
   "name": "python",
   "nbconvert_exporter": "python",
   "pygments_lexer": "ipython3",
   "version": "3.9.7"
  }
 },
 "nbformat": 4,
 "nbformat_minor": 5
}
