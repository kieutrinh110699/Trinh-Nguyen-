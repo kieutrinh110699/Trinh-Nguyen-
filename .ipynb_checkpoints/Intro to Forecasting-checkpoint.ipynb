{
 "cells": [
  {
   "cell_type": "code",
   "execution_count": null,
   "id": "762a16ee",
   "metadata": {},
   "outputs": [],
   "source": [
    "from sklearn.linear_model import LinearRegression\n",
    "import pandas as pd\n",
    "import numpy as np\n",
    "import seaborn as sns\n",
    "from matplotlib import pyplot as plt"
   ]
  },
  {
   "cell_type": "code",
   "execution_count": null,
   "id": "804fa3ff",
   "metadata": {},
   "outputs": [],
   "source": [
    "df = pd.read_csv('SD Sept Avg Temp.csv')"
   ]
  },
  {
   "cell_type": "code",
   "execution_count": null,
   "id": "eb41e377",
   "metadata": {},
   "outputs": [],
   "source": [
    "df.head(5)"
   ]
  },
  {
   "cell_type": "code",
   "execution_count": null,
   "id": "53ed7ac0",
   "metadata": {},
   "outputs": [],
   "source": [
    "df.describe()"
   ]
  },
  {
   "cell_type": "code",
   "execution_count": null,
   "id": "676fbcec",
   "metadata": {},
   "outputs": [],
   "source": [
    "X = df[['Date']]\n",
    "y = df['Value']\n",
    "model = LinearRegression().fit(X,y)"
   ]
  },
  {
   "cell_type": "code",
   "execution_count": null,
   "id": "6c657840",
   "metadata": {},
   "outputs": [],
   "source": [
    "model.coef_"
   ]
  },
  {
   "cell_type": "code",
   "execution_count": null,
   "id": "dda8f6fb",
   "metadata": {},
   "outputs": [],
   "source": [
    "model.intercept_"
   ]
  },
  {
   "cell_type": "code",
   "execution_count": null,
   "id": "6be3a874",
   "metadata": {},
   "outputs": [],
   "source": [
    "model.predict([[2022]])"
   ]
  },
  {
   "cell_type": "code",
   "execution_count": null,
   "id": "bcf245e8",
   "metadata": {},
   "outputs": [],
   "source": [
    "degree_sign = u\"\\N{DEGREE SIGN}\"\n",
    "sns.set_style('whitegrid')\n",
    "plt.title(\"Average September Temperature in South Dakota\")\n",
    "axes = sns.regplot(x=df.Date, y=df.Value)\n",
    "axes.set(xlabel='Year',ylabel=\"Average Temperature (\"+degree_sign+\"F)\")"
   ]
  },
  {
   "cell_type": "code",
   "execution_count": null,
   "id": "2afa4b05",
   "metadata": {},
   "outputs": [],
   "source": []
  }
 ],
 "metadata": {
  "kernelspec": {
   "display_name": "Python 3 (ipykernel)",
   "language": "python",
   "name": "python3"
  },
  "language_info": {
   "codemirror_mode": {
    "name": "ipython",
    "version": 3
   },
   "file_extension": ".py",
   "mimetype": "text/x-python",
   "name": "python",
   "nbconvert_exporter": "python",
   "pygments_lexer": "ipython3",
   "version": "3.9.7"
  }
 },
 "nbformat": 4,
 "nbformat_minor": 5
}
