{
 "cells": [
  {
   "cell_type": "code",
   "execution_count": null,
   "id": "936a9f1e",
   "metadata": {},
   "outputs": [],
   "source": [
    "import tweepy\n",
    "import keys\n",
    "from textblob import TextBlob\n",
    "from operator import itemgetter\n",
    "from wordcloud import WordCloud\n",
    "import preprocessor as p\n",
    "import sys\n",
    "from tweepy import Stream\n",
    "from tweepy import OAuthHandler\n",
    "from tweetlistener import TweetListener\n",
    "from sentimentlistener import SentimentListener\n",
    "from locationlistener import LocationListener\n",
    "from tweetutilities import get_geocodes\n",
    "import pandas as pd\n",
    "import folium"
   ]
  },
  {
   "cell_type": "markdown",
   "id": "8d04ab63",
   "metadata": {},
   "source": [
    "pip install tweepy\n",
    "\n",
    "conda install -c conda-forge geopy\n",
    "\n",
    "pip install tweet-preprocessor\n",
    "\n",
    "pip install folium\n",
    "\n",
    "https://developer.mapquest.com/"
   ]
  },
  {
   "cell_type": "markdown",
   "id": "ca940db1",
   "metadata": {},
   "source": [
    "## Authentication Step"
   ]
  },
  {
   "cell_type": "code",
   "execution_count": null,
   "id": "b993c874",
   "metadata": {},
   "outputs": [],
   "source": [
    "auth = tweepy.OAuthHandler(keys.TWITTER_CONSUMER_KEY, keys.TWITTER_CONSUMER_SECRET)\n",
    "auth.set_access_token(keys.ACCESS_TOKEN, keys.ACCESS_TOKEN_SECRET)\n",
    "api = tweepy.API(auth, wait_on_rate_limit=True)"
   ]
  },
  {
   "cell_type": "markdown",
   "id": "8d2853ce",
   "metadata": {},
   "source": [
    "## Retrieving User Information"
   ]
  },
  {
   "cell_type": "code",
   "execution_count": null,
   "id": "8c170cb4",
   "metadata": {},
   "outputs": [],
   "source": [
    "nasa = api.get_user(screen_name='nasa')"
   ]
  },
  {
   "cell_type": "code",
   "execution_count": null,
   "id": "8d6bee48",
   "metadata": {},
   "outputs": [],
   "source": [
    "nasa"
   ]
  },
  {
   "cell_type": "code",
   "execution_count": null,
   "id": "baac9aa8",
   "metadata": {},
   "outputs": [],
   "source": [
    "nasa.id"
   ]
  },
  {
   "cell_type": "code",
   "execution_count": null,
   "id": "9a24acfe",
   "metadata": {},
   "outputs": [],
   "source": [
    "nasa.name"
   ]
  },
  {
   "cell_type": "code",
   "execution_count": null,
   "id": "da8c68f5",
   "metadata": {},
   "outputs": [],
   "source": [
    "nasa.description"
   ]
  },
  {
   "cell_type": "code",
   "execution_count": null,
   "id": "60a3e9aa",
   "metadata": {},
   "outputs": [],
   "source": [
    "nasa.status.text"
   ]
  },
  {
   "cell_type": "code",
   "execution_count": null,
   "id": "2d179908",
   "metadata": {},
   "outputs": [],
   "source": [
    "nasa.followers_count"
   ]
  },
  {
   "cell_type": "code",
   "execution_count": null,
   "id": "bfe0736a",
   "metadata": {},
   "outputs": [],
   "source": [
    "nasa.friends_count"
   ]
  },
  {
   "cell_type": "code",
   "execution_count": null,
   "id": "b4196ac9",
   "metadata": {},
   "outputs": [],
   "source": [
    "nasa.location"
   ]
  },
  {
   "cell_type": "markdown",
   "id": "fe58cb73",
   "metadata": {},
   "source": [
    "Getting List of Friends and Followers for the user"
   ]
  },
  {
   "cell_type": "code",
   "execution_count": null,
   "id": "f489755c",
   "metadata": {},
   "outputs": [],
   "source": [
    "followers = []"
   ]
  },
  {
   "cell_type": "code",
   "execution_count": null,
   "id": "79381aee",
   "metadata": {},
   "outputs": [],
   "source": [
    "cursor = tweepy.Cursor(api.get_followers,screen_name='nasa')"
   ]
  },
  {
   "cell_type": "code",
   "execution_count": null,
   "id": "cc7ae94d",
   "metadata": {},
   "outputs": [],
   "source": [
    "for account in cursor.items(10):\n",
    "    followers.append(account.screen_name)"
   ]
  },
  {
   "cell_type": "code",
   "execution_count": null,
   "id": "8a79cc89",
   "metadata": {},
   "outputs": [],
   "source": [
    "print('Followers:',' '.join(sorted(followers, key=lambda s: s.lower())))"
   ]
  },
  {
   "cell_type": "code",
   "execution_count": null,
   "id": "ed626aab",
   "metadata": {},
   "outputs": [],
   "source": [
    "cursor = tweepy.Cursor(api.get_followers,screen_name='nasa',count=200)"
   ]
  },
  {
   "cell_type": "code",
   "execution_count": null,
   "id": "bba9b684",
   "metadata": {},
   "outputs": [],
   "source": [
    "for account in cursor.items(200):\n",
    "    followers.append(account.screen_name)"
   ]
  },
  {
   "cell_type": "code",
   "execution_count": null,
   "id": "96be5da5",
   "metadata": {},
   "outputs": [],
   "source": [
    "print('Followers:',' '.join(sorted(followers, key=lambda s: s.lower())))"
   ]
  },
  {
   "cell_type": "code",
   "execution_count": null,
   "id": "16f898d3",
   "metadata": {},
   "outputs": [],
   "source": [
    "friends = []\n",
    "cursor = tweepy.Cursor(api.get_friends,screen_name='nasa')\n",
    "for friend in cursor.items(200):\n",
    "    friends.append(friend.screen_name)\n",
    "print('Friends:',' '.join(sorted(friends, key=lambda s: s.lower())))"
   ]
  },
  {
   "cell_type": "markdown",
   "id": "a96baf0e",
   "metadata": {},
   "source": [
    "Getting Recent Tweets for the User"
   ]
  },
  {
   "cell_type": "code",
   "execution_count": null,
   "id": "7f8e0a26",
   "metadata": {},
   "outputs": [],
   "source": [
    "nasa_tweets = api.user_timeline(screen_name='nasa', count=3)"
   ]
  },
  {
   "cell_type": "code",
   "execution_count": null,
   "id": "c013445d",
   "metadata": {
    "scrolled": true
   },
   "outputs": [],
   "source": [
    "for tweet in nasa_tweets:\n",
    "    print(f'{tweet.user.screen_name}: {tweet.text}\\n')"
   ]
  },
  {
   "cell_type": "markdown",
   "id": "16f89321",
   "metadata": {},
   "source": [
    "Tapping in to your own Twitter"
   ]
  },
  {
   "cell_type": "code",
   "execution_count": null,
   "id": "eb7c297f",
   "metadata": {},
   "outputs": [],
   "source": [
    "home = api.home_timeline()"
   ]
  },
  {
   "cell_type": "code",
   "execution_count": null,
   "id": "96105f4b",
   "metadata": {
    "scrolled": true
   },
   "outputs": [],
   "source": [
    "for tweet in home:\n",
    "    print(f'{tweet.user.screen_name}: {tweet.text}\\n')"
   ]
  },
  {
   "cell_type": "markdown",
   "id": "7ccb8a44",
   "metadata": {},
   "source": [
    "Searching Through Tweets and Printing them Out"
   ]
  },
  {
   "cell_type": "code",
   "execution_count": null,
   "id": "3bdfa686",
   "metadata": {},
   "outputs": [],
   "source": [
    "tweets = api.search_tweets(q='Mars Opportunity Rover',count =3)\n",
    "for tweet in tweets:\n",
    "    print(f'{tweet.user.screen_name}: {tweet.text}\\n')"
   ]
  },
  {
   "cell_type": "code",
   "execution_count": null,
   "id": "3e543419",
   "metadata": {},
   "outputs": [],
   "source": [
    "tweets = api.search_tweets(q='#cop26',count =10)\n",
    "for tweet in tweets:\n",
    "    print(f'{tweet.user.screen_name}: {tweet.text}\\n')"
   ]
  },
  {
   "cell_type": "markdown",
   "id": "2702bfab",
   "metadata": {},
   "source": [
    "## Trends"
   ]
  },
  {
   "cell_type": "code",
   "execution_count": null,
   "id": "579c6e74",
   "metadata": {},
   "outputs": [],
   "source": [
    "trends_available = api.available_trends()"
   ]
  },
  {
   "cell_type": "code",
   "execution_count": null,
   "id": "4bb5106b",
   "metadata": {},
   "outputs": [],
   "source": [
    "len(trends_available)"
   ]
  },
  {
   "cell_type": "code",
   "execution_count": null,
   "id": "c5831d09",
   "metadata": {},
   "outputs": [],
   "source": [
    "trends_available[200]"
   ]
  },
  {
   "cell_type": "markdown",
   "id": "4468eb95",
   "metadata": {},
   "source": [
    "https://www.findmecity.com/"
   ]
  },
  {
   "cell_type": "markdown",
   "id": "069b8eba",
   "metadata": {},
   "source": [
    "This is how we can find trends for the whole world"
   ]
  },
  {
   "cell_type": "code",
   "execution_count": null,
   "id": "70093091",
   "metadata": {},
   "outputs": [],
   "source": [
    "world_trends = api.get_place_trends(id=1)\n",
    "trends_list = world_trends[0]['trends']\n",
    "trends_list = [t for t in trends_list if t['tweet_volume']]\n",
    "trends_list.sort(key=itemgetter('tweet_volume'), reverse=True)\n",
    "for trend in trends_list:\n",
    "    print(trend['name'])"
   ]
  },
  {
   "cell_type": "code",
   "execution_count": null,
   "id": "af12c169",
   "metadata": {},
   "outputs": [],
   "source": [
    "us_trends = api.get_place_trends(id=23424977)\n",
    "trends_list = us_trends[0]['trends']\n",
    "trends_list = [t for t in trends_list if t['tweet_volume']]\n",
    "trends_list.sort(key=itemgetter('tweet_volume'), reverse=True)\n",
    "for trend in trends_list:\n",
    "    print(trend['name'])"
   ]
  },
  {
   "cell_type": "code",
   "execution_count": null,
   "id": "0b867292",
   "metadata": {},
   "outputs": [],
   "source": [
    "mpls_trends = api.get_place_trends(id=2452078)\n",
    "mpls_list = mpls_trends[0]['trends']\n",
    "mpls_list = [t for t in mpls_list if t['tweet_volume']]\n",
    "mpls_list.sort(key=itemgetter('tweet_volume'), reverse=True)\n",
    "for trend in mpls_list:\n",
    "    print(trend['name'])"
   ]
  },
  {
   "cell_type": "code",
   "execution_count": null,
   "id": "be3ca7e4",
   "metadata": {},
   "outputs": [],
   "source": [
    "topics = {}\n",
    "for trend in mpls_list:\n",
    "     topics[trend['name']] = trend['tweet_volume']\n",
    "wordcloud = WordCloud(width=1600, height=900,\n",
    "    prefer_horizontal=0.5, min_font_size=10, colormap='prism',\n",
    "    background_color='white')\n",
    "wordcloud = wordcloud.fit_words(topics)\n",
    "wordcloud = wordcloud.to_file('MPLSTrending.png')"
   ]
  },
  {
   "cell_type": "markdown",
   "id": "f1e614e7",
   "metadata": {},
   "source": [
    "## Cleaning Tweets"
   ]
  },
  {
   "cell_type": "code",
   "execution_count": null,
   "id": "62e7cfe4",
   "metadata": {},
   "outputs": [],
   "source": [
    "p.set_options(p.OPT.URL,p.OPT.RESERVED, p.OPT.HASHTAG, p.OPT.SMILEY, p.OPT.NUMBER)\n",
    "## OPT.MENTION\n",
    "## OPT.EMOJI\n",
    "## OPT.HASHTAG\n",
    "## OPT.NUMBER\n",
    "## OPT.RESERVED (RT or FAV)\n",
    "## OPT.SMILEY\n",
    "## OPT.URL"
   ]
  },
  {
   "cell_type": "code",
   "execution_count": null,
   "id": "3c5094cf",
   "metadata": {},
   "outputs": [],
   "source": [
    "sample = 'RT #blessed @raymondjleach This 4 will 6 be 8 left https://google.com :('"
   ]
  },
  {
   "cell_type": "code",
   "execution_count": null,
   "id": "011521de",
   "metadata": {},
   "outputs": [],
   "source": [
    "p.clean(sample)"
   ]
  },
  {
   "cell_type": "markdown",
   "id": "90207be0",
   "metadata": {},
   "source": [
    "## Streaming Tweets"
   ]
  },
  {
   "cell_type": "code",
   "execution_count": null,
   "id": "cc02bcbe",
   "metadata": {},
   "outputs": [],
   "source": [
    "tweet_listener = TweetListener(\n",
    "    consumer_key = keys.TWITTER_CONSUMER_KEY, \n",
    "    consumer_secret = keys.TWITTER_CONSUMER_SECRET,\n",
    "    access_token = keys.ACCESS_TOKEN, \n",
    "    access_token_secret = keys.ACCESS_TOKEN_SECRET,limit=20)"
   ]
  },
  {
   "cell_type": "code",
   "execution_count": null,
   "id": "d82291ba",
   "metadata": {},
   "outputs": [],
   "source": [
    "## Whatever you want to follow goes into the quotes in track\n",
    "tweet_listener.filter(track=[''])"
   ]
  },
  {
   "cell_type": "code",
   "execution_count": null,
   "id": "fc4dc2b8",
   "metadata": {
    "scrolled": false
   },
   "outputs": [],
   "source": [
    "## This gives you a sample of the incoming tweets. This can get you any and everything. Beware.\n",
    "tweet_listener.sample()"
   ]
  },
  {
   "cell_type": "markdown",
   "id": "d01fb91f",
   "metadata": {},
   "source": [
    "## Sentiment Listening"
   ]
  },
  {
   "cell_type": "code",
   "execution_count": null,
   "id": "39aaaf89",
   "metadata": {},
   "outputs": [],
   "source": [
    "tweet_listener = SentimentListener(\n",
    "    consumer_key = keys.TWITTER_CONSUMER_KEY, \n",
    "    consumer_secret = keys.TWITTER_CONSUMER_SECRET,\n",
    "    access_token = keys.ACCESS_TOKEN, \n",
    "    access_token_secret = keys.ACCESS_TOKEN_SECRET, limit=)"
   ]
  },
  {
   "cell_type": "code",
   "execution_count": null,
   "id": "339a64d0",
   "metadata": {},
   "outputs": [],
   "source": [
    "tweet_listener.filter(track=[''], languages=['en'])"
   ]
  },
  {
   "cell_type": "code",
   "execution_count": null,
   "id": "ed891532",
   "metadata": {},
   "outputs": [],
   "source": [
    "tweet_listener.sentiment_dict"
   ]
  },
  {
   "cell_type": "markdown",
   "id": "356cbb6b",
   "metadata": {},
   "source": [
    "## Location Listening"
   ]
  },
  {
   "cell_type": "code",
   "execution_count": 50,
   "id": "3bdd2ac5",
   "metadata": {},
   "outputs": [],
   "source": [
    "tweet_listener = LocationListener(\n",
    "    consumer_key = keys.TWITTER_CONSUMER_KEY, \n",
    "    consumer_secret = keys.TWITTER_CONSUMER_SECRET,\n",
    "    access_token = keys.ACCESS_TOKEN, \n",
    "    access_token_secret = keys.ACCESS_TOKEN_SECRET, limit=10)"
   ]
  },
  {
   "cell_type": "code",
   "execution_count": 51,
   "id": "e7635487",
   "metadata": {
    "scrolled": true
   },
   "outputs": [
    {
     "name": "stdout",
     "output_type": "stream",
     "text": [
      "sajedul_islam_n: RT @AirdropDet: 🔍 New #Airdrop: Udego Finance\n",
      "\n",
      "💲Reward: Up to $4 worth of UDE + $2K worth of UDE referral pool \n",
      "\n",
      "🔴 Start the airdrop bot: h…\n",
      "\n",
      "Ishi4_SSR: RT @SumanaLahiri19: Any digital footprint is never truly omitted.There is always a way to retrieve it. \n",
      "There are many people right now who…\n",
      "\n",
      "CrispConger: RT @MatiH_ID: 1/2) I joined @AlJazeera_World to discuss the Pfizer drug Paxlivid. While preliminary data is overwhelmingly positive, we awa…\n",
      "\n",
      "nirzanmohamad: @a_muizzz @omarqe I can't speak for everyone, ap yg sy tahu STEM always evolve that's include Computer Science, mas… https://t.co/Qme2ME4nEm\n",
      "\n",
      "DivyaSSRian: RT @AhujaRanjeeta: Much thanks @GemsOfBollywood \n",
      "🙏🏻\n",
      "We reciprocate mutual respect and yes we are not keeping quiet until we get complete ju…\n",
      "\n",
      "Airedaza: RT @EOrtizOspina: How do people spend their time? This chart answers using cross-country time use data.\n",
      "\n",
      "Studying how people across the wor…\n",
      "\n",
      "mat_boschh: But you can't get her while you are still broke🙆\n",
      "\n",
      "Sthakur07524446: RT @NehaT1923: Please CBI find out the culprits..\n",
      "Interrogate about Sushant's hard drives.\n",
      "\n",
      "SSR Truth Lies In Digital Data https://t.co/FUy…\n",
      "\n",
      "JhonDurux: RT @AirdropDet: 🔍 New #Airdrop: Udego Finance\n",
      "\n",
      "💲Reward: Up to $4 worth of UDE + $2K worth of UDE referral pool \n",
      "\n",
      "🔴 Start the airdrop bot: h…\n",
      "\n"
     ]
    },
    {
     "name": "stderr",
     "output_type": "stream",
     "text": [
      "Stream connection closed by Twitter\n"
     ]
    },
    {
     "name": "stdout",
     "output_type": "stream",
     "text": [
      "bonyscribe: RT @305miami6924: Don’t criticize Ron DeSantis or you’ll end up on an enemies list… but hey who needs freedom of speech?\n",
      "\n"
     ]
    }
   ],
   "source": [
    "tweet_listener.filter(track=['data'], languages=['en'])"
   ]
  },
  {
   "cell_type": "code",
   "execution_count": 52,
   "id": "19210183",
   "metadata": {},
   "outputs": [
    {
     "data": {
      "text/plain": [
       "{'total_tweets': 17, 'locations': 10}"
      ]
     },
     "execution_count": 52,
     "metadata": {},
     "output_type": "execute_result"
    }
   ],
   "source": [
    "## How many of the tweets have location attached\n",
    "tweet_listener.counts_dict"
   ]
  },
  {
   "cell_type": "code",
   "execution_count": 53,
   "id": "151c2957",
   "metadata": {},
   "outputs": [
    {
     "name": "stdout",
     "output_type": "stream",
     "text": [
      "Getting coordinates for tweet locations...\n",
      "Done geocoding\n"
     ]
    }
   ],
   "source": [
    "bad_locations = get_geocodes(tweet_listener.tweets_list)"
   ]
  },
  {
   "cell_type": "code",
   "execution_count": 54,
   "id": "29877c5c",
   "metadata": {},
   "outputs": [
    {
     "data": {
      "text/plain": [
       "1"
      ]
     },
     "execution_count": 54,
     "metadata": {},
     "output_type": "execute_result"
    }
   ],
   "source": [
    "\n",
    "bad_locations"
   ]
  },
  {
   "cell_type": "code",
   "execution_count": 55,
   "id": "f64fa4bd",
   "metadata": {},
   "outputs": [],
   "source": [
    "df = pd.DataFrame(tweet_listener.tweets_list)\n",
    "df = df.dropna()"
   ]
  },
  {
   "cell_type": "code",
   "execution_count": 56,
   "id": "88090c1a",
   "metadata": {},
   "outputs": [],
   "source": [
    "usmap = folium.Map(location=[39.8283, -98.5795], tiles='Stamen Terrain',zoom_start=5, detect_retina=True)"
   ]
  },
  {
   "cell_type": "code",
   "execution_count": 57,
   "id": "66fa7146",
   "metadata": {},
   "outputs": [],
   "source": [
    "for t in df.itertuples():\n",
    "    text = ': '.join([t.screen_name, t.text])\n",
    "    popup = folium.Popup(text, parse_html=True)\n",
    "    marker = folium.Marker((t.latitude, t.longitude),popup=popup)\n",
    "    marker.add_to(usmap)"
   ]
  },
  {
   "cell_type": "code",
   "execution_count": 58,
   "id": "424cafc6",
   "metadata": {},
   "outputs": [],
   "source": [
    "usmap.save('tweet_map.html')"
   ]
  },
  {
   "cell_type": "code",
   "execution_count": null,
   "id": "6b222887",
   "metadata": {},
   "outputs": [],
   "source": []
  }
 ],
 "metadata": {
  "kernelspec": {
   "display_name": "Python 3 (ipykernel)",
   "language": "python",
   "name": "python3"
  },
  "language_info": {
   "codemirror_mode": {
    "name": "ipython",
    "version": 3
   },
   "file_extension": ".py",
   "mimetype": "text/x-python",
   "name": "python",
   "nbconvert_exporter": "python",
   "pygments_lexer": "ipython3",
   "version": "3.9.7"
  }
 },
 "nbformat": 4,
 "nbformat_minor": 5
}
