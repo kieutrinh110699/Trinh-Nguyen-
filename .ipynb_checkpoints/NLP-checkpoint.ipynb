{
 "cells": [
  {
   "cell_type": "code",
   "execution_count": null,
   "id": "8de93079",
   "metadata": {},
   "outputs": [],
   "source": [
    "from pathlib import Path\n",
    "from textblob import TextBlob\n",
    "from textblob.sentiments import NaiveBayesAnalyzer\n",
    "from nltk.corpus import stopwords\n",
    "import nltk\n",
    "from operator import itemgetter\n",
    "import pandas as pd\n",
    "import matplotlib.pyplot as plt\n",
    "from pathlib import Path\n",
    "import imageio\n",
    "from wordcloud import WordCloud\n",
    "from textatistic import Textatistic\n",
    "from textblob import Word"
   ]
  },
  {
   "cell_type": "markdown",
   "id": "ea94ac08",
   "metadata": {},
   "source": [
    "Run these in your terminal as I cannot find the packages in the Anaconda GUI\n",
    "\n",
    "conda install -c conda-forge textblob\n",
    "\n",
    "ipython -m textblob.download_corpora\n",
    "\n",
    "conda install -c conda-forge wordcloud"
   ]
  },
  {
   "cell_type": "markdown",
   "id": "0b35d116",
   "metadata": {},
   "source": [
    "# With our text file in the same directory we can read it into a TextBlob"
   ]
  },
  {
   "cell_type": "code",
   "execution_count": null,
   "id": "8b75deda",
   "metadata": {},
   "outputs": [],
   "source": [
    "blob = TextBlob(Path('The Communist Manifesto.txt').read_text())"
   ]
  },
  {
   "cell_type": "markdown",
   "id": "61ac6654",
   "metadata": {},
   "source": [
    "# Tokenization: This will break the blob into sentences"
   ]
  },
  {
   "cell_type": "code",
   "execution_count": null,
   "id": "caaeb29c",
   "metadata": {},
   "outputs": [],
   "source": [
    "blob.sentences"
   ]
  },
  {
   "cell_type": "markdown",
   "id": "20e8ae88",
   "metadata": {},
   "source": [
    "# Tokenization: This will break the blob into words"
   ]
  },
  {
   "cell_type": "code",
   "execution_count": null,
   "id": "757645c0",
   "metadata": {},
   "outputs": [],
   "source": [
    "blob.words"
   ]
  },
  {
   "cell_type": "markdown",
   "id": "8b466ab1",
   "metadata": {},
   "source": [
    "# Parts-of-Speech Tagging"
   ]
  },
  {
   "cell_type": "code",
   "execution_count": null,
   "id": "f60b0238",
   "metadata": {
    "scrolled": false
   },
   "outputs": [],
   "source": [
    "blob.tags"
   ]
  },
  {
   "cell_type": "markdown",
   "id": "6f712afe",
   "metadata": {},
   "source": [
    "# Noun Phrases"
   ]
  },
  {
   "cell_type": "code",
   "execution_count": null,
   "id": "c53666ca",
   "metadata": {},
   "outputs": [],
   "source": [
    "blob.noun_phrases"
   ]
  },
  {
   "cell_type": "markdown",
   "id": "91fceabd",
   "metadata": {},
   "source": [
    "# Sentiment Analysis: Polarity and Subjectivity"
   ]
  },
  {
   "cell_type": "code",
   "execution_count": null,
   "id": "3e6b3dce",
   "metadata": {},
   "outputs": [],
   "source": [
    "blob.sentiment"
   ]
  },
  {
   "cell_type": "markdown",
   "id": "4e63d6aa",
   "metadata": {},
   "source": [
    "# Sentiment by Sentence"
   ]
  },
  {
   "cell_type": "code",
   "execution_count": null,
   "id": "cf29969f",
   "metadata": {},
   "outputs": [],
   "source": [
    "for sentence in blob.sentences:\n",
    "    print(sentence.sentiment)"
   ]
  },
  {
   "cell_type": "markdown",
   "id": "b3ad4cd6",
   "metadata": {},
   "source": [
    "# Naive Bayes Sentiment: Need to reload the TextBlob but specify that we want to use a Naive Bayes Analyzer"
   ]
  },
  {
   "cell_type": "code",
   "execution_count": null,
   "id": "8178590b",
   "metadata": {},
   "outputs": [],
   "source": [
    "blob = TextBlob(Path('The Communist Manifesto.txt').read_text(), analyzer=NaiveBayesAnalyzer())"
   ]
  },
  {
   "cell_type": "code",
   "execution_count": null,
   "id": "0b79d2c0",
   "metadata": {},
   "outputs": [],
   "source": [
    "blob.sentiment"
   ]
  },
  {
   "cell_type": "code",
   "execution_count": null,
   "id": "26d873fd",
   "metadata": {},
   "outputs": [],
   "source": [
    "for sentence in blob.sentences:\n",
    "    print(sentence.sentiment)"
   ]
  },
  {
   "cell_type": "markdown",
   "id": "d2d56198",
   "metadata": {},
   "source": [
    "# This is how we would translate if we didn't get an error"
   ]
  },
  {
   "cell_type": "code",
   "execution_count": null,
   "id": "641cd1bc",
   "metadata": {},
   "outputs": [],
   "source": [
    "#blob.detect_language()\n",
    "#blob.translate(to='es')"
   ]
  },
  {
   "cell_type": "markdown",
   "id": "00923229",
   "metadata": {},
   "source": [
    "# Inflections: Pluralization and Singularization"
   ]
  },
  {
   "cell_type": "code",
   "execution_count": null,
   "id": "17e8ac88",
   "metadata": {},
   "outputs": [],
   "source": [
    "word=Word('society')\n",
    "word.pluralize()"
   ]
  },
  {
   "cell_type": "code",
   "execution_count": null,
   "id": "9416dfb4",
   "metadata": {},
   "outputs": [],
   "source": [
    "word=Word('societies')\n",
    "word.singularize()"
   ]
  },
  {
   "cell_type": "markdown",
   "id": "6af600de",
   "metadata": {},
   "source": [
    "# Spellcheck"
   ]
  },
  {
   "cell_type": "code",
   "execution_count": null,
   "id": "c6e67a16",
   "metadata": {},
   "outputs": [],
   "source": [
    "word=Word('sorities')\n",
    "word.spellcheck()"
   ]
  },
  {
   "cell_type": "code",
   "execution_count": null,
   "id": "6d8ef04b",
   "metadata": {},
   "outputs": [],
   "source": [
    "word.correct()"
   ]
  },
  {
   "cell_type": "markdown",
   "id": "eef3d7db",
   "metadata": {},
   "source": [
    "# Stemming and Lemmatization"
   ]
  },
  {
   "cell_type": "code",
   "execution_count": null,
   "id": "6d974778",
   "metadata": {},
   "outputs": [],
   "source": [
    "word = Word('societies')\n",
    "word.stem()"
   ]
  },
  {
   "cell_type": "code",
   "execution_count": null,
   "id": "677b2000",
   "metadata": {},
   "outputs": [],
   "source": [
    "word.lemmatize()"
   ]
  },
  {
   "cell_type": "markdown",
   "id": "cee24362",
   "metadata": {},
   "source": [
    "# Simple word Counts"
   ]
  },
  {
   "cell_type": "code",
   "execution_count": null,
   "id": "41ab5e39",
   "metadata": {},
   "outputs": [],
   "source": [
    "blob.word_counts['society']"
   ]
  },
  {
   "cell_type": "markdown",
   "id": "e03468d5",
   "metadata": {},
   "source": [
    "# WordNet"
   ]
  },
  {
   "cell_type": "code",
   "execution_count": null,
   "id": "a32427d0",
   "metadata": {},
   "outputs": [],
   "source": [
    "word=Word('happy')\n",
    "word.definitions"
   ]
  },
  {
   "cell_type": "code",
   "execution_count": null,
   "id": "3f8ce1e2",
   "metadata": {},
   "outputs": [],
   "source": [
    "word.synsets"
   ]
  },
  {
   "cell_type": "code",
   "execution_count": null,
   "id": "38f7a944",
   "metadata": {},
   "outputs": [],
   "source": [
    "synonyms = set()\n",
    "\n",
    "for synset in word.synsets:\n",
    "     for lemma in synset.lemmas():\n",
    "        synonyms.add(lemma.name())\n",
    "synonyms"
   ]
  },
  {
   "cell_type": "code",
   "execution_count": null,
   "id": "f41d76c4",
   "metadata": {},
   "outputs": [],
   "source": [
    "lemmas = word.synsets[0].lemmas()\n",
    "lemmas[0].antonyms()"
   ]
  },
  {
   "cell_type": "markdown",
   "id": "766f5e8f",
   "metadata": {},
   "source": [
    "# n-grams"
   ]
  },
  {
   "cell_type": "code",
   "execution_count": null,
   "id": "4ec950c9",
   "metadata": {},
   "outputs": [],
   "source": [
    "blob.ngrams()"
   ]
  },
  {
   "cell_type": "markdown",
   "id": "66c269a4",
   "metadata": {},
   "source": [
    "# Stopwords"
   ]
  },
  {
   "cell_type": "code",
   "execution_count": null,
   "id": "233462ca",
   "metadata": {},
   "outputs": [],
   "source": [
    "stop_words = stopwords.words('english')\n",
    "stop_words"
   ]
  },
  {
   "cell_type": "markdown",
   "id": "3e44cc0f",
   "metadata": {},
   "source": [
    "Removing them from our text"
   ]
  },
  {
   "cell_type": "code",
   "execution_count": null,
   "id": "f68b0b9e",
   "metadata": {},
   "outputs": [],
   "source": [
    "tokens = blob.words.lower()\n",
    "filtered = [w for w in tokens if not w in stop_words]\n",
    "filtered"
   ]
  },
  {
   "cell_type": "markdown",
   "id": "4de1a3d8",
   "metadata": {},
   "source": [
    "# Graphics"
   ]
  },
  {
   "cell_type": "markdown",
   "id": "de3fc1ee",
   "metadata": {},
   "source": [
    "Creating a frequency table"
   ]
  },
  {
   "cell_type": "code",
   "execution_count": null,
   "id": "809824fa",
   "metadata": {},
   "outputs": [],
   "source": [
    "items = blob.word_counts.items()\n",
    "items = [item for item in items if item[0] not in stop_words]"
   ]
  },
  {
   "cell_type": "markdown",
   "id": "431821fc",
   "metadata": {},
   "source": [
    "Sorting them and returning top 20 most common words"
   ]
  },
  {
   "cell_type": "code",
   "execution_count": null,
   "id": "5d3c6805",
   "metadata": {},
   "outputs": [],
   "source": [
    "sorted_items = sorted(items, key=itemgetter(1), reverse=True)\n",
    "top20 = sorted_items[1:21]\n",
    "top20"
   ]
  },
  {
   "cell_type": "markdown",
   "id": "869730fb",
   "metadata": {},
   "source": [
    "Creating a graph of most common words"
   ]
  },
  {
   "cell_type": "code",
   "execution_count": null,
   "id": "59e2dbab",
   "metadata": {
    "scrolled": true
   },
   "outputs": [],
   "source": [
    "df = pd.DataFrame(top20, columns=['word', 'count'])\n",
    "axes = df.plot.bar(x='word', y='count', legend=False)\n",
    "plt.gcf().tight_layout()"
   ]
  },
  {
   "cell_type": "markdown",
   "id": "8847420b",
   "metadata": {},
   "source": [
    "Creating a Word Cloud"
   ]
  },
  {
   "cell_type": "code",
   "execution_count": null,
   "id": "3c2f5ef4",
   "metadata": {},
   "outputs": [],
   "source": [
    "text = Path('The Communist Manifesto.txt').read_text()\n",
    "mask_image = imageio.imread('hammer.png')\n",
    "wordcloud = WordCloud(colormap='plasma',mask=mask_image,background_color='white')\n",
    "wordcloud = wordcloud.generate(text)\n",
    "wordcloud = wordcloud.to_file('commiehammer.png')\n",
    "plt.imshow(wordcloud)"
   ]
  }
 ],
 "metadata": {
  "kernelspec": {
   "display_name": "Python 3 (ipykernel)",
   "language": "python",
   "name": "python3"
  },
  "language_info": {
   "codemirror_mode": {
    "name": "ipython",
    "version": 3
   },
   "file_extension": ".py",
   "mimetype": "text/x-python",
   "name": "python",
   "nbconvert_exporter": "python",
   "pygments_lexer": "ipython3",
   "version": "3.9.7"
  }
 },
 "nbformat": 4,
 "nbformat_minor": 5
}
